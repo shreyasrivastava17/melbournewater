{
  "nbformat": 4,
  "nbformat_minor": 0,
  "metadata": {
    "colab": {
      "name": "Hello,_Colaboratory (2).ipynb",
      "version": "0.3.2",
      "provenance": [],
      "collapsed_sections": []
    },
    "kernelspec": {
      "display_name": "Python 3",
      "name": "python3"
    }
  },
  "cells": [
    {
      "metadata": {
        "id": "ab9JnijZMV3O",
        "colab_type": "code",
        "colab": {
          "base_uri": "https://localhost:8080/",
          "height": 119
        },
        "outputId": "508b87ba-34a3-4579-e92e-f409285cf1b2"
      },
      "cell_type": "code",
      "source": [
        "#!git clone https://github.com/anupamhap/mb.git\n",
        "!git clone https://github.com/shreyasrivastava17/melbournewater.git"
      ],
      "execution_count": 1,
      "outputs": [
        {
          "output_type": "stream",
          "text": [
            "Cloning into 'melbournewater'...\n",
            "remote: Counting objects: 184, done.\u001b[K\n",
            "remote: Compressing objects: 100% (59/59), done.\u001b[K\n",
            "remote: Total 184 (delta 0), reused 0 (delta 0), pack-reused 125\u001b[K\n",
            "Receiving objects: 100% (184/184), 9.43 MiB | 54.27 MiB/s, done.\n",
            "Resolving deltas: 100% (6/6), done.\n"
          ],
          "name": "stdout"
        }
      ]
    },
    {
      "metadata": {
        "id": "zLeI0uuCM6y5",
        "colab_type": "code",
        "colab": {}
      },
      "cell_type": "code",
      "source": [
        "!pwd"
      ],
      "execution_count": 0,
      "outputs": []
    },
    {
      "metadata": {
        "id": "Tde9EpwqNse-",
        "colab_type": "code",
        "colab": {
          "base_uri": "https://localhost:8080/",
          "height": 17
        },
        "outputId": "4b9351d4-289c-4a29-cd7a-6d3290276546"
      },
      "cell_type": "code",
      "source": [
        "import os\n",
        "os.chdir(\"melbournewater\")\n"
      ],
      "execution_count": 3,
      "outputs": []
    },
    {
      "metadata": {
        "id": "Js9yzZEQN7H7",
        "colab_type": "code",
        "colab": {
          "base_uri": "https://localhost:8080/",
          "height": 34
        },
        "outputId": "8a45d5e0-67ac-40cd-ff41-9c7ad76972d6"
      },
      "cell_type": "code",
      "source": [
        "!ls"
      ],
      "execution_count": 4,
      "outputs": [
        {
          "output_type": "stream",
          "text": [
            "data  Debris Detection\tREADME.md\r\n"
          ],
          "name": "stdout"
        }
      ]
    },
    {
      "metadata": {
        "id": "_kwW0eTmOCrv",
        "colab_type": "code",
        "colab": {
          "base_uri": "https://localhost:8080/",
          "height": 17
        },
        "outputId": "2c8d20d5-d91b-472b-8649-f9d4497e00e3"
      },
      "cell_type": "code",
      "source": [
        "import csv\n",
        "import matplotlib.image as mpimg\n",
        "import cv2\n",
        "import numpy as np\n",
        "import os\n",
        "import logging\n",
        "import glob"
      ],
      "execution_count": 5,
      "outputs": []
    },
    {
      "metadata": {
        "id": "KZdoJrWpOXk1",
        "colab_type": "code",
        "colab": {
          "base_uri": "https://localhost:8080/",
          "height": 34
        },
        "outputId": "c4016ef0-9330-4a6d-ad0b-745e620d5d77"
      },
      "cell_type": "code",
      "source": [
        "from keras.models import Sequential\n",
        "from keras.layers import Flatten, Dense, Lambda, Dropout, Activation, Cropping2D\n",
        "from keras.layers.convolutional import Convolution2D\n",
        "from keras.layers.pooling import MaxPooling2D\n",
        "from sklearn.model_selection import train_test_split\n",
        "import sklearn"
      ],
      "execution_count": 6,
      "outputs": [
        {
          "output_type": "stream",
          "text": [
            "Using TensorFlow backend.\n"
          ],
          "name": "stderr"
        }
      ]
    },
    {
      "metadata": {
        "id": "UIPgIYrkOaPq",
        "colab_type": "code",
        "colab": {}
      },
      "cell_type": "code",
      "source": [
        ""
      ],
      "execution_count": 0,
      "outputs": []
    },
    {
      "metadata": {
        "id": "_qI3POGKPQQh",
        "colab_type": "code",
        "colab": {
          "base_uri": "https://localhost:8080/",
          "height": 17
        },
        "outputId": "cc39800c-c741-4647-f10e-c9a873f121c5"
      },
      "cell_type": "code",
      "source": [
        "width = 58\n",
        "height = 58\n",
        "\n",
        "images = []"
      ],
      "execution_count": 7,
      "outputs": []
    },
    {
      "metadata": {
        "id": "_9gdSeYyPGwy",
        "colab_type": "code",
        "colab": {
          "base_uri": "https://localhost:8080/",
          "height": 51
        },
        "outputId": "2844f4d0-92ba-4452-e3ec-7c8d0154bd96"
      },
      "cell_type": "code",
      "source": [
        "roots   = glob.glob('data/debris/*.PNG')\n",
        "non_roots   = glob.glob('data/non-debris/*.PNG')\n",
        "# non_roots   += glob.glob('data/non_tree/*.jpg')\n",
        "print(len(roots), len(non_roots))\n",
        "img=cv2.imread(roots[0])\n",
        "print(img.shape)"
      ],
      "execution_count": 12,
      "outputs": [
        {
          "output_type": "stream",
          "text": [
            "46 55\n",
            "(199, 202, 3)\n"
          ],
          "name": "stdout"
        }
      ]
    },
    {
      "metadata": {
        "id": "mSTthRlVPhKn",
        "colab_type": "code",
        "colab": {
          "base_uri": "https://localhost:8080/",
          "height": 17
        },
        "outputId": "d80aeb5a-db63-4c1d-c067-6adbd36cb777"
      },
      "cell_type": "code",
      "source": [
        "img_size=64\n",
        "def show3img(img, img1, img2):\n",
        "   plt.figure(figsize=(6, 2))\n",
        "   plt.subplot(1, 3, 1)\n",
        "   plt.imshow(img)\n",
        "   plt.title(\"Raw image\")\n",
        "   plt.subplot(1, 3, 2)\n",
        "   plt.imshow(img1)\n",
        "   plt.title(\"Processed image\")\n",
        "   plt.subplot(1, 3, 3)\n",
        "   plt.imshow(img2)\n",
        "   plt.title(\"Augmented image\")\n",
        "   plt.show()\n",
        "   \n",
        "def eq_Hist(img):\n",
        "   #Histogram Equalization\n",
        "   img2=img.copy()\n",
        "   img2[:, :, 0] = cv2.equalizeHist(img[:, :, 0])\n",
        "   img2[:, :, 1] = cv2.equalizeHist(img[:, :, 1])\n",
        "   img2[:, :, 2] = cv2.equalizeHist(img[:, :, 2])\n",
        "   return img2\n",
        "\n",
        "def scale_img(img):\n",
        "   img2=img.copy()\n",
        "   sc_y=0.4*np.random.rand()+1.0\n",
        "   img2=cv2.resize(img, None, fx=1, fy=sc_y, interpolation = cv2.INTER_CUBIC)\n",
        "   c_x,c_y, sh = int(img2.shape[0]/2), int(img2.shape[1]/2), int(img_size/2)\n",
        "   return img2\n",
        "\n",
        "def crop(img, mar=0):\n",
        "   c_x,c_y, sh = int(img.shape[0]/2), int(img.shape[1]/2), int(img_size/2-mar)\n",
        "   return img[(c_x-sh):(c_x+sh),(c_y-sh):(c_y+sh)]\n",
        "\n",
        "def rotate_img(img):\n",
        "   c_x,c_y = int(img.shape[0]/2), int(img.shape[1]/2)\n",
        "   ang = 30.0*np.random.rand()-15\n",
        "   Mat = cv2.getRotationMatrix2D((c_x, c_y), ang, 1.0)\n",
        "   return cv2.warpAffine(img, Mat, img.shape[:2])\n",
        "\n",
        "def sharpen_img(img):\n",
        "   gb = cv2.GaussianBlur(img, (5,5), 20.0)\n",
        "   return cv2.addWeighted(img, 2, gb, -1, 0)\n",
        "#Compute linear image transformation ing*s+m\n",
        "def lin_img(img,s=1.0,m=0.0):\n",
        "   img2=cv2.multiply(img, np.array([s]))\n",
        "   return cv2.add(img2, np.array([m]))\n",
        "\n",
        "#Change image contrast; s>1 - increase\n",
        "def contr_img(img, s=1.0):\n",
        "   m=127.0*(1.0-s)\n",
        "   return lin_img(img, s, m)\n",
        "\n",
        "def transform_img(img):\n",
        "   img2=sharpen_img(img)\n",
        "   img2=crop(img2,3)\n",
        "   img2=contr_img(img2, 1.5)\n",
        "   return eq_Hist(img2)\n",
        "\n",
        "def augment_img(img):\n",
        "   img=contr_img(img, 1.8*np.random.rand()+0.2)\n",
        "   img=rotate_img(img)\n",
        "   img=scale_img(img)\n",
        "   return transform_img(img)\n"
      ],
      "execution_count": 10,
      "outputs": []
    },
    {
      "metadata": {
        "id": "3yWr5ZHEQqZT",
        "colab_type": "code",
        "colab": {
          "base_uri": "https://localhost:8080/",
          "height": 34
        },
        "outputId": "979b2172-3e66-4422-afad-cdb53dc6d008"
      },
      "cell_type": "code",
      "source": [
        "X_train_aug_roots = []\n",
        "y_train_aug = []\n",
        "\n",
        "def create_data(n=10):\n",
        "   for i in range(len(roots)):\n",
        "       img=cv2.imread(roots[i])\n",
        "       img=cv2.resize(img, (64, 64))\n",
        "       X_train_aug_roots.append(transform_img(img))\n",
        "       y_train_aug.append(1)\n",
        "       #Generate n new images out of each input image\n",
        "       for j in range(n):\n",
        "           X_train_aug_roots.append(augment_img(img))\n",
        "           y_train_aug.append(1)      \n",
        "   print(\"Total number of images in the augmented dataset = \", len(X_train_aug_roots))\n",
        "\n",
        "create_data(7)"
      ],
      "execution_count": 26,
      "outputs": [
        {
          "output_type": "stream",
          "text": [
            "Total number of images in the augmented dataset =  368\n"
          ],
          "name": "stdout"
        }
      ]
    },
    {
      "metadata": {
        "id": "gsDy9FImQ2dA",
        "colab_type": "code",
        "colab": {
          "base_uri": "https://localhost:8080/",
          "height": 34
        },
        "outputId": "d8f3f253-2bb1-4859-a16d-85a6a9a2d129"
      },
      "cell_type": "code",
      "source": [
        "def create_data(n=10):\n",
        "   for i in range(len(non_roots)):\n",
        "       img=cv2.imread(non_roots[i])\n",
        "       img=cv2.resize(img, (64, 64))\n",
        "       X_train_aug_roots.append(transform_img(img))\n",
        "       y_train_aug.append(0)\n",
        "       #Generate n new images out of each input image\n",
        "       for j in range(n):\n",
        "           X_train_aug_roots.append(augment_img(img))\n",
        "           y_train_aug.append(0)      \n",
        "   print(\"Total number of images in the augmented dataset = \", len(X_train_aug_roots))\n",
        "\n",
        "create_data(7)"
      ],
      "execution_count": 27,
      "outputs": [
        {
          "output_type": "stream",
          "text": [
            "Total number of images in the augmented dataset =  808\n"
          ],
          "name": "stdout"
        }
      ]
    },
    {
      "metadata": {
        "id": "CblQUREDjv6Y",
        "colab_type": "code",
        "colab": {
          "base_uri": "https://localhost:8080/",
          "height": 51
        },
        "outputId": "5431c0b2-014a-4c72-ff71-527134a9df1c"
      },
      "cell_type": "code",
      "source": [
        "print(len(roots))\n",
        "print(X_train_aug_roots[0].shape)"
      ],
      "execution_count": 28,
      "outputs": [
        {
          "output_type": "stream",
          "text": [
            "46\n",
            "(58, 58, 3)\n"
          ],
          "name": "stdout"
        }
      ]
    },
    {
      "metadata": {
        "id": "-6yLv7-HQ6Qz",
        "colab_type": "code",
        "colab": {
          "base_uri": "https://localhost:8080/",
          "height": 34
        },
        "outputId": "7b510355-0c0a-455f-cbb3-824ac660a95b"
      },
      "cell_type": "code",
      "source": [
        "for i in range(len(roots)):\n",
        "     img=cv2.imread(roots[i])\n",
        "     img=cv2.resize(img, (58, 58))\n",
        "     X_train_aug_roots.append(img)\n",
        "     y_train_aug.append(1)\n",
        "\n",
        "for i in range(len(non_roots)):\n",
        "     img=cv2.imread(non_roots[i])\n",
        "     img=cv2.resize(img, (58, 58))\n",
        "     X_train_aug_roots.append(img)\n",
        "     y_train_aug.append(0)\n",
        "   \n",
        "print(len(y_train_aug))"
      ],
      "execution_count": 29,
      "outputs": [
        {
          "output_type": "stream",
          "text": [
            "909\n"
          ],
          "name": "stdout"
        }
      ]
    },
    {
      "metadata": {
        "id": "_Ws5CHJ6Q_GC",
        "colab_type": "code",
        "colab": {
          "base_uri": "https://localhost:8080/",
          "height": 17
        },
        "outputId": "de8e7db5-a8da-4bf0-cfca-0fcb533afa36"
      },
      "cell_type": "code",
      "source": [
        "activation = 'relu'\n",
        "dropout = 1\n",
        "\n",
        "def model(dshape):\n",
        "    \n",
        "    seq_model = Sequential()\n",
        "\n",
        "    seq_model.add(BatchNormalization(input_shape=(dshape[0], dshape[1], dshape[2])))\n",
        "    seq_model.add(Conv2D(24, (5, 5), padding='valid',\n",
        "                  activation=activation, strides=(2, 2)))\n",
        "\n",
        "    seq_model.add(Conv2D(36, (5, 5), padding='valid', activation=activation, strides=(2, 2)))\n",
        "    seq_model.add(Dropout(0.6))\n",
        "    seq_model.add(Conv2D(48, (5, 5), padding='valid', activation=activation, strides=(2, 2)))\n",
        "    seq_model.add(Dropout(0.6))\n",
        "    seq_model.add(Conv2D(64, (3, 3), padding='valid', activation=activation))\n",
        "    seq_model.add(Dropout(0.6))\n",
        "#   seq_model.add(Conv2D(64, (3, 3), padding='valid', activation=activation))\n",
        "    seq_model.add(Flatten())\n",
        "    seq_model.add(Dropout(0.6))\n",
        "    seq_model.add(Dense(100, activation=activation))\n",
        "    seq_model.add(Dropout(0.5))\n",
        "    seq_model.add(Dense(50, activation=activation))\n",
        "    seq_model.add(Dropout(0.3))\n",
        "    seq_model.add(Dense(10, activation=activation))\n",
        "    seq_model.add(Dense(1, activation='sigmoid'))\n",
        "    seq_model.compile(loss='binary_crossentropy', optimizer=adam(), metrics=['accuracy'])\n",
        "    seq_model.summary()\n",
        "\n",
        "    return seq_model"
      ],
      "execution_count": 30,
      "outputs": []
    },
    {
      "metadata": {
        "id": "8daIf7EYQ9Cb",
        "colab_type": "code",
        "colab": {
          "base_uri": "https://localhost:8080/",
          "height": 17
        },
        "outputId": "7608263e-1c02-47a1-f1ff-d8cb7269877d"
      },
      "cell_type": "code",
      "source": [
        "from sklearn.utils import shuffle\n",
        "from keras.utils.data_utils import Sequence\n",
        "\n",
        "images, labels = shuffle(X_train_aug_roots, y_train_aug)"
      ],
      "execution_count": 31,
      "outputs": []
    },
    {
      "metadata": {
        "id": "pbtYATC6jm6T",
        "colab_type": "code",
        "colab": {
          "base_uri": "https://localhost:8080/",
          "height": 17
        },
        "outputId": "d1a2a7bf-2c2a-461f-d057-6dc26dd54265"
      },
      "cell_type": "code",
      "source": [
        "for i in range(len(X_train_aug_roots)):\n",
        "  if(X_train_aug_roots[i].shape[2]!=3):\n",
        "    print(X_train_aug_roots[i].shape)"
      ],
      "execution_count": 32,
      "outputs": []
    },
    {
      "metadata": {
        "id": "Bdwr1ereT9_4",
        "colab_type": "code",
        "colab": {
          "base_uri": "https://localhost:8080/",
          "height": 476
        },
        "outputId": "d118199c-bd7b-47d3-b34a-bd3e6f323c3e"
      },
      "cell_type": "code",
      "source": [
        "images = np.asarray(images)\n",
        "labels = np.asarray(labels)\n",
        "print(images.dtype, images.shape)\n",
        "print(type(images))\n",
        "print(labels)"
      ],
      "execution_count": 33,
      "outputs": [
        {
          "output_type": "stream",
          "text": [
            "uint8 (909, 58, 58, 3)\n",
            "<class 'numpy.ndarray'>\n",
            "[0 0 0 0 0 1 1 0 0 0 0 1 0 1 0 1 0 0 0 1 0 1 0 1 1 1 0 0 0 0 0 0 0 1 1 0 0\n",
            " 0 1 0 1 1 1 1 0 0 0 0 0 1 1 1 0 0 0 1 1 0 1 0 0 0 1 0 0 1 0 0 0 1 0 0 1 1\n",
            " 0 1 1 0 0 0 1 0 1 1 1 0 0 0 0 0 1 1 1 1 0 0 0 0 1 0 0 1 0 0 1 1 1 1 0 1 0\n",
            " 1 0 0 0 1 1 1 1 0 1 1 0 0 1 1 1 0 1 0 0 1 0 0 1 1 0 0 0 0 1 0 0 0 0 0 1 1\n",
            " 0 1 1 0 0 1 0 1 1 0 0 1 1 0 1 1 1 1 0 1 1 1 1 0 1 1 1 0 1 0 0 1 0 0 1 1 1\n",
            " 0 1 0 1 0 0 1 0 0 1 1 1 0 1 1 0 1 0 1 0 1 0 0 1 0 0 0 1 0 0 0 1 0 1 1 0 0\n",
            " 1 0 0 1 0 0 0 1 0 1 1 0 0 0 0 0 1 0 1 1 1 1 0 0 1 1 0 0 0 0 0 0 0 0 1 0 1\n",
            " 0 1 0 1 0 1 1 1 0 0 0 0 0 0 0 1 0 0 1 1 1 0 0 0 1 0 1 0 1 1 0 1 0 0 0 1 1\n",
            " 1 1 1 1 1 0 1 0 1 0 0 0 0 1 0 0 0 1 0 0 1 0 1 1 0 0 1 0 0 0 1 0 0 0 1 0 0\n",
            " 1 1 1 0 1 1 0 1 0 0 0 0 0 0 0 0 0 1 1 1 0 1 1 0 1 1 1 0 1 0 0 0 0 1 1 1 1\n",
            " 1 0 0 0 0 1 1 1 0 1 0 1 0 1 0 0 0 1 0 1 0 0 1 1 1 1 0 0 1 1 0 0 0 0 0 1 1\n",
            " 0 1 1 1 0 0 0 1 1 1 0 1 0 0 1 0 1 0 0 0 0 0 1 0 1 1 0 1 0 0 1 1 0 0 0 1 0\n",
            " 0 1 0 0 0 0 0 0 1 0 0 1 1 1 1 1 0 1 0 1 0 0 0 0 0 0 0 1 0 0 1 1 0 1 1 1 1\n",
            " 1 1 1 1 0 1 0 0 1 1 1 1 0 1 0 0 0 0 0 1 0 0 1 1 0 0 0 0 0 0 0 0 1 1 0 0 0\n",
            " 0 0 1 1 0 0 0 1 1 0 1 1 1 0 0 0 1 0 1 0 1 1 1 1 1 1 1 1 0 1 0 1 0 1 0 0 0\n",
            " 1 0 0 1 0 0 1 1 1 0 1 0 0 0 0 1 0 0 0 0 1 1 0 1 1 1 1 0 1 0 1 1 1 0 1 0 0\n",
            " 1 0 1 0 0 1 0 1 1 0 0 0 0 0 0 1 1 1 0 1 0 0 1 1 1 0 0 1 0 1 1 1 1 0 0 0 1\n",
            " 0 0 0 0 0 0 0 0 1 0 0 0 0 1 0 1 0 0 1 0 1 1 1 1 0 0 0 1 1 1 0 0 1 1 0 0 0\n",
            " 1 0 1 0 1 1 0 1 0 0 0 1 0 0 0 1 1 0 0 1 1 1 0 0 0 1 1 0 0 0 1 0 1 0 0 1 1\n",
            " 0 0 0 0 0 0 0 0 1 0 0 1 0 1 0 1 0 1 0 1 1 1 0 0 1 0 0 0 0 1 1 0 1 0 0 0 1\n",
            " 1 1 1 1 0 1 1 1 1 0 1 1 1 1 0 0 0 1 1 1 0 0 0 1 0 0 0 1 1 0 0 1 1 1 1 0 1\n",
            " 1 0 1 0 0 0 1 0 1 1 0 1 1 1 0 1 1 0 1 0 1 1 0 0 0 0 0 0 1 0 1 0 0 1 1 1 0\n",
            " 0 0 1 0 1 0 0 1 1 0 1 1 1 1 0 1 1 0 0 1 0 1 0 1 1 0 1 0 1 0 0 0 1 1 1 0 1\n",
            " 0 0 0 1 0 1 0 0 0 0 1 0 1 0 0 0 1 0 1 1 1 1 0 1 1 0 1 1 0 0 0 0 0 1 0 0 1\n",
            " 0 0 0 1 1 0 0 1 0 1 1 1 1 0 1 0 1 1 0 0 0]\n"
          ],
          "name": "stdout"
        }
      ]
    },
    {
      "metadata": {
        "id": "sqlcGYWFRYS6",
        "colab_type": "code",
        "colab": {
          "base_uri": "https://localhost:8080/",
          "height": 680
        },
        "outputId": "ecb714c9-bfa6-456b-a55f-74c23af6b828"
      },
      "cell_type": "code",
      "source": [
        "from keras.models import Sequential\n",
        "from keras.layers import Dense, Flatten, Conv2D, Dropout\n",
        "from keras.layers.normalization import BatchNormalization\n",
        "from keras.optimizers import adam\n",
        "#from keras.utils.data_utils import Sequence\n",
        "\n",
        "keras_model = model((height, width, 3))"
      ],
      "execution_count": 34,
      "outputs": [
        {
          "output_type": "stream",
          "text": [
            "_________________________________________________________________\n",
            "Layer (type)                 Output Shape              Param #   \n",
            "=================================================================\n",
            "batch_normalization_1 (Batch (None, 58, 58, 3)         12        \n",
            "_________________________________________________________________\n",
            "conv2d_1 (Conv2D)            (None, 27, 27, 24)        1824      \n",
            "_________________________________________________________________\n",
            "conv2d_2 (Conv2D)            (None, 12, 12, 36)        21636     \n",
            "_________________________________________________________________\n",
            "dropout_1 (Dropout)          (None, 12, 12, 36)        0         \n",
            "_________________________________________________________________\n",
            "conv2d_3 (Conv2D)            (None, 4, 4, 48)          43248     \n",
            "_________________________________________________________________\n",
            "dropout_2 (Dropout)          (None, 4, 4, 48)          0         \n",
            "_________________________________________________________________\n",
            "conv2d_4 (Conv2D)            (None, 2, 2, 64)          27712     \n",
            "_________________________________________________________________\n",
            "dropout_3 (Dropout)          (None, 2, 2, 64)          0         \n",
            "_________________________________________________________________\n",
            "flatten_1 (Flatten)          (None, 256)               0         \n",
            "_________________________________________________________________\n",
            "dropout_4 (Dropout)          (None, 256)               0         \n",
            "_________________________________________________________________\n",
            "dense_1 (Dense)              (None, 100)               25700     \n",
            "_________________________________________________________________\n",
            "dropout_5 (Dropout)          (None, 100)               0         \n",
            "_________________________________________________________________\n",
            "dense_2 (Dense)              (None, 50)                5050      \n",
            "_________________________________________________________________\n",
            "dropout_6 (Dropout)          (None, 50)                0         \n",
            "_________________________________________________________________\n",
            "dense_3 (Dense)              (None, 10)                510       \n",
            "_________________________________________________________________\n",
            "dense_4 (Dense)              (None, 1)                 11        \n",
            "=================================================================\n",
            "Total params: 125,703\n",
            "Trainable params: 125,697\n",
            "Non-trainable params: 6\n",
            "_________________________________________________________________\n"
          ],
          "name": "stdout"
        }
      ]
    },
    {
      "metadata": {
        "id": "dAuVfM5PRb0-",
        "colab_type": "code",
        "colab": {
          "base_uri": "https://localhost:8080/",
          "height": 921
        },
        "outputId": "5ef5dcae-4331-471a-e207-1f07cf077bc4"
      },
      "cell_type": "code",
      "source": [
        "keras_model.fit(images, labels, epochs=25, batch_size=32, verbose=1, shuffle=True, validation_split=0.2)"
      ],
      "execution_count": 35,
      "outputs": [
        {
          "output_type": "stream",
          "text": [
            "Train on 727 samples, validate on 182 samples\n",
            "Epoch 1/25\n",
            "727/727 [==============================] - 4s 5ms/step - loss: 0.7075 - acc: 0.5530 - val_loss: 0.6883 - val_acc: 0.5824\n",
            "Epoch 2/25\n",
            "727/727 [==============================] - 3s 4ms/step - loss: 0.6907 - acc: 0.5323 - val_loss: 0.6894 - val_acc: 0.6538\n",
            "Epoch 3/25\n",
            "727/727 [==============================] - 3s 4ms/step - loss: 0.6712 - acc: 0.5337 - val_loss: 0.6802 - val_acc: 0.6593\n",
            "Epoch 4/25\n",
            "727/727 [==============================] - 3s 4ms/step - loss: 0.6682 - acc: 0.5516 - val_loss: 0.6615 - val_acc: 0.6209\n",
            "Epoch 5/25\n",
            "727/727 [==============================] - 3s 4ms/step - loss: 0.6583 - acc: 0.5475 - val_loss: 0.6454 - val_acc: 0.6429\n",
            "Epoch 6/25\n",
            "727/727 [==============================] - 3s 4ms/step - loss: 0.6492 - acc: 0.5805 - val_loss: 0.6421 - val_acc: 0.6484\n",
            "Epoch 7/25\n",
            "727/727 [==============================] - 3s 4ms/step - loss: 0.6343 - acc: 0.5901 - val_loss: 0.6336 - val_acc: 0.6429\n",
            "Epoch 8/25\n",
            "416/727 [================>.............] - ETA: 1s - loss: 0.6273 - acc: 0.6250"
          ],
          "name": "stdout"
        },
        {
          "output_type": "stream",
          "text": [
            "727/727 [==============================] - 3s 4ms/step - loss: 0.6263 - acc: 0.6327 - val_loss: 0.6000 - val_acc: 0.6374\n",
            "Epoch 9/25\n",
            "727/727 [==============================] - 3s 4ms/step - loss: 0.6245 - acc: 0.6355 - val_loss: 0.6371 - val_acc: 0.6923\n",
            "Epoch 10/25\n",
            "727/727 [==============================] - 3s 4ms/step - loss: 0.6110 - acc: 0.6327 - val_loss: 0.5905 - val_acc: 0.6758\n",
            "Epoch 11/25\n",
            "727/727 [==============================] - 3s 4ms/step - loss: 0.6142 - acc: 0.6451 - val_loss: 0.6006 - val_acc: 0.6923\n",
            "Epoch 12/25\n",
            "727/727 [==============================] - 3s 4ms/step - loss: 0.5923 - acc: 0.6465 - val_loss: 0.5794 - val_acc: 0.6813\n",
            "Epoch 13/25\n",
            "727/727 [==============================] - 3s 4ms/step - loss: 0.6007 - acc: 0.6602 - val_loss: 0.5750 - val_acc: 0.7088\n",
            "Epoch 14/25\n",
            "727/727 [==============================] - 3s 4ms/step - loss: 0.6021 - acc: 0.6740 - val_loss: 0.5669 - val_acc: 0.7143\n",
            "Epoch 15/25\n",
            "727/727 [==============================] - 3s 4ms/step - loss: 0.5825 - acc: 0.6988 - val_loss: 0.6052 - val_acc: 0.6154\n"
          ],
          "name": "stdout"
        },
        {
          "output_type": "stream",
          "text": [
            "Epoch 16/25\n",
            "727/727 [==============================] - 3s 4ms/step - loss: 0.5784 - acc: 0.6960 - val_loss: 0.5717 - val_acc: 0.6484\n",
            "Epoch 17/25\n",
            "727/727 [==============================] - 3s 4ms/step - loss: 0.5926 - acc: 0.7001 - val_loss: 0.5509 - val_acc: 0.7527\n",
            "Epoch 18/25\n",
            "727/727 [==============================] - 3s 4ms/step - loss: 0.5756 - acc: 0.7070 - val_loss: 0.5788 - val_acc: 0.7363\n",
            "Epoch 19/25\n",
            "727/727 [==============================] - 3s 4ms/step - loss: 0.5446 - acc: 0.7373 - val_loss: 0.5439 - val_acc: 0.7418\n",
            "Epoch 20/25\n",
            "727/727 [==============================] - 3s 4ms/step - loss: 0.5529 - acc: 0.7359 - val_loss: 0.5253 - val_acc: 0.7582\n",
            "Epoch 21/25\n",
            "727/727 [==============================] - 3s 4ms/step - loss: 0.5238 - acc: 0.7758 - val_loss: 0.5005 - val_acc: 0.7912\n",
            "Epoch 22/25\n",
            "727/727 [==============================] - 3s 4ms/step - loss: 0.5196 - acc: 0.7565 - val_loss: 0.4781 - val_acc: 0.7912\n",
            "Epoch 23/25\n",
            "640/727 [=========================>....] - ETA: 0s - loss: 0.4715 - acc: 0.7781"
          ],
          "name": "stdout"
        },
        {
          "output_type": "stream",
          "text": [
            "727/727 [==============================] - 3s 4ms/step - loss: 0.4647 - acc: 0.7882 - val_loss: 0.4640 - val_acc: 0.8242\n",
            "Epoch 24/25\n",
            "727/727 [==============================] - 3s 4ms/step - loss: 0.4658 - acc: 0.8294 - val_loss: 0.4638 - val_acc: 0.8022\n",
            "Epoch 25/25\n",
            "727/727 [==============================] - 3s 4ms/step - loss: 0.4316 - acc: 0.8294 - val_loss: 0.4861 - val_acc: 0.7857\n"
          ],
          "name": "stdout"
        },
        {
          "output_type": "execute_result",
          "data": {
            "text/plain": [
              "<keras.callbacks.History at 0x7faf9aeb6f98>"
            ]
          },
          "metadata": {
            "tags": []
          },
          "execution_count": 35
        }
      ]
    },
    {
      "metadata": {
        "id": "0hA2QvNNXtiR",
        "colab_type": "text"
      },
      "cell_type": "markdown",
      "source": [
        ""
      ]
    },
    {
      "metadata": {
        "id": "g3E6Gw91R3xv",
        "colab_type": "code",
        "colab": {
          "base_uri": "https://localhost:8080/",
          "height": 17
        },
        "outputId": "a791e7ce-21a4-4c6a-b783-b1875620e71f"
      },
      "cell_type": "code",
      "source": [
        "def  save_keras_model (save_model, path):\n",
        "    \"\"\"Save keras model to given path.\"\"\"\n",
        "    save_model.save_weights(path + 'model.h5')\n",
        "\n",
        "    with open(path + 'model.json', \"w\") as text_file:\n",
        "        text_file.write(save_model.to_json())\n",
        "\n",
        "    logging.info('Keras json model saved. %s', path + 'model.json')\n",
        "    logging.info('Keras h5 model saved. %s', path + 'model.h5')"
      ],
      "execution_count": 36,
      "outputs": []
    },
    {
      "metadata": {
        "id": "HBa7XHgqYbmX",
        "colab_type": "code",
        "colab": {
          "base_uri": "https://localhost:8080/",
          "height": 17
        },
        "outputId": "42e89a7a-eb6b-44e9-b048-ff89e221f4fb"
      },
      "cell_type": "code",
      "source": [
        "save_keras_model(keras_model, 'keras')"
      ],
      "execution_count": 37,
      "outputs": []
    },
    {
      "metadata": {
        "id": "-Y4QXI-4Yl8D",
        "colab_type": "code",
        "colab": {
          "base_uri": "https://localhost:8080/",
          "height": 34
        },
        "outputId": "ed69ebed-776c-4629-e01d-c07b4ace7302"
      },
      "cell_type": "code",
      "source": [
        "!ls"
      ],
      "execution_count": 38,
      "outputs": [
        {
          "output_type": "stream",
          "text": [
            "data  Debris Detection\tkerasmodel.h5  kerasmodel.json\tREADME.md\r\n"
          ],
          "name": "stdout"
        }
      ]
    },
    {
      "metadata": {
        "id": "b3yFtGNTaKPk",
        "colab_type": "text"
      },
      "cell_type": "markdown",
      "source": [
        "# New Section"
      ]
    },
    {
      "metadata": {
        "id": "A9H1mNpgaP-0",
        "colab_type": "code",
        "colab": {
          "base_uri": "https://localhost:8080/",
          "height": 17
        },
        "outputId": "fafede48-e5d3-4d30-be86-07289a563af0"
      },
      "cell_type": "code",
      "source": [
        "from google.colab import files\n",
        "\n",
        "\n",
        "files.download('kerasmodel.h5')\n",
        "files.download('kerasmodel.json')\n"
      ],
      "execution_count": 39,
      "outputs": []
    },
    {
      "metadata": {
        "id": "Yf2bP-Oql3d_",
        "colab_type": "code",
        "colab": {
          "base_uri": "https://localhost:8080/",
          "height": 17
        },
        "outputId": "13f459ea-cfd8-4e71-c13f-c89be3c68c0a"
      },
      "cell_type": "code",
      "source": [
        "from keras.models import model_from_json\n",
        "model_path = 'kerasmodel'\n",
        "\n",
        "inf_model = model_from_json(open(model_path + '.json','r').read())\n",
        "inf_model.load_weights(model_path + '.h5')"
      ],
      "execution_count": 40,
      "outputs": []
    },
    {
      "metadata": {
        "id": "yRRItYYQameM",
        "colab_type": "code",
        "colab": {
          "base_uri": "https://localhost:8080/",
          "height": 17
        },
        "outputId": "36ec9f08-7391-4f5f-fd0b-ec2a390458d4"
      },
      "cell_type": "code",
      "source": [
        "def find_roots(img, ystart, ystop, scale, pix_per_cell,cell_per_block):#, svc, X_scaler, orient, pix_per_cell, cell_per_block,color_space,spatial_size, hist_bins):\n",
        "    \n",
        "    boxes=[]\n",
        "  \n",
        "    draw_img = np.copy(img)\n",
        "#     img = img.astype(np.float32)/255\n",
        "    \n",
        "    img_tosearch = img[ystart:ystop,:,:]\n",
        "#     ctrans_tosearch = hp.convert_color(img_tosearch, conv=color_space)\n",
        "    ctrans_tosearch = img_tosearch\n",
        "    if scale != 1:\n",
        "        imshape = ctrans_tosearch.shape\n",
        "        ctrans_tosearch = cv2.resize(ctrans_tosearch, (np.int(imshape[1]/scale), np.int(imshape[0]/scale)))\n",
        "        \n",
        "    ch1 = ctrans_tosearch[:,:,0]\n",
        "    ch2 = ctrans_tosearch[:,:,1]\n",
        "    ch3 = ctrans_tosearch[:,:,2]\n",
        "\n",
        "    # Define blocks and steps as above\n",
        "    nxblocks = (ch1.shape[1] // pix_per_cell) - cell_per_block + 1\n",
        "    nyblocks = (ch1.shape[0] // pix_per_cell) - cell_per_block + 1 \n",
        "#     nfeat_per_block = orient*cell_per_block**2\n",
        "    \n",
        "    # 64 was the orginal sampling rate, with 8 cells and 8 pix per cell\n",
        "    window = 64\n",
        "    nblocks_per_window = (window // pix_per_cell) - cell_per_block + 1\n",
        "    cells_per_step = 2  # Instead of overlap, define how many cells to step\n",
        "    nxsteps = (nxblocks - nblocks_per_window) // cells_per_step + 1\n",
        "    nysteps = (nyblocks - nblocks_per_window) // cells_per_step + 1\n",
        "    print(nxsteps)\n",
        "    \n",
        "#     # Compute individual channel HOG features for the entire image\n",
        "#     hog1 = get_hog_features(ch1, orient, pix_per_cell, cell_per_block, feature_vec=False)\n",
        "#     hog2 = get_hog_features(ch2, orient, pix_per_cell, cell_per_block, feature_vec=False)\n",
        "#     hog3 = get_hog_features(ch3, orient, pix_per_cell, cell_per_block, feature_vec=False)\n",
        "    \n",
        "    for xb in range(nxsteps):\n",
        "        for yb in range(nysteps):\n",
        "            ypos = yb*cells_per_step\n",
        "            xpos = xb*cells_per_step\n",
        "            # Extract HOG for this patch\n",
        "#             hog_feat1 = hog1[ypos:ypos+nblocks_per_window, xpos:xpos+nblocks_per_window].ravel() \n",
        "#             hog_feat2 = hog2[ypos:ypos+nblocks_per_window, xpos:xpos+nblocks_per_window].ravel() \n",
        "#             hog_feat3 = hog3[ypos:ypos+nblocks_per_window, xpos:xpos+nblocks_per_window].ravel() \n",
        "           \n",
        "#             hog_features = np.hstack((hog_feat1, hog_feat2, hog_feat3))\n",
        "            xleft = xpos*pix_per_cell\n",
        "            ytop = ypos*pix_per_cell\n",
        "\n",
        "            # Extract the image patch\n",
        "            subimg = cv2.resize(ctrans_tosearch[ytop:ytop+window, xleft:xleft+window], (58,58))\n",
        "#             plt.imshow(subimg)\n",
        "#             plt.show\n",
        "            # Get color features\n",
        "#             spatial_features = hp.bin_spatial(subimg, size=spatial_size)\n",
        "#             hist_features = hp.color_hist(subimg, nbins=hist_bins)\n",
        "\n",
        "            # Scale features and make a prediction\n",
        "#             test_features = X_scaler.transform(np.hstack((spatial_features, hog_features)).reshape(1, -1))    \n",
        "            #test_features = X_scaler.transform(np.hstack((shape_feat, hist_feat)).reshape(1, -1))    \n",
        "#             test_features = X_scaler.transform(np.hstack((hog_features)).reshape(1, -1))  \n",
        "            test_prediction = round(inf_model.predict(np.expand_dims(subimg, 0))[0, 0])\n",
        "#             print(test_prediction)\n",
        "#             test_prediction = svc.predict(test_features)\n",
        "            \n",
        "            if test_prediction == 1.0:\n",
        "                xbox_left = np.int(xleft*scale)\n",
        "                ytop_draw = np.int(ytop*scale)\n",
        "                win_draw = np.int(window*scale)\n",
        "                boxes.append(((xbox_left, ytop_draw+ystart),(xbox_left+win_draw,ytop_draw+win_draw+ystart)))\n",
        "                #boxes.append(((xbox_left, ytop_draw+ystart),(xbox_left+win_draw,ytop_draw+win_draw+ystart))#,(0,0,255),6)) \n",
        "                #cv2.rectangle(draw_img,(xbox_left, ytop_draw+ystart),(xbox_left+win_draw,ytop_draw+win_draw+ystart),(0,0,255),6) \n",
        "                \n",
        "    return boxes"
      ],
      "execution_count": 41,
      "outputs": []
    },
    {
      "metadata": {
        "id": "I17VmESzlgFZ",
        "colab_type": "code",
        "colab": {
          "base_uri": "https://localhost:8080/",
          "height": 17
        },
        "outputId": "dea3158d-c3c3-4c69-8bdf-638bf675e719"
      },
      "cell_type": "code",
      "source": [
        "def draw_boxes(img, bboxes, color=(0, 0, 255), thick=6):\n",
        "    # make a copy of the image\n",
        "    draw_img = np.copy(img)\n",
        "    # draw each bounding box on your image copy using cv2.rectangle()\n",
        "    # return the image copy with boxes drawn\n",
        "    for box in bboxes:\n",
        "        cv2.rectangle(draw_img,box[0],box[1],color,thick)\n",
        "    \n",
        "    return draw_img # Change this line to return image copy with boxes"
      ],
      "execution_count": 42,
      "outputs": []
    },
    {
      "metadata": {
        "id": "B-xzLiRQljXt",
        "colab_type": "code",
        "colab": {
          "base_uri": "https://localhost:8080/",
          "height": 34
        },
        "outputId": "410a8e9d-f4e7-4c7d-b409-783ca84775f4"
      },
      "cell_type": "code",
      "source": [
        "import matplotlib.pyplot as plt\n",
        "ystart = 30\n",
        "ystop = 270\n",
        "scale = 3\n",
        "pix_per_cell=8\n",
        "cell_per_block=2\n",
        "test_images=glob.glob('test_images/Selection_114.jpg')\n",
        "print(test_images)\n",
        "for fname in test_images:\n",
        "    print(fname)\n",
        "    test_img=mpimg.imread(fname)\n",
        "    plt.imshow(test_img)\n",
        "    #plt.subplot(6,1,i)\n",
        "    boxes=find_roots(test_img, ystart, ystop, scale, pix_per_cell,cell_per_block ) #, clf, X_scaler, orient, pix_per_cell, cell_per_block,color_space,spatial_size, hist_bins)\n",
        "    #print(boxes[0][0])\n",
        "    test_out_img=draw_boxes(test_img,boxes)\n",
        "    plt.imshow(test_out_img)\n",
        "    plt.show()"
      ],
      "execution_count": 0,
      "outputs": [
        {
          "output_type": "stream",
          "text": [
            "[]\n"
          ],
          "name": "stdout"
        }
      ]
    },
    {
      "metadata": {
        "id": "UuNwTLSqlqIm",
        "colab_type": "code",
        "colab": {}
      },
      "cell_type": "code",
      "source": [
        "os.chdir(\"test_images\")\n"
      ],
      "execution_count": 0,
      "outputs": []
    },
    {
      "metadata": {
        "id": "-utT7xAAZGGL",
        "colab_type": "code",
        "colab": {}
      },
      "cell_type": "code",
      "source": [
        "plt.imshow(mpimg.imread( \"data/non_tree/1.JPG\"))"
      ],
      "execution_count": 0,
      "outputs": []
    },
    {
      "metadata": {
        "id": "HA55Mrm3mtmz",
        "colab_type": "code",
        "colab": {}
      },
      "cell_type": "code",
      "source": [
        "im = mpimg.imread( \"data/non_tree/1.JPG\")\n",
        "im = cv2.resize(im,(58,58))\n",
        "print( round(inf_model.predict(np.expand_dims(im, 0))[0, 0]))"
      ],
      "execution_count": 0,
      "outputs": []
    },
    {
      "metadata": {
        "id": "af3PNA-KafWG",
        "colab_type": "code",
        "colab": {
          "base_uri": "https://localhost:8080/",
          "height": 34
        },
        "outputId": "c0f5a28b-0513-45d5-fc89-4482c64ef93c"
      },
      "cell_type": "code",
      "source": [
        "!ls"
      ],
      "execution_count": 0,
      "outputs": [
        {
          "output_type": "stream",
          "text": [
            "test_image1.png  treeroot.JPG\r\n"
          ],
          "name": "stdout"
        }
      ]
    },
    {
      "metadata": {
        "id": "guLV6_XwOeaO",
        "colab_type": "code",
        "colab": {}
      },
      "cell_type": "code",
      "source": [
        "from scipy.ndimage.measurements import label\n",
        "def add_heat(heatmap, bbox_list):\n",
        "    # Iterate through list of bboxes\n",
        "    for box in bbox_list:\n",
        "        # Add += 1 for all pixels inside each bbox\n",
        "        # Assuming each \"box\" takes the form ((x1, y1), (x2, y2))\n",
        "        heatmap[box[0][1]:box[1][1], box[0][0]:box[1][0]] += 1\n",
        "\n",
        "    # Return updated heatmap\n",
        "    return heatmap# Iterate through list of bboxes\n",
        "    \n",
        "def apply_threshold(heatmap, threshold):\n",
        "    # Zero out pixels below the threshold\n",
        "    heatmap[heatmap <= threshold] = 0\n",
        "    # Return thresholded map\n",
        "    return heatmap\n",
        "\n",
        "def draw_labeled_bboxes(img, labels):\n",
        "    # Iterate through all detected cars\n",
        "    for car_number in range(1, labels[1]+1):\n",
        "        # Find pixels with each car_number label value\n",
        "        nonzero = (labels[0] == car_number).nonzero()\n",
        "        # Identify x and y values of those pixels\n",
        "        nonzeroy = np.array(nonzero[0])\n",
        "        nonzerox = np.array(nonzero[1])\n",
        "        # Define a bounding box based on min/max x and y\n",
        "        bbox = ((np.min(nonzerox), np.min(nonzeroy)), (np.max(nonzerox), np.max(nonzeroy)))\n",
        "        # Draw the box on the image\n",
        "        cv2.rectangle(img, bbox[0], bbox[1], (0,0,255), 6)\n",
        "    # Return the image\n",
        "    return img"
      ],
      "execution_count": 0,
      "outputs": []
    },
    {
      "metadata": {
        "id": "TVhznsd95_oZ",
        "colab_type": "code",
        "colab": {}
      },
      "cell_type": "code",
      "source": [
        "#print(scales,ystarts)\n",
        "from collections import deque\n",
        "\n",
        "heat_history=deque(maxlen=8)\n",
        "def process_frame(image):\n",
        "    boxes=[]\n",
        "#     for i in range(len(scales)):\n",
        "    boxes.append(find_roots(image, ystart, ystop, scale, pix_per_cell,cell_per_block )) #find_roots(image, ystart, ystop, scale, svc, X_scaler, orient, pix_per_cell, cell_per_block,color_space,spatial_size, hist_bins))\n",
        "    \n",
        "    boxes = [item for sublist in boxes for item in sublist] \n",
        "    heatmap_img = np.zeros_like(image[:,:,0])\n",
        "    heatmap_img = add_heat(heatmap_img, boxes)\n",
        "    \n",
        "#     heat_history.append(heatmap_img)\n",
        "#     heatmap_img = np.array(heat_history).sum(axis=0)\n",
        "    heatmap_img = apply_threshold(heatmap_img,2)\n",
        "    \n",
        "    # # Find final boxes from heatmap using label function\n",
        "    labels = label(heatmap_img)\n",
        "    draw_img = draw_labeled_bboxes(np.copy(image), labels)\n",
        "#     draw_img = draw_boxes(image,boxes)\n",
        "    \n",
        "    return draw_img\n"
      ],
      "execution_count": 0,
      "outputs": []
    },
    {
      "metadata": {
        "id": "5D6O2jqW-G7e",
        "colab_type": "code",
        "colab": {}
      },
      "cell_type": "code",
      "source": [
        "os.chdir(\"Tree_Root_Detection\")"
      ],
      "execution_count": 0,
      "outputs": []
    },
    {
      "metadata": {
        "id": "TLfiSmYa96ao",
        "colab_type": "code",
        "colab": {
          "base_uri": "https://localhost:8080/",
          "height": 51963
        },
        "outputId": "e3c47148-61a2-4a7d-89c2-e7723350c2ba"
      },
      "cell_type": "code",
      "source": [
        "from moviepy.editor import VideoFileClip\n",
        "\n",
        "output_location = 'sewer_footage1_output.mp4'\n",
        "## To speed up the testing process you may want to try your pipeline on a shorter subclip of the video\n",
        "## To do so add .subclip(start_second,end_second) to the end of the line below\n",
        "## Where start_second and end_second are integer values representing the start and end of the subclip\n",
        "## You may also uncomment the following line for a subclip of the first 5 seconds\n",
        "##clip1 = VideoFileClip(\"test_videos/solidWhiteRight.mp4\").subclip(0,5)\n",
        "video_input = VideoFileClip(\"sewer_footage1\")#.subclip(8,10)\n",
        "\n",
        "video_output = video_input.fl_image(process_frame) #NOTE: this function expects color images!!\n",
        "\n",
        "#%time undist_clip.write_videofile(undist_output, audio=False)\n",
        "# print(\"anupam\")\n",
        "video_output.write_videofile(output_location, audio=False)\n",
        "video_input.reader.close()\n",
        "video_input.audio.reader.close_proc()\n",
        "video_output.reader.close()\n",
        "video_output.audio.reader.close_proc()"
      ],
      "execution_count": 0,
      "outputs": [
        {
          "output_type": "stream",
          "text": [
            "7\n",
            "[MoviePy] >>>> Building video sewer_footage1_output.mp4\n",
            "[MoviePy] Writing video sewer_footage1_output.mp4\n"
          ],
          "name": "stdout"
        },
        {
          "output_type": "stream",
          "text": [
            "  0%|          | 3/2977 [00:00<02:04, 23.86it/s]"
          ],
          "name": "stderr"
        },
        {
          "output_type": "stream",
          "text": [
            "7\n",
            "7\n",
            "7\n",
            "7\n",
            "7\n"
          ],
          "name": "stdout"
        },
        {
          "output_type": "stream",
          "text": [
            "  0%|          | 8/2977 [00:00<02:14, 22.12it/s]"
          ],
          "name": "stderr"
        },
        {
          "output_type": "stream",
          "text": [
            "7\n",
            "7\n",
            "7\n",
            "7\n",
            "7\n"
          ],
          "name": "stdout"
        },
        {
          "output_type": "stream",
          "text": [
            "\r  0%|          | 11/2977 [00:00<02:13, 22.22it/s]"
          ],
          "name": "stderr"
        },
        {
          "output_type": "stream",
          "text": [
            "7\n",
            "7\n",
            "7\n",
            "7\n"
          ],
          "name": "stdout"
        },
        {
          "output_type": "stream",
          "text": [
            "\r  0%|          | 14/2977 [00:00<02:12, 22.40it/s]"
          ],
          "name": "stderr"
        },
        {
          "output_type": "stream",
          "text": [
            "7\n"
          ],
          "name": "stdout"
        },
        {
          "output_type": "stream",
          "text": [
            "\r  1%|          | 17/2977 [00:00<02:11, 22.42it/s]"
          ],
          "name": "stderr"
        },
        {
          "output_type": "stream",
          "text": [
            "7\n",
            "7\n",
            "7\n",
            "7\n"
          ],
          "name": "stdout"
        },
        {
          "output_type": "stream",
          "text": [
            "\r  1%|          | 19/2977 [00:00<02:13, 22.10it/s]"
          ],
          "name": "stderr"
        },
        {
          "output_type": "stream",
          "text": [
            "7\n"
          ],
          "name": "stdout"
        },
        {
          "output_type": "stream",
          "text": [
            "\r  1%|          | 22/2977 [00:00<02:13, 22.13it/s]"
          ],
          "name": "stderr"
        },
        {
          "output_type": "stream",
          "text": [
            "7\n",
            "7\n",
            "7\n",
            "7\n",
            "7\n"
          ],
          "name": "stdout"
        },
        {
          "output_type": "stream",
          "text": [
            "  1%|          | 28/2977 [00:01<02:11, 22.40it/s]"
          ],
          "name": "stderr"
        },
        {
          "output_type": "stream",
          "text": [
            "7\n",
            "7\n",
            "7\n",
            "7\n",
            "7\n"
          ],
          "name": "stdout"
        },
        {
          "output_type": "stream",
          "text": [
            "\r  1%|          | 31/2977 [00:01<02:11, 22.34it/s]"
          ],
          "name": "stderr"
        },
        {
          "output_type": "stream",
          "text": [
            "7\n",
            "7\n",
            "7\n",
            "7\n"
          ],
          "name": "stdout"
        },
        {
          "output_type": "stream",
          "text": [
            "\r  1%|          | 34/2977 [00:01<02:11, 22.41it/s]"
          ],
          "name": "stderr"
        },
        {
          "output_type": "stream",
          "text": [
            "7\n"
          ],
          "name": "stdout"
        },
        {
          "output_type": "stream",
          "text": [
            "\r  1%|          | 37/2977 [00:01<02:10, 22.48it/s]"
          ],
          "name": "stderr"
        },
        {
          "output_type": "stream",
          "text": [
            "7\n",
            "7\n",
            "7\n",
            "7\n",
            "7\n"
          ],
          "name": "stdout"
        },
        {
          "output_type": "stream",
          "text": [
            "  1%|▏         | 43/2977 [00:01<02:11, 22.31it/s]"
          ],
          "name": "stderr"
        },
        {
          "output_type": "stream",
          "text": [
            "7\n",
            "7\n",
            "7\n",
            "7\n"
          ],
          "name": "stdout"
        },
        {
          "output_type": "stream",
          "text": [
            "\r  2%|▏         | 46/2977 [00:02<02:12, 22.16it/s]"
          ],
          "name": "stderr"
        },
        {
          "output_type": "stream",
          "text": [
            "7\n",
            "7\n",
            "7\n",
            "7\n",
            "7\n"
          ],
          "name": "stdout"
        },
        {
          "output_type": "stream",
          "text": [
            "  2%|▏         | 52/2977 [00:02<02:12, 22.01it/s]"
          ],
          "name": "stderr"
        },
        {
          "output_type": "stream",
          "text": [
            "7\n",
            "7\n",
            "7\n",
            "7\n",
            "7\n"
          ],
          "name": "stdout"
        },
        {
          "output_type": "stream",
          "text": [
            "\r  2%|▏         | 55/2977 [00:02<02:12, 21.99it/s]"
          ],
          "name": "stderr"
        },
        {
          "output_type": "stream",
          "text": [
            "7\n",
            "7\n",
            "7\n",
            "7\n"
          ],
          "name": "stdout"
        },
        {
          "output_type": "stream",
          "text": [
            "\r  2%|▏         | 58/2977 [00:02<02:12, 21.97it/s]"
          ],
          "name": "stderr"
        },
        {
          "output_type": "stream",
          "text": [
            "7\n"
          ],
          "name": "stdout"
        },
        {
          "output_type": "stream",
          "text": [
            "\r  2%|▏         | 61/2977 [00:02<02:12, 21.96it/s]"
          ],
          "name": "stderr"
        },
        {
          "output_type": "stream",
          "text": [
            "7\n",
            "7\n",
            "7\n",
            "7\n",
            "7\n"
          ],
          "name": "stdout"
        },
        {
          "output_type": "stream",
          "text": [
            "  2%|▏         | 67/2977 [00:03<02:12, 21.93it/s]"
          ],
          "name": "stderr"
        },
        {
          "output_type": "stream",
          "text": [
            "7\n",
            "7\n",
            "7\n",
            "7\n",
            "7\n"
          ],
          "name": "stdout"
        },
        {
          "output_type": "stream",
          "text": [
            "\r  2%|▏         | 70/2977 [00:03<02:13, 21.80it/s]"
          ],
          "name": "stderr"
        },
        {
          "output_type": "stream",
          "text": [
            "7\n",
            "7\n",
            "7\n",
            "7\n"
          ],
          "name": "stdout"
        },
        {
          "output_type": "stream",
          "text": [
            "\r  2%|▏         | 73/2977 [00:03<02:13, 21.75it/s]"
          ],
          "name": "stderr"
        },
        {
          "output_type": "stream",
          "text": [
            "7\n"
          ],
          "name": "stdout"
        },
        {
          "output_type": "stream",
          "text": [
            "\r  3%|▎         | 76/2977 [00:03<02:13, 21.80it/s]"
          ],
          "name": "stderr"
        },
        {
          "output_type": "stream",
          "text": [
            "7\n",
            "7\n",
            "7\n",
            "7\n",
            "7\n"
          ],
          "name": "stdout"
        },
        {
          "output_type": "stream",
          "text": [
            "  3%|▎         | 82/2977 [00:03<02:13, 21.75it/s]"
          ],
          "name": "stderr"
        },
        {
          "output_type": "stream",
          "text": [
            "7\n",
            "7\n",
            "7\n",
            "7\n",
            "7\n"
          ],
          "name": "stdout"
        },
        {
          "output_type": "stream",
          "text": [
            "\r  3%|▎         | 85/2977 [00:03<02:13, 21.71it/s]"
          ],
          "name": "stderr"
        },
        {
          "output_type": "stream",
          "text": [
            "7\n",
            "7\n",
            "7\n",
            "7\n"
          ],
          "name": "stdout"
        },
        {
          "output_type": "stream",
          "text": [
            "\r  3%|▎         | 88/2977 [00:04<02:12, 21.74it/s]"
          ],
          "name": "stderr"
        },
        {
          "output_type": "stream",
          "text": [
            "7\n"
          ],
          "name": "stdout"
        },
        {
          "output_type": "stream",
          "text": [
            "\r  3%|▎         | 91/2977 [00:04<02:12, 21.74it/s]"
          ],
          "name": "stderr"
        },
        {
          "output_type": "stream",
          "text": [
            "7\n",
            "7\n",
            "7\n",
            "7\n",
            "7\n"
          ],
          "name": "stdout"
        },
        {
          "output_type": "stream",
          "text": [
            "  3%|▎         | 97/2977 [00:04<02:12, 21.72it/s]"
          ],
          "name": "stderr"
        },
        {
          "output_type": "stream",
          "text": [
            "7\n",
            "7\n",
            "7\n",
            "7\n",
            "7\n"
          ],
          "name": "stdout"
        },
        {
          "output_type": "stream",
          "text": [
            "\r  3%|▎         | 100/2977 [00:04<02:12, 21.67it/s]"
          ],
          "name": "stderr"
        },
        {
          "output_type": "stream",
          "text": [
            "7\n",
            "7\n",
            "7\n",
            "7\n"
          ],
          "name": "stdout"
        },
        {
          "output_type": "stream",
          "text": [
            "\r  3%|▎         | 103/2977 [00:04<02:12, 21.64it/s]"
          ],
          "name": "stderr"
        },
        {
          "output_type": "stream",
          "text": [
            "7\n"
          ],
          "name": "stdout"
        },
        {
          "output_type": "stream",
          "text": [
            "\r  4%|▎         | 106/2977 [00:04<02:12, 21.60it/s]"
          ],
          "name": "stderr"
        },
        {
          "output_type": "stream",
          "text": [
            "7\n",
            "7\n",
            "7\n",
            "7\n",
            "7\n"
          ],
          "name": "stdout"
        },
        {
          "output_type": "stream",
          "text": [
            "\r  4%|▎         | 109/2977 [00:05<02:12, 21.58it/s]"
          ],
          "name": "stderr"
        },
        {
          "output_type": "stream",
          "text": [
            "7\n",
            "7\n",
            "7\n"
          ],
          "name": "stdout"
        },
        {
          "output_type": "stream",
          "text": [
            "\r  4%|▍         | 112/2977 [00:05<02:13, 21.51it/s]"
          ],
          "name": "stderr"
        },
        {
          "output_type": "stream",
          "text": [
            "7\n",
            "7\n"
          ],
          "name": "stdout"
        },
        {
          "output_type": "stream",
          "text": [
            "\r  4%|▍         | 115/2977 [00:05<02:13, 21.52it/s]"
          ],
          "name": "stderr"
        },
        {
          "output_type": "stream",
          "text": [
            "7\n",
            "7\n",
            "7\n"
          ],
          "name": "stdout"
        },
        {
          "output_type": "stream",
          "text": [
            "\r  4%|▍         | 118/2977 [00:05<02:12, 21.51it/s]"
          ],
          "name": "stderr"
        },
        {
          "output_type": "stream",
          "text": [
            "7\n",
            "7\n"
          ],
          "name": "stdout"
        },
        {
          "output_type": "stream",
          "text": [
            "\r  4%|▍         | 121/2977 [00:05<02:12, 21.48it/s]"
          ],
          "name": "stderr"
        },
        {
          "output_type": "stream",
          "text": [
            "7\n",
            "7\n",
            "7\n",
            "7\n"
          ],
          "name": "stdout"
        },
        {
          "output_type": "stream",
          "text": [
            "\r  4%|▍         | 124/2977 [00:05<02:13, 21.39it/s]"
          ],
          "name": "stderr"
        },
        {
          "output_type": "stream",
          "text": [
            "7\n",
            "7\n",
            "7\n"
          ],
          "name": "stdout"
        },
        {
          "output_type": "stream",
          "text": [
            "\r  4%|▍         | 127/2977 [00:05<02:13, 21.36it/s]"
          ],
          "name": "stderr"
        },
        {
          "output_type": "stream",
          "text": [
            "7\n"
          ],
          "name": "stdout"
        },
        {
          "output_type": "stream",
          "text": [
            "\r  4%|▍         | 130/2977 [00:06<02:13, 21.30it/s]"
          ],
          "name": "stderr"
        },
        {
          "output_type": "stream",
          "text": [
            "7\n",
            "7\n",
            "7\n",
            "7\n"
          ],
          "name": "stdout"
        },
        {
          "output_type": "stream",
          "text": [
            "\r  4%|▍         | 132/2977 [00:06<02:13, 21.26it/s]"
          ],
          "name": "stderr"
        },
        {
          "output_type": "stream",
          "text": [
            "7\n",
            "7\n",
            "7\n",
            "7\n"
          ],
          "name": "stdout"
        },
        {
          "output_type": "stream",
          "text": [
            "\r  5%|▍         | 135/2977 [00:06<02:13, 21.26it/s]"
          ],
          "name": "stderr"
        },
        {
          "output_type": "stream",
          "text": [
            "7\n"
          ],
          "name": "stdout"
        },
        {
          "output_type": "stream",
          "text": [
            "\r  5%|▍         | 138/2977 [00:06<02:13, 21.25it/s]"
          ],
          "name": "stderr"
        },
        {
          "output_type": "stream",
          "text": [
            "7\n",
            "7\n",
            "7\n",
            "7\n",
            "7\n"
          ],
          "name": "stdout"
        },
        {
          "output_type": "stream",
          "text": [
            "  5%|▍         | 144/2977 [00:06<02:13, 21.20it/s]"
          ],
          "name": "stderr"
        },
        {
          "output_type": "stream",
          "text": [
            "7\n",
            "7\n",
            "7\n",
            "7\n",
            "7\n"
          ],
          "name": "stdout"
        },
        {
          "output_type": "stream",
          "text": [
            "\r  5%|▍         | 147/2977 [00:06<02:13, 21.12it/s]"
          ],
          "name": "stderr"
        },
        {
          "output_type": "stream",
          "text": [
            "7\n",
            "7\n",
            "7\n"
          ],
          "name": "stdout"
        },
        {
          "output_type": "stream",
          "text": [
            "\r  5%|▌         | 149/2977 [00:07<02:14, 21.07it/s]"
          ],
          "name": "stderr"
        },
        {
          "output_type": "stream",
          "text": [
            "7\n"
          ],
          "name": "stdout"
        },
        {
          "output_type": "stream",
          "text": [
            "\r  5%|▌         | 152/2977 [00:07<02:13, 21.08it/s]"
          ],
          "name": "stderr"
        },
        {
          "output_type": "stream",
          "text": [
            "7\n",
            "7\n",
            "7\n",
            "7\n"
          ],
          "name": "stdout"
        },
        {
          "output_type": "stream",
          "text": [
            "\r  5%|▌         | 154/2977 [00:07<02:14, 21.05it/s]"
          ],
          "name": "stderr"
        },
        {
          "output_type": "stream",
          "text": [
            "7\n"
          ],
          "name": "stdout"
        },
        {
          "output_type": "stream",
          "text": [
            "\r  5%|▌         | 156/2977 [00:07<02:14, 21.00it/s]"
          ],
          "name": "stderr"
        },
        {
          "output_type": "stream",
          "text": [
            "7\n",
            "7\n",
            "7\n"
          ],
          "name": "stdout"
        },
        {
          "output_type": "stream",
          "text": [
            "\r  5%|▌         | 158/2977 [00:07<02:14, 20.95it/s]"
          ],
          "name": "stderr"
        },
        {
          "output_type": "stream",
          "text": [
            "7\n"
          ],
          "name": "stdout"
        },
        {
          "output_type": "stream",
          "text": [
            "\r  5%|▌         | 160/2977 [00:07<02:14, 20.90it/s]"
          ],
          "name": "stderr"
        },
        {
          "output_type": "stream",
          "text": [
            "7\n",
            "7\n",
            "7\n"
          ],
          "name": "stdout"
        },
        {
          "output_type": "stream",
          "text": [
            "\r  5%|▌         | 162/2977 [00:07<02:14, 20.87it/s]"
          ],
          "name": "stderr"
        },
        {
          "output_type": "stream",
          "text": [
            "7\n"
          ],
          "name": "stdout"
        },
        {
          "output_type": "stream",
          "text": [
            "\r  6%|▌         | 164/2977 [00:07<02:15, 20.81it/s]"
          ],
          "name": "stderr"
        },
        {
          "output_type": "stream",
          "text": [
            "7\n",
            "7\n",
            "7\n",
            "7\n"
          ],
          "name": "stdout"
        },
        {
          "output_type": "stream",
          "text": [
            "\r  6%|▌         | 167/2977 [00:08<02:15, 20.81it/s]"
          ],
          "name": "stderr"
        },
        {
          "output_type": "stream",
          "text": [
            "7\n"
          ],
          "name": "stdout"
        },
        {
          "output_type": "stream",
          "text": [
            "\r  6%|▌         | 169/2977 [00:08<02:15, 20.77it/s]"
          ],
          "name": "stderr"
        },
        {
          "output_type": "stream",
          "text": [
            "7\n",
            "7\n",
            "7\n"
          ],
          "name": "stdout"
        },
        {
          "output_type": "stream",
          "text": [
            "\r  6%|▌         | 171/2977 [00:08<02:15, 20.72it/s]"
          ],
          "name": "stderr"
        },
        {
          "output_type": "stream",
          "text": [
            "7\n"
          ],
          "name": "stdout"
        },
        {
          "output_type": "stream",
          "text": [
            "\r  6%|▌         | 173/2977 [00:08<02:15, 20.69it/s]"
          ],
          "name": "stderr"
        },
        {
          "output_type": "stream",
          "text": [
            "7\n",
            "7\n",
            "7\n"
          ],
          "name": "stdout"
        },
        {
          "output_type": "stream",
          "text": [
            "\r  6%|▌         | 175/2977 [00:08<02:15, 20.66it/s]"
          ],
          "name": "stderr"
        },
        {
          "output_type": "stream",
          "text": [
            "7\n"
          ],
          "name": "stdout"
        },
        {
          "output_type": "stream",
          "text": [
            "\r  6%|▌         | 177/2977 [00:08<02:15, 20.65it/s]"
          ],
          "name": "stderr"
        },
        {
          "output_type": "stream",
          "text": [
            "7\n",
            "7\n",
            "7\n",
            "7\n"
          ],
          "name": "stdout"
        },
        {
          "output_type": "stream",
          "text": [
            "  6%|▌         | 183/2977 [00:08<02:15, 20.62it/s]"
          ],
          "name": "stderr"
        },
        {
          "output_type": "stream",
          "text": [
            "7\n",
            "7\n",
            "7\n",
            "7\n"
          ],
          "name": "stdout"
        },
        {
          "output_type": "stream",
          "text": [
            "  6%|▋         | 187/2977 [00:09<02:15, 20.56it/s]"
          ],
          "name": "stderr"
        },
        {
          "output_type": "stream",
          "text": [
            "7\n",
            "7\n",
            "7\n",
            "7\n"
          ],
          "name": "stdout"
        },
        {
          "output_type": "stream",
          "text": [
            "  6%|▋         | 191/2977 [00:09<02:15, 20.52it/s]"
          ],
          "name": "stderr"
        },
        {
          "output_type": "stream",
          "text": [
            "7\n",
            "7\n",
            "7\n",
            "7\n"
          ],
          "name": "stdout"
        },
        {
          "output_type": "stream",
          "text": [
            "  7%|▋         | 195/2977 [00:09<02:15, 20.48it/s]"
          ],
          "name": "stderr"
        },
        {
          "output_type": "stream",
          "text": [
            "7\n",
            "7\n",
            "7\n",
            "7\n"
          ],
          "name": "stdout"
        },
        {
          "output_type": "stream",
          "text": [
            "  7%|▋         | 199/2977 [00:09<02:16, 20.42it/s]"
          ],
          "name": "stderr"
        },
        {
          "output_type": "stream",
          "text": [
            "7\n",
            "7\n",
            "7\n",
            "7\n"
          ],
          "name": "stdout"
        },
        {
          "output_type": "stream",
          "text": [
            "  7%|▋         | 203/2977 [00:09<02:16, 20.38it/s]"
          ],
          "name": "stderr"
        },
        {
          "output_type": "stream",
          "text": [
            "7\n",
            "7\n",
            "7\n",
            "7\n"
          ],
          "name": "stdout"
        },
        {
          "output_type": "stream",
          "text": [
            "  7%|▋         | 208/2977 [00:10<02:15, 20.36it/s]"
          ],
          "name": "stderr"
        },
        {
          "output_type": "stream",
          "text": [
            "7\n",
            "7\n",
            "7\n",
            "7\n",
            "7\n"
          ],
          "name": "stdout"
        },
        {
          "output_type": "stream",
          "text": [
            "  7%|▋         | 212/2977 [00:10<02:16, 20.29it/s]"
          ],
          "name": "stderr"
        },
        {
          "output_type": "stream",
          "text": [
            "7\n",
            "7\n",
            "7\n",
            "7\n"
          ],
          "name": "stdout"
        },
        {
          "output_type": "stream",
          "text": [
            "  7%|▋         | 217/2977 [00:10<02:16, 20.27it/s]"
          ],
          "name": "stderr"
        },
        {
          "output_type": "stream",
          "text": [
            "7\n",
            "7\n",
            "7\n",
            "7\n",
            "7\n"
          ],
          "name": "stdout"
        },
        {
          "output_type": "stream",
          "text": [
            "  7%|▋         | 221/2977 [00:10<02:16, 20.25it/s]"
          ],
          "name": "stderr"
        },
        {
          "output_type": "stream",
          "text": [
            "7\n",
            "7\n",
            "7\n",
            "7\n"
          ],
          "name": "stdout"
        },
        {
          "output_type": "stream",
          "text": [
            "  8%|▊         | 225/2977 [00:11<02:16, 20.22it/s]"
          ],
          "name": "stderr"
        },
        {
          "output_type": "stream",
          "text": [
            "7\n",
            "7\n",
            "7\n",
            "7\n"
          ],
          "name": "stdout"
        },
        {
          "output_type": "stream",
          "text": [
            "  8%|▊         | 229/2977 [00:11<02:16, 20.15it/s]"
          ],
          "name": "stderr"
        },
        {
          "output_type": "stream",
          "text": [
            "7\n",
            "7\n",
            "7\n",
            "7\n"
          ],
          "name": "stdout"
        },
        {
          "output_type": "stream",
          "text": [
            "  8%|▊         | 234/2977 [00:11<02:16, 20.14it/s]"
          ],
          "name": "stderr"
        },
        {
          "output_type": "stream",
          "text": [
            "7\n",
            "7\n",
            "7\n",
            "7\n",
            "7"
          ],
          "name": "stdout"
        },
        {
          "output_type": "stream",
          "text": [
            "  8%|▊         | 238/2977 [00:11<02:16, 20.12it/s]"
          ],
          "name": "stderr"
        },
        {
          "output_type": "stream",
          "text": [
            "\n",
            "7\n",
            "7\n",
            "7\n",
            "7\n",
            "7\n"
          ],
          "name": "stdout"
        },
        {
          "output_type": "stream",
          "text": [
            "  8%|▊         | 243/2977 [00:12<02:15, 20.10it/s]"
          ],
          "name": "stderr"
        },
        {
          "output_type": "stream",
          "text": [
            "7\n",
            "7\n",
            "7\n",
            "7\n"
          ],
          "name": "stdout"
        },
        {
          "output_type": "stream",
          "text": [
            "\r  8%|▊         | 245/2977 [00:12<02:15, 20.10it/s]"
          ],
          "name": "stderr"
        },
        {
          "output_type": "stream",
          "text": [
            "7\n",
            "7\n",
            "7\n",
            "7\n"
          ],
          "name": "stdout"
        },
        {
          "output_type": "stream",
          "text": [
            "  8%|▊         | 250/2977 [00:12<02:15, 20.07it/s]"
          ],
          "name": "stderr"
        },
        {
          "output_type": "stream",
          "text": [
            "7\n",
            "7\n",
            "7\n",
            "7\n"
          ],
          "name": "stdout"
        },
        {
          "output_type": "stream",
          "text": [
            "  9%|▊         | 256/2977 [00:12<02:15, 20.04it/s]"
          ],
          "name": "stderr"
        },
        {
          "output_type": "stream",
          "text": [
            "7\n",
            "7\n",
            "7\n",
            "7\n"
          ],
          "name": "stdout"
        },
        {
          "output_type": "stream",
          "text": [
            "\r  9%|▊         | 258/2977 [00:12<02:15, 20.02it/s]"
          ],
          "name": "stderr"
        },
        {
          "output_type": "stream",
          "text": [
            "7\n",
            "7\n",
            "7\n",
            "7\n"
          ],
          "name": "stdout"
        },
        {
          "output_type": "stream",
          "text": [
            "  9%|▉         | 262/2977 [00:13<02:15, 20.00it/s]"
          ],
          "name": "stderr"
        },
        {
          "output_type": "stream",
          "text": [
            "7\n",
            "7\n",
            "7\n",
            "7\n",
            "7\n"
          ],
          "name": "stdout"
        },
        {
          "output_type": "stream",
          "text": [
            "  9%|▉         | 267/2977 [00:13<02:15, 19.97it/s]"
          ],
          "name": "stderr"
        },
        {
          "output_type": "stream",
          "text": [
            "7\n",
            "7\n",
            "7\n",
            "7\n"
          ],
          "name": "stdout"
        },
        {
          "output_type": "stream",
          "text": [
            "  9%|▉         | 272/2977 [00:13<02:15, 19.99it/s]"
          ],
          "name": "stderr"
        },
        {
          "output_type": "stream",
          "text": [
            "7\n",
            "7\n",
            "7\n",
            "7\n",
            "7\n"
          ],
          "name": "stdout"
        },
        {
          "output_type": "stream",
          "text": [
            "  9%|▉         | 276/2977 [00:13<02:15, 19.96it/s]"
          ],
          "name": "stderr"
        },
        {
          "output_type": "stream",
          "text": [
            "7\n",
            "7\n",
            "7\n",
            "7\n"
          ],
          "name": "stdout"
        },
        {
          "output_type": "stream",
          "text": [
            "  9%|▉         | 280/2977 [00:14<02:15, 19.94it/s]"
          ],
          "name": "stderr"
        },
        {
          "output_type": "stream",
          "text": [
            "7\n",
            "7\n",
            "7\n",
            "7\n"
          ],
          "name": "stdout"
        },
        {
          "output_type": "stream",
          "text": [
            " 10%|▉         | 284/2977 [00:14<02:15, 19.91it/s]"
          ],
          "name": "stderr"
        },
        {
          "output_type": "stream",
          "text": [
            "7\n",
            "7\n",
            "7\n",
            "7\n"
          ],
          "name": "stdout"
        },
        {
          "output_type": "stream",
          "text": [
            " 10%|▉         | 288/2977 [00:14<02:15, 19.89it/s]"
          ],
          "name": "stderr"
        },
        {
          "output_type": "stream",
          "text": [
            "7\n",
            "7\n",
            "7\n",
            "7\n"
          ],
          "name": "stdout"
        },
        {
          "output_type": "stream",
          "text": [
            " 10%|▉         | 292/2977 [00:14<02:15, 19.87it/s]"
          ],
          "name": "stderr"
        },
        {
          "output_type": "stream",
          "text": [
            "7\n",
            "7\n",
            "7\n",
            "7\n"
          ],
          "name": "stdout"
        },
        {
          "output_type": "stream",
          "text": [
            " 10%|█         | 298/2977 [00:15<02:14, 19.85it/s]"
          ],
          "name": "stderr"
        },
        {
          "output_type": "stream",
          "text": [
            "7\n",
            "7\n",
            "7\n",
            "7\n"
          ],
          "name": "stdout"
        },
        {
          "output_type": "stream",
          "text": [
            "\r 10%|█         | 301/2977 [00:15<02:14, 19.85it/s]"
          ],
          "name": "stderr"
        },
        {
          "output_type": "stream",
          "text": [
            "7\n",
            "7\n",
            "7\n",
            "7\n"
          ],
          "name": "stdout"
        },
        {
          "output_type": "stream",
          "text": [
            " 10%|█         | 306/2977 [00:15<02:14, 19.85it/s]"
          ],
          "name": "stderr"
        },
        {
          "output_type": "stream",
          "text": [
            "7\n",
            "7\n",
            "7\n",
            "7\n",
            "7\n"
          ],
          "name": "stdout"
        },
        {
          "output_type": "stream",
          "text": [
            " 10%|█         | 310/2977 [00:15<02:14, 19.83it/s]"
          ],
          "name": "stderr"
        },
        {
          "output_type": "stream",
          "text": [
            "7\n",
            "7\n",
            "7\n",
            "7\n"
          ],
          "name": "stdout"
        },
        {
          "output_type": "stream",
          "text": [
            " 11%|█         | 314/2977 [00:15<02:14, 19.83it/s]"
          ],
          "name": "stderr"
        },
        {
          "output_type": "stream",
          "text": [
            "7\n",
            "7\n",
            "7\n",
            "7\n"
          ],
          "name": "stdout"
        },
        {
          "output_type": "stream",
          "text": [
            " 11%|█         | 318/2977 [00:16<02:14, 19.80it/s]"
          ],
          "name": "stderr"
        },
        {
          "output_type": "stream",
          "text": [
            "7\n",
            "7\n",
            "7\n",
            "7\n"
          ],
          "name": "stdout"
        },
        {
          "output_type": "stream",
          "text": [
            " 11%|█         | 322/2977 [00:16<02:14, 19.79it/s]"
          ],
          "name": "stderr"
        },
        {
          "output_type": "stream",
          "text": [
            "7\n",
            "7\n",
            "7\n",
            "7\n"
          ],
          "name": "stdout"
        },
        {
          "output_type": "stream",
          "text": [
            " 11%|█         | 326/2977 [00:16<02:14, 19.76it/s]"
          ],
          "name": "stderr"
        },
        {
          "output_type": "stream",
          "text": [
            "7\n",
            "7\n",
            "7\n",
            "7\n"
          ],
          "name": "stdout"
        },
        {
          "output_type": "stream",
          "text": [
            " 11%|█         | 331/2977 [00:16<02:13, 19.76it/s]"
          ],
          "name": "stderr"
        },
        {
          "output_type": "stream",
          "text": [
            "7\n",
            "7\n",
            "7\n",
            "7\n",
            "7\n"
          ],
          "name": "stdout"
        },
        {
          "output_type": "stream",
          "text": [
            " 11%|█▏        | 335/2977 [00:16<02:13, 19.75it/s]"
          ],
          "name": "stderr"
        },
        {
          "output_type": "stream",
          "text": [
            "7\n",
            "7\n",
            "7\n",
            "7\n"
          ],
          "name": "stdout"
        },
        {
          "output_type": "stream",
          "text": [
            " 11%|█▏        | 339/2977 [00:17<02:13, 19.73it/s]"
          ],
          "name": "stderr"
        },
        {
          "output_type": "stream",
          "text": [
            "7\n",
            "7\n",
            "7\n",
            "7\n"
          ],
          "name": "stdout"
        },
        {
          "output_type": "stream",
          "text": [
            "\r 11%|█▏        | 341/2977 [00:17<02:13, 19.71it/s]"
          ],
          "name": "stderr"
        },
        {
          "output_type": "stream",
          "text": [
            "7\n",
            "7\n",
            "7\n",
            "7\n"
          ],
          "name": "stdout"
        },
        {
          "output_type": "stream",
          "text": [
            " 12%|█▏        | 347/2977 [00:17<02:13, 19.71it/s]"
          ],
          "name": "stderr"
        },
        {
          "output_type": "stream",
          "text": [
            "7\n",
            "7\n",
            "7\n",
            "7\n"
          ],
          "name": "stdout"
        },
        {
          "output_type": "stream",
          "text": [
            " 12%|█▏        | 351/2977 [00:17<02:13, 19.69it/s]"
          ],
          "name": "stderr"
        },
        {
          "output_type": "stream",
          "text": [
            "7\n",
            "7\n",
            "7\n",
            "7\n"
          ],
          "name": "stdout"
        },
        {
          "output_type": "stream",
          "text": [
            "\r 12%|█▏        | 353/2977 [00:17<02:13, 19.67it/s]"
          ],
          "name": "stderr"
        },
        {
          "output_type": "stream",
          "text": [
            "7\n",
            "7\n",
            "7\n",
            "7\n"
          ],
          "name": "stdout"
        },
        {
          "output_type": "stream",
          "text": [
            " 12%|█▏        | 359/2977 [00:18<02:13, 19.67it/s]"
          ],
          "name": "stderr"
        },
        {
          "output_type": "stream",
          "text": [
            "7\n",
            "7\n",
            "7\n",
            "7\n"
          ],
          "name": "stdout"
        },
        {
          "output_type": "stream",
          "text": [
            " 12%|█▏        | 364/2977 [00:18<02:12, 19.66it/s]"
          ],
          "name": "stderr"
        },
        {
          "output_type": "stream",
          "text": [
            "7\n",
            "7\n",
            "7\n",
            "7\n"
          ],
          "name": "stdout"
        },
        {
          "output_type": "stream",
          "text": [
            "\r 12%|█▏        | 367/2977 [00:18<02:12, 19.67it/s]"
          ],
          "name": "stderr"
        },
        {
          "output_type": "stream",
          "text": [
            "7\n",
            "7\n",
            "7\n",
            "7\n"
          ],
          "name": "stdout"
        },
        {
          "output_type": "stream",
          "text": [
            " 12%|█▏        | 371/2977 [00:18<02:12, 19.65it/s]"
          ],
          "name": "stderr"
        },
        {
          "output_type": "stream",
          "text": [
            "7\n",
            "7\n",
            "7\n",
            "7\n"
          ],
          "name": "stdout"
        },
        {
          "output_type": "stream",
          "text": [
            " 13%|█▎        | 376/2977 [00:19<02:12, 19.64it/s]"
          ],
          "name": "stderr"
        },
        {
          "output_type": "stream",
          "text": [
            "7\n",
            "7\n",
            "7\n",
            "7\n"
          ],
          "name": "stdout"
        },
        {
          "output_type": "stream",
          "text": [
            "\r 13%|█▎        | 378/2977 [00:19<02:12, 19.64it/s]"
          ],
          "name": "stderr"
        },
        {
          "output_type": "stream",
          "text": [
            "7\n",
            "7\n",
            "7\n",
            "7\n"
          ],
          "name": "stdout"
        },
        {
          "output_type": "stream",
          "text": [
            " 13%|█▎        | 382/2977 [00:19<02:12, 19.63it/s]"
          ],
          "name": "stderr"
        },
        {
          "output_type": "stream",
          "text": [
            "7\n",
            "7\n",
            "7\n",
            "7\n"
          ],
          "name": "stdout"
        },
        {
          "output_type": "stream",
          "text": [
            " 13%|█▎        | 386/2977 [00:19<02:12, 19.60it/s]"
          ],
          "name": "stderr"
        },
        {
          "output_type": "stream",
          "text": [
            "7\n",
            "7\n",
            "7\n",
            "7\n"
          ],
          "name": "stdout"
        },
        {
          "output_type": "stream",
          "text": [
            " 13%|█▎        | 390/2977 [00:19<02:12, 19.58it/s]"
          ],
          "name": "stderr"
        },
        {
          "output_type": "stream",
          "text": [
            "7\n",
            "7\n",
            "7\n",
            "7\n"
          ],
          "name": "stdout"
        },
        {
          "output_type": "stream",
          "text": [
            " 13%|█▎        | 394/2977 [00:20<02:11, 19.57it/s]"
          ],
          "name": "stderr"
        },
        {
          "output_type": "stream",
          "text": [
            "7\n",
            "7\n",
            "7\n",
            "7\n"
          ],
          "name": "stdout"
        },
        {
          "output_type": "stream",
          "text": [
            " 13%|█▎        | 398/2977 [00:20<02:11, 19.56it/s]"
          ],
          "name": "stderr"
        },
        {
          "output_type": "stream",
          "text": [
            "7\n",
            "7\n",
            "7\n",
            "7\n"
          ],
          "name": "stdout"
        },
        {
          "output_type": "stream",
          "text": [
            " 14%|█▎        | 402/2977 [00:20<02:11, 19.55it/s]"
          ],
          "name": "stderr"
        },
        {
          "output_type": "stream",
          "text": [
            "7\n",
            "7\n",
            "7\n",
            "7\n"
          ],
          "name": "stdout"
        },
        {
          "output_type": "stream",
          "text": [
            " 14%|█▎        | 406/2977 [00:20<02:11, 19.54it/s]"
          ],
          "name": "stderr"
        },
        {
          "output_type": "stream",
          "text": [
            "7\n",
            "7\n",
            "7\n",
            "7\n"
          ],
          "name": "stdout"
        },
        {
          "output_type": "stream",
          "text": [
            " 14%|█▍        | 410/2977 [00:21<02:11, 19.52it/s]"
          ],
          "name": "stderr"
        },
        {
          "output_type": "stream",
          "text": [
            "7\n",
            "7\n",
            "7\n",
            "7\n",
            "7\n"
          ],
          "name": "stdout"
        },
        {
          "output_type": "stream",
          "text": [
            " 14%|█▍        | 415/2977 [00:21<02:11, 19.50it/s]"
          ],
          "name": "stderr"
        },
        {
          "output_type": "stream",
          "text": [
            "7\n",
            "7\n",
            "7\n",
            "7\n"
          ],
          "name": "stdout"
        },
        {
          "output_type": "stream",
          "text": [
            " 14%|█▍        | 419/2977 [00:21<02:11, 19.50it/s]"
          ],
          "name": "stderr"
        },
        {
          "output_type": "stream",
          "text": [
            "7\n",
            "7\n",
            "7\n",
            "7\n"
          ],
          "name": "stdout"
        },
        {
          "output_type": "stream",
          "text": [
            " 14%|█▍        | 424/2977 [00:21<02:10, 19.50it/s]"
          ],
          "name": "stderr"
        },
        {
          "output_type": "stream",
          "text": [
            "7\n",
            "7\n",
            "7\n",
            "7\n",
            "7\n"
          ],
          "name": "stdout"
        },
        {
          "output_type": "stream",
          "text": [
            " 14%|█▍        | 429/2977 [00:22<02:10, 19.47it/s]"
          ],
          "name": "stderr"
        },
        {
          "output_type": "stream",
          "text": [
            "7\n",
            "7\n",
            "7\n",
            "7\n"
          ],
          "name": "stdout"
        },
        {
          "output_type": "stream",
          "text": [
            " 15%|█▍        | 433/2977 [00:22<02:10, 19.46it/s]"
          ],
          "name": "stderr"
        },
        {
          "output_type": "stream",
          "text": [
            "7\n",
            "7\n",
            "7\n",
            "7\n"
          ],
          "name": "stdout"
        },
        {
          "output_type": "stream",
          "text": [
            " 15%|█▍        | 438/2977 [00:22<02:10, 19.47it/s]"
          ],
          "name": "stderr"
        },
        {
          "output_type": "stream",
          "text": [
            "7\n",
            "7\n",
            "7\n",
            "7\n"
          ],
          "name": "stdout"
        },
        {
          "output_type": "stream",
          "text": [
            "\r 15%|█▍        | 440/2977 [00:22<02:10, 19.47it/s]"
          ],
          "name": "stderr"
        },
        {
          "output_type": "stream",
          "text": [
            "7\n",
            "7\n",
            "7\n",
            "7\n"
          ],
          "name": "stdout"
        },
        {
          "output_type": "stream",
          "text": [
            " 15%|█▍        | 444/2977 [00:22<02:10, 19.46it/s]"
          ],
          "name": "stderr"
        },
        {
          "output_type": "stream",
          "text": [
            "7\n",
            "7\n",
            "7\n",
            "7\n"
          ],
          "name": "stdout"
        },
        {
          "output_type": "stream",
          "text": [
            " 15%|█▌        | 448/2977 [00:23<02:10, 19.45it/s]"
          ],
          "name": "stderr"
        },
        {
          "output_type": "stream",
          "text": [
            "7\n",
            "7\n",
            "7\n",
            "7\n"
          ],
          "name": "stdout"
        },
        {
          "output_type": "stream",
          "text": [
            " 15%|█▌        | 452/2977 [00:23<02:09, 19.44it/s]"
          ],
          "name": "stderr"
        },
        {
          "output_type": "stream",
          "text": [
            "7\n",
            "7\n",
            "7\n",
            "7\n"
          ],
          "name": "stdout"
        },
        {
          "output_type": "stream",
          "text": [
            " 15%|█▌        | 456/2977 [00:23<02:09, 19.43it/s]"
          ],
          "name": "stderr"
        },
        {
          "output_type": "stream",
          "text": [
            "7\n",
            "7\n",
            "7\n",
            "7\n"
          ],
          "name": "stdout"
        },
        {
          "output_type": "stream",
          "text": [
            " 15%|█▌        | 461/2977 [00:23<02:09, 19.42it/s]"
          ],
          "name": "stderr"
        },
        {
          "output_type": "stream",
          "text": [
            "7\n",
            "7\n",
            "7\n",
            "7\n"
          ],
          "name": "stdout"
        },
        {
          "output_type": "stream",
          "text": [
            " 16%|█▌        | 465/2977 [00:23<02:09, 19.40it/s]"
          ],
          "name": "stderr"
        },
        {
          "output_type": "stream",
          "text": [
            "7\n",
            "7\n",
            "7\n",
            "7\n"
          ],
          "name": "stdout"
        },
        {
          "output_type": "stream",
          "text": [
            " 16%|█▌        | 469/2977 [00:24<02:09, 19.39it/s]"
          ],
          "name": "stderr"
        },
        {
          "output_type": "stream",
          "text": [
            "7\n",
            "7\n",
            "7\n",
            "7\n"
          ],
          "name": "stdout"
        },
        {
          "output_type": "stream",
          "text": [
            " 16%|█▌        | 473/2977 [00:24<02:09, 19.39it/s]"
          ],
          "name": "stderr"
        },
        {
          "output_type": "stream",
          "text": [
            "7\n",
            "7\n",
            "7\n",
            "7\n"
          ],
          "name": "stdout"
        },
        {
          "output_type": "stream",
          "text": [
            " 16%|█▌        | 478/2977 [00:24<02:08, 19.39it/s]"
          ],
          "name": "stderr"
        },
        {
          "output_type": "stream",
          "text": [
            "7\n",
            "7\n",
            "7\n",
            "7\n"
          ],
          "name": "stdout"
        },
        {
          "output_type": "stream",
          "text": [
            "\r 16%|█▌        | 481/2977 [00:24<02:08, 19.39it/s]"
          ],
          "name": "stderr"
        },
        {
          "output_type": "stream",
          "text": [
            "7\n",
            "7\n",
            "7\n",
            "7\n"
          ],
          "name": "stdout"
        },
        {
          "output_type": "stream",
          "text": [
            " 16%|█▋        | 485/2977 [00:25<02:08, 19.39it/s]"
          ],
          "name": "stderr"
        },
        {
          "output_type": "stream",
          "text": [
            "7\n",
            "7\n",
            "7\n",
            "7\n"
          ],
          "name": "stdout"
        },
        {
          "output_type": "stream",
          "text": [
            " 16%|█▋        | 489/2977 [00:25<02:08, 19.39it/s]"
          ],
          "name": "stderr"
        },
        {
          "output_type": "stream",
          "text": [
            "7\n",
            "7\n",
            "7\n",
            "7\n"
          ],
          "name": "stdout"
        },
        {
          "output_type": "stream",
          "text": [
            " 17%|█▋        | 493/2977 [00:25<02:08, 19.38it/s]"
          ],
          "name": "stderr"
        },
        {
          "output_type": "stream",
          "text": [
            "7\n",
            "7\n",
            "7\n",
            "7\n"
          ],
          "name": "stdout"
        },
        {
          "output_type": "stream",
          "text": [
            " 17%|█▋        | 498/2977 [00:25<02:07, 19.38it/s]"
          ],
          "name": "stderr"
        },
        {
          "output_type": "stream",
          "text": [
            "7\n",
            "7\n",
            "7\n",
            "7\n"
          ],
          "name": "stdout"
        },
        {
          "output_type": "stream",
          "text": [
            "\r 17%|█▋        | 500/2977 [00:25<02:07, 19.38it/s]"
          ],
          "name": "stderr"
        },
        {
          "output_type": "stream",
          "text": [
            "7\n",
            "7\n",
            "7\n",
            "7\n"
          ],
          "name": "stdout"
        },
        {
          "output_type": "stream",
          "text": [
            " 17%|█▋        | 504/2977 [00:26<02:07, 19.37it/s]"
          ],
          "name": "stderr"
        },
        {
          "output_type": "stream",
          "text": [
            "7\n",
            "7\n",
            "7\n",
            "7\n"
          ],
          "name": "stdout"
        },
        {
          "output_type": "stream",
          "text": [
            " 17%|█▋        | 509/2977 [00:26<02:07, 19.36it/s]"
          ],
          "name": "stderr"
        },
        {
          "output_type": "stream",
          "text": [
            "7\n",
            "7\n",
            "7\n",
            "7\n",
            "7\n"
          ],
          "name": "stdout"
        },
        {
          "output_type": "stream",
          "text": [
            " 17%|█▋        | 513/2977 [00:26<02:07, 19.36it/s]"
          ],
          "name": "stderr"
        },
        {
          "output_type": "stream",
          "text": [
            "7\n",
            "7\n",
            "7\n",
            "7\n",
            "7\n"
          ],
          "name": "stdout"
        },
        {
          "output_type": "stream",
          "text": [
            " 17%|█▋        | 518/2977 [00:26<02:06, 19.37it/s]"
          ],
          "name": "stderr"
        },
        {
          "output_type": "stream",
          "text": [
            "7\n",
            "7\n",
            "7\n",
            "7\n",
            "7"
          ],
          "name": "stdout"
        },
        {
          "output_type": "stream",
          "text": [
            " 18%|█▊        | 524/2977 [00:27<02:06, 19.37it/s]"
          ],
          "name": "stderr"
        },
        {
          "output_type": "stream",
          "text": [
            "\n",
            "7\n",
            "7\n",
            "7\n",
            "7"
          ],
          "name": "stdout"
        },
        {
          "output_type": "stream",
          "text": [
            " 18%|█▊        | 528/2977 [00:27<02:06, 19.37it/s]"
          ],
          "name": "stderr"
        },
        {
          "output_type": "stream",
          "text": [
            "\n",
            "7\n",
            "7\n",
            "7\n",
            "7\n"
          ],
          "name": "stdout"
        },
        {
          "output_type": "stream",
          "text": [
            " 18%|█▊        | 533/2977 [00:27<02:06, 19.37it/s]"
          ],
          "name": "stderr"
        },
        {
          "output_type": "stream",
          "text": [
            "7\n",
            "7\n",
            "7\n",
            "7\n"
          ],
          "name": "stdout"
        },
        {
          "output_type": "stream",
          "text": [
            "\r 18%|█▊        | 535/2977 [00:27<02:06, 19.37it/s]"
          ],
          "name": "stderr"
        },
        {
          "output_type": "stream",
          "text": [
            "7\n",
            "7\n",
            "7\n",
            "7\n",
            "7\n"
          ],
          "name": "stdout"
        },
        {
          "output_type": "stream",
          "text": [
            " 18%|█▊        | 540/2977 [00:27<02:05, 19.38it/s]"
          ],
          "name": "stderr"
        },
        {
          "output_type": "stream",
          "text": [
            "7\n",
            "7\n",
            "7\n",
            "7\n"
          ],
          "name": "stdout"
        },
        {
          "output_type": "stream",
          "text": [
            " 18%|█▊        | 544/2977 [00:28<02:05, 19.37it/s]"
          ],
          "name": "stderr"
        },
        {
          "output_type": "stream",
          "text": [
            "7\n",
            "7\n",
            "7\n",
            "7\n",
            "7\n"
          ],
          "name": "stdout"
        },
        {
          "output_type": "stream",
          "text": [
            " 19%|█▊        | 551/2977 [00:28<02:05, 19.37it/s]"
          ],
          "name": "stderr"
        },
        {
          "output_type": "stream",
          "text": [
            "7\n",
            "7\n",
            "7\n",
            "7\n"
          ],
          "name": "stdout"
        },
        {
          "output_type": "stream",
          "text": [
            "\r 19%|█▊        | 553/2977 [00:28<02:05, 19.37it/s]"
          ],
          "name": "stderr"
        },
        {
          "output_type": "stream",
          "text": [
            "7\n",
            "7\n",
            "7\n",
            "7\n",
            "7\n"
          ],
          "name": "stdout"
        },
        {
          "output_type": "stream",
          "text": [
            " 19%|█▉        | 560/2977 [00:28<02:04, 19.38it/s]"
          ],
          "name": "stderr"
        },
        {
          "output_type": "stream",
          "text": [
            "7\n",
            "7\n",
            "7\n",
            "7\n"
          ],
          "name": "stdout"
        },
        {
          "output_type": "stream",
          "text": [
            "\r 19%|█▉        | 562/2977 [00:29<02:04, 19.37it/s]"
          ],
          "name": "stderr"
        },
        {
          "output_type": "stream",
          "text": [
            "7\n",
            "7\n",
            "7\n",
            "7\n",
            "7\n"
          ],
          "name": "stdout"
        },
        {
          "output_type": "stream",
          "text": [
            " 19%|█▉        | 568/2977 [00:29<02:04, 19.39it/s]"
          ],
          "name": "stderr"
        },
        {
          "output_type": "stream",
          "text": [
            "7\n",
            "7\n",
            "7\n",
            "7\n"
          ],
          "name": "stdout"
        },
        {
          "output_type": "stream",
          "text": [
            " 19%|█▉        | 573/2977 [00:29<02:03, 19.40it/s]"
          ],
          "name": "stderr"
        },
        {
          "output_type": "stream",
          "text": [
            "7\n",
            "7\n",
            "7\n",
            "7\n",
            "7\n"
          ],
          "name": "stdout"
        },
        {
          "output_type": "stream",
          "text": [
            "\r 19%|█▉        | 576/2977 [00:29<02:03, 19.40it/s]"
          ],
          "name": "stderr"
        },
        {
          "output_type": "stream",
          "text": [
            "7\n",
            "7\n",
            "7\n",
            "7\n",
            "7\n"
          ],
          "name": "stdout"
        },
        {
          "output_type": "stream",
          "text": [
            " 20%|█▉        | 582/2977 [00:29<02:03, 19.41it/s]"
          ],
          "name": "stderr"
        },
        {
          "output_type": "stream",
          "text": [
            "7\n",
            "7\n",
            "7\n",
            "7\n"
          ],
          "name": "stdout"
        },
        {
          "output_type": "stream",
          "text": [
            "\r 20%|█▉        | 585/2977 [00:30<02:03, 19.40it/s]"
          ],
          "name": "stderr"
        },
        {
          "output_type": "stream",
          "text": [
            "7\n",
            "7\n",
            "7\n",
            "7\n",
            "7\n"
          ],
          "name": "stdout"
        },
        {
          "output_type": "stream",
          "text": [
            " 20%|█▉        | 590/2977 [00:30<02:02, 19.41it/s]"
          ],
          "name": "stderr"
        },
        {
          "output_type": "stream",
          "text": [
            "7\n",
            "7\n",
            "7\n",
            "7\n"
          ],
          "name": "stdout"
        },
        {
          "output_type": "stream",
          "text": [
            " 20%|█▉        | 594/2977 [00:30<02:02, 19.40it/s]"
          ],
          "name": "stderr"
        },
        {
          "output_type": "stream",
          "text": [
            "7\n",
            "7\n",
            "7\n",
            "7\n"
          ],
          "name": "stdout"
        },
        {
          "output_type": "stream",
          "text": [
            " 20%|██        | 598/2977 [00:30<02:02, 19.39it/s]"
          ],
          "name": "stderr"
        },
        {
          "output_type": "stream",
          "text": [
            "7\n",
            "7\n",
            "7\n",
            "7\n"
          ],
          "name": "stdout"
        },
        {
          "output_type": "stream",
          "text": [
            " 20%|██        | 602/2977 [00:31<02:02, 19.37it/s]"
          ],
          "name": "stderr"
        },
        {
          "output_type": "stream",
          "text": [
            "7\n",
            "7\n",
            "7\n",
            "7\n"
          ],
          "name": "stdout"
        },
        {
          "output_type": "stream",
          "text": [
            " 20%|██        | 606/2977 [00:31<02:02, 19.36it/s]"
          ],
          "name": "stderr"
        },
        {
          "output_type": "stream",
          "text": [
            "7\n",
            "7\n",
            "7\n",
            "7\n"
          ],
          "name": "stdout"
        },
        {
          "output_type": "stream",
          "text": [
            " 20%|██        | 610/2977 [00:31<02:02, 19.35it/s]"
          ],
          "name": "stderr"
        },
        {
          "output_type": "stream",
          "text": [
            "7\n",
            "7\n",
            "7\n",
            "7\n"
          ],
          "name": "stdout"
        },
        {
          "output_type": "stream",
          "text": [
            " 21%|██        | 614/2977 [00:31<02:02, 19.34it/s]"
          ],
          "name": "stderr"
        },
        {
          "output_type": "stream",
          "text": [
            "7\n",
            "7\n",
            "7\n",
            "7\n"
          ],
          "name": "stdout"
        },
        {
          "output_type": "stream",
          "text": [
            " 21%|██        | 618/2977 [00:31<02:02, 19.32it/s]"
          ],
          "name": "stderr"
        },
        {
          "output_type": "stream",
          "text": [
            "7\n",
            "7\n",
            "7\n",
            "7\n"
          ],
          "name": "stdout"
        },
        {
          "output_type": "stream",
          "text": [
            " 21%|██        | 624/2977 [00:32<02:01, 19.31it/s]"
          ],
          "name": "stderr"
        },
        {
          "output_type": "stream",
          "text": [
            "7\n",
            "7\n",
            "7\n",
            "7\n"
          ],
          "name": "stdout"
        },
        {
          "output_type": "stream",
          "text": [
            "\r 21%|██        | 626/2977 [00:32<02:01, 19.30it/s]"
          ],
          "name": "stderr"
        },
        {
          "output_type": "stream",
          "text": [
            "7\n",
            "7\n",
            "7\n",
            "7\n"
          ],
          "name": "stdout"
        },
        {
          "output_type": "stream",
          "text": [
            " 21%|██        | 630/2977 [00:32<02:01, 19.29it/s]"
          ],
          "name": "stderr"
        },
        {
          "output_type": "stream",
          "text": [
            "7\n",
            "7\n",
            "7\n",
            "7\n"
          ],
          "name": "stdout"
        },
        {
          "output_type": "stream",
          "text": [
            " 21%|██▏       | 634/2977 [00:32<02:01, 19.27it/s]"
          ],
          "name": "stderr"
        },
        {
          "output_type": "stream",
          "text": [
            "7\n",
            "7\n",
            "7\n",
            "7\n"
          ],
          "name": "stdout"
        },
        {
          "output_type": "stream",
          "text": [
            " 21%|██▏       | 638/2977 [00:33<02:01, 19.27it/s]"
          ],
          "name": "stderr"
        },
        {
          "output_type": "stream",
          "text": [
            "7\n",
            "7\n",
            "7\n",
            "7\n"
          ],
          "name": "stdout"
        },
        {
          "output_type": "stream",
          "text": [
            " 22%|██▏       | 643/2977 [00:33<02:01, 19.27it/s]"
          ],
          "name": "stderr"
        },
        {
          "output_type": "stream",
          "text": [
            "7\n",
            "7\n",
            "7\n",
            "7\n"
          ],
          "name": "stdout"
        },
        {
          "output_type": "stream",
          "text": [
            " 22%|██▏       | 647/2977 [00:33<02:00, 19.27it/s]"
          ],
          "name": "stderr"
        },
        {
          "output_type": "stream",
          "text": [
            "7\n",
            "7\n",
            "7\n",
            "7\n"
          ],
          "name": "stdout"
        },
        {
          "output_type": "stream",
          "text": [
            " 22%|██▏       | 651/2977 [00:33<02:00, 19.26it/s]"
          ],
          "name": "stderr"
        },
        {
          "output_type": "stream",
          "text": [
            "7\n",
            "7\n",
            "7\n",
            "7\n"
          ],
          "name": "stdout"
        },
        {
          "output_type": "stream",
          "text": [
            " 22%|██▏       | 655/2977 [00:34<02:00, 19.25it/s]"
          ],
          "name": "stderr"
        },
        {
          "output_type": "stream",
          "text": [
            "7\n",
            "7\n",
            "7\n",
            "7\n"
          ],
          "name": "stdout"
        },
        {
          "output_type": "stream",
          "text": [
            " 22%|██▏       | 660/2977 [00:34<02:00, 19.24it/s]"
          ],
          "name": "stderr"
        },
        {
          "output_type": "stream",
          "text": [
            "7\n",
            "7\n",
            "7\n",
            "7\n"
          ],
          "name": "stdout"
        },
        {
          "output_type": "stream",
          "text": [
            "\r 22%|██▏       | 662/2977 [00:34<02:00, 19.22it/s]"
          ],
          "name": "stderr"
        },
        {
          "output_type": "stream",
          "text": [
            "7\n",
            "7\n",
            "7\n",
            "7\n"
          ],
          "name": "stdout"
        },
        {
          "output_type": "stream",
          "text": [
            " 22%|██▏       | 666/2977 [00:34<02:00, 19.22it/s]"
          ],
          "name": "stderr"
        },
        {
          "output_type": "stream",
          "text": [
            "7\n",
            "7\n",
            "7\n",
            "7\n"
          ],
          "name": "stdout"
        },
        {
          "output_type": "stream",
          "text": [
            " 23%|██▎       | 670/2977 [00:34<02:00, 19.20it/s]"
          ],
          "name": "stderr"
        },
        {
          "output_type": "stream",
          "text": [
            "7\n",
            "7\n",
            "7\n",
            "7\n"
          ],
          "name": "stdout"
        },
        {
          "output_type": "stream",
          "text": [
            " 23%|██▎       | 674/2977 [00:35<02:00, 19.18it/s]"
          ],
          "name": "stderr"
        },
        {
          "output_type": "stream",
          "text": [
            "7\n",
            "7\n",
            "7\n",
            "7\n"
          ],
          "name": "stdout"
        },
        {
          "output_type": "stream",
          "text": [
            " 23%|██▎       | 678/2977 [00:35<01:59, 19.17it/s]"
          ],
          "name": "stderr"
        },
        {
          "output_type": "stream",
          "text": [
            "7\n",
            "7\n",
            "7\n",
            "7\n"
          ],
          "name": "stdout"
        },
        {
          "output_type": "stream",
          "text": [
            " 23%|██▎       | 682/2977 [00:35<01:59, 19.17it/s]"
          ],
          "name": "stderr"
        },
        {
          "output_type": "stream",
          "text": [
            "7\n",
            "7\n",
            "7\n",
            "7\n"
          ],
          "name": "stdout"
        },
        {
          "output_type": "stream",
          "text": [
            " 23%|██▎       | 686/2977 [00:35<01:59, 19.16it/s]"
          ],
          "name": "stderr"
        },
        {
          "output_type": "stream",
          "text": [
            "7\n",
            "7\n",
            "7\n",
            "7\n"
          ],
          "name": "stdout"
        },
        {
          "output_type": "stream",
          "text": [
            " 23%|██▎       | 690/2977 [00:36<01:59, 19.15it/s]"
          ],
          "name": "stderr"
        },
        {
          "output_type": "stream",
          "text": [
            "7\n",
            "7\n",
            "7\n",
            "7\n"
          ],
          "name": "stdout"
        },
        {
          "output_type": "stream",
          "text": [
            " 23%|██▎       | 694/2977 [00:36<01:59, 19.14it/s]"
          ],
          "name": "stderr"
        },
        {
          "output_type": "stream",
          "text": [
            "7\n",
            "7\n",
            "7\n",
            "7\n"
          ],
          "name": "stdout"
        },
        {
          "output_type": "stream",
          "text": [
            " 23%|██▎       | 698/2977 [00:36<01:59, 19.13it/s]"
          ],
          "name": "stderr"
        },
        {
          "output_type": "stream",
          "text": [
            "7\n",
            "7\n",
            "7\n",
            "7\n"
          ],
          "name": "stdout"
        },
        {
          "output_type": "stream",
          "text": [
            " 24%|██▎       | 702/2977 [00:36<01:59, 19.12it/s]"
          ],
          "name": "stderr"
        },
        {
          "output_type": "stream",
          "text": [
            "7\n",
            "7\n",
            "7\n",
            "7\n"
          ],
          "name": "stdout"
        },
        {
          "output_type": "stream",
          "text": [
            " 24%|██▎       | 706/2977 [00:36<01:58, 19.12it/s]"
          ],
          "name": "stderr"
        },
        {
          "output_type": "stream",
          "text": [
            "7\n",
            "7\n",
            "7\n",
            "7\n"
          ],
          "name": "stdout"
        },
        {
          "output_type": "stream",
          "text": [
            " 24%|██▍       | 710/2977 [00:37<01:58, 19.10it/s]"
          ],
          "name": "stderr"
        },
        {
          "output_type": "stream",
          "text": [
            "7\n",
            "7\n",
            "7\n",
            "7\n"
          ],
          "name": "stdout"
        },
        {
          "output_type": "stream",
          "text": [
            " 24%|██▍       | 714/2977 [00:37<01:58, 19.09it/s]"
          ],
          "name": "stderr"
        },
        {
          "output_type": "stream",
          "text": [
            "7\n",
            "7\n",
            "7\n",
            "7\n"
          ],
          "name": "stdout"
        },
        {
          "output_type": "stream",
          "text": [
            " 24%|██▍       | 718/2977 [00:37<01:58, 19.09it/s]"
          ],
          "name": "stderr"
        },
        {
          "output_type": "stream",
          "text": [
            "7\n",
            "7\n",
            "7\n",
            "7\n"
          ],
          "name": "stdout"
        },
        {
          "output_type": "stream",
          "text": [
            " 24%|██▍       | 722/2977 [00:37<01:58, 19.09it/s]"
          ],
          "name": "stderr"
        },
        {
          "output_type": "stream",
          "text": [
            "7\n",
            "7\n",
            "7\n",
            "7\n"
          ],
          "name": "stdout"
        },
        {
          "output_type": "stream",
          "text": [
            " 24%|██▍       | 726/2977 [00:38<01:57, 19.08it/s]"
          ],
          "name": "stderr"
        },
        {
          "output_type": "stream",
          "text": [
            "7\n",
            "7\n",
            "7\n",
            "7\n"
          ],
          "name": "stdout"
        },
        {
          "output_type": "stream",
          "text": [
            " 25%|██▍       | 730/2977 [00:38<01:57, 19.07it/s]"
          ],
          "name": "stderr"
        },
        {
          "output_type": "stream",
          "text": [
            "7\n",
            "7\n",
            "7\n",
            "7\n"
          ],
          "name": "stdout"
        },
        {
          "output_type": "stream",
          "text": [
            " 25%|██▍       | 734/2977 [00:38<01:57, 19.06it/s]"
          ],
          "name": "stderr"
        },
        {
          "output_type": "stream",
          "text": [
            "7\n",
            "7\n",
            "7\n",
            "7\n"
          ],
          "name": "stdout"
        },
        {
          "output_type": "stream",
          "text": [
            " 25%|██▍       | 738/2977 [00:38<01:57, 19.06it/s]"
          ],
          "name": "stderr"
        },
        {
          "output_type": "stream",
          "text": [
            "7\n",
            "7\n",
            "7\n",
            "7\n"
          ],
          "name": "stdout"
        },
        {
          "output_type": "stream",
          "text": [
            " 25%|██▍       | 742/2977 [00:38<01:57, 19.04it/s]"
          ],
          "name": "stderr"
        },
        {
          "output_type": "stream",
          "text": [
            "7\n",
            "7\n",
            "7\n",
            "7\n"
          ],
          "name": "stdout"
        },
        {
          "output_type": "stream",
          "text": [
            " 25%|██▌       | 746/2977 [00:39<01:57, 19.05it/s]"
          ],
          "name": "stderr"
        },
        {
          "output_type": "stream",
          "text": [
            "7\n",
            "7\n",
            "7\n",
            "7\n"
          ],
          "name": "stdout"
        },
        {
          "output_type": "stream",
          "text": [
            " 25%|██▌       | 751/2977 [00:39<01:56, 19.05it/s]"
          ],
          "name": "stderr"
        },
        {
          "output_type": "stream",
          "text": [
            "7\n",
            "7\n",
            "7\n",
            "7\n"
          ],
          "name": "stdout"
        },
        {
          "output_type": "stream",
          "text": [
            " 25%|██▌       | 756/2977 [00:39<01:56, 19.05it/s]"
          ],
          "name": "stderr"
        },
        {
          "output_type": "stream",
          "text": [
            "7\n",
            "7\n",
            "7\n",
            "7\n"
          ],
          "name": "stdout"
        },
        {
          "output_type": "stream",
          "text": [
            "\r 25%|██▌       | 758/2977 [00:39<01:56, 19.04it/s]"
          ],
          "name": "stderr"
        },
        {
          "output_type": "stream",
          "text": [
            "7\n",
            "7\n",
            "7\n",
            "7\n"
          ],
          "name": "stdout"
        },
        {
          "output_type": "stream",
          "text": [
            " 26%|██▌       | 764/2977 [00:40<01:56, 19.04it/s]"
          ],
          "name": "stderr"
        },
        {
          "output_type": "stream",
          "text": [
            "7\n",
            "7\n",
            "7\n",
            "7\n"
          ],
          "name": "stdout"
        },
        {
          "output_type": "stream",
          "text": [
            "\r 26%|██▌       | 766/2977 [00:40<01:56, 19.04it/s]"
          ],
          "name": "stderr"
        },
        {
          "output_type": "stream",
          "text": [
            "7\n",
            "7\n",
            "7\n",
            "7\n"
          ],
          "name": "stdout"
        },
        {
          "output_type": "stream",
          "text": [
            " 26%|██▌       | 770/2977 [00:40<01:55, 19.03it/s]"
          ],
          "name": "stderr"
        },
        {
          "output_type": "stream",
          "text": [
            "7\n",
            "7\n",
            "7\n",
            "7\n"
          ],
          "name": "stdout"
        },
        {
          "output_type": "stream",
          "text": [
            " 26%|██▌       | 774/2977 [00:40<01:55, 19.03it/s]"
          ],
          "name": "stderr"
        },
        {
          "output_type": "stream",
          "text": [
            "7\n",
            "7\n",
            "7\n",
            "7\n"
          ],
          "name": "stdout"
        },
        {
          "output_type": "stream",
          "text": [
            " 26%|██▌       | 778/2977 [00:40<01:55, 19.03it/s]"
          ],
          "name": "stderr"
        },
        {
          "output_type": "stream",
          "text": [
            "7\n",
            "7\n",
            "7\n",
            "7\n",
            "7\n"
          ],
          "name": "stdout"
        },
        {
          "output_type": "stream",
          "text": [
            " 26%|██▋       | 785/2977 [00:41<01:55, 19.04it/s]"
          ],
          "name": "stderr"
        },
        {
          "output_type": "stream",
          "text": [
            "7\n",
            "7\n",
            "7\n",
            "7\n"
          ],
          "name": "stdout"
        },
        {
          "output_type": "stream",
          "text": [
            "\r 26%|██▋       | 788/2977 [00:41<01:54, 19.04it/s]"
          ],
          "name": "stderr"
        },
        {
          "output_type": "stream",
          "text": [
            "7\n",
            "7\n",
            "7\n",
            "7\n",
            "7\n"
          ],
          "name": "stdout"
        },
        {
          "output_type": "stream",
          "text": [
            " 27%|██▋       | 793/2977 [00:41<01:54, 19.05it/s]"
          ],
          "name": "stderr"
        },
        {
          "output_type": "stream",
          "text": [
            "7\n",
            "7\n",
            "7\n",
            "7\n",
            "7\n"
          ],
          "name": "stdout"
        },
        {
          "output_type": "stream",
          "text": [
            " 27%|██▋       | 799/2977 [00:41<01:54, 19.06it/s]"
          ],
          "name": "stderr"
        },
        {
          "output_type": "stream",
          "text": [
            "7\n",
            "7\n",
            "7\n",
            "7\n",
            "7"
          ],
          "name": "stdout"
        },
        {
          "output_type": "stream",
          "text": [
            "\r 27%|██▋       | 801/2977 [00:42<01:54, 19.05it/s]"
          ],
          "name": "stderr"
        },
        {
          "output_type": "stream",
          "text": [
            "\n",
            "7\n",
            "7\n",
            "7\n"
          ],
          "name": "stdout"
        },
        {
          "output_type": "stream",
          "text": [
            " 27%|██▋       | 805/2977 [00:42<01:54, 19.04it/s]"
          ],
          "name": "stderr"
        },
        {
          "output_type": "stream",
          "text": [
            "7\n",
            "7\n",
            "7\n",
            "7\n"
          ],
          "name": "stdout"
        },
        {
          "output_type": "stream",
          "text": [
            " 27%|██▋       | 809/2977 [00:42<01:53, 19.04it/s]"
          ],
          "name": "stderr"
        },
        {
          "output_type": "stream",
          "text": [
            "7\n",
            "7\n",
            "7\n",
            "7\n"
          ],
          "name": "stdout"
        },
        {
          "output_type": "stream",
          "text": [
            " 27%|██▋       | 813/2977 [00:42<01:53, 19.04it/s]"
          ],
          "name": "stderr"
        },
        {
          "output_type": "stream",
          "text": [
            "7\n",
            "7\n",
            "7\n",
            "7\n"
          ],
          "name": "stdout"
        },
        {
          "output_type": "stream",
          "text": [
            " 27%|██▋       | 817/2977 [00:42<01:53, 19.03it/s]"
          ],
          "name": "stderr"
        },
        {
          "output_type": "stream",
          "text": [
            "7\n",
            "7\n",
            "7\n",
            "7\n"
          ],
          "name": "stdout"
        },
        {
          "output_type": "stream",
          "text": [
            " 28%|██▊       | 821/2977 [00:43<01:53, 19.03it/s]"
          ],
          "name": "stderr"
        },
        {
          "output_type": "stream",
          "text": [
            "7\n",
            "7\n",
            "7\n",
            "7\n"
          ],
          "name": "stdout"
        },
        {
          "output_type": "stream",
          "text": [
            " 28%|██▊       | 825/2977 [00:43<01:53, 19.03it/s]"
          ],
          "name": "stderr"
        },
        {
          "output_type": "stream",
          "text": [
            "7\n",
            "7\n",
            "7\n",
            "7\n"
          ],
          "name": "stdout"
        },
        {
          "output_type": "stream",
          "text": [
            " 28%|██▊       | 829/2977 [00:43<01:52, 19.03it/s]"
          ],
          "name": "stderr"
        },
        {
          "output_type": "stream",
          "text": [
            "7\n",
            "7\n",
            "7\n",
            "7\n",
            "7\n"
          ],
          "name": "stdout"
        },
        {
          "output_type": "stream",
          "text": [
            " 28%|██▊       | 836/2977 [00:43<01:52, 19.03it/s]"
          ],
          "name": "stderr"
        },
        {
          "output_type": "stream",
          "text": [
            "7\n",
            "7\n",
            "7\n",
            "7\n"
          ],
          "name": "stdout"
        },
        {
          "output_type": "stream",
          "text": [
            "\r 28%|██▊       | 838/2977 [00:44<01:52, 19.03it/s]"
          ],
          "name": "stderr"
        },
        {
          "output_type": "stream",
          "text": [
            "7\n",
            "7\n",
            "7\n",
            "7\n"
          ],
          "name": "stdout"
        },
        {
          "output_type": "stream",
          "text": [
            " 28%|██▊       | 844/2977 [00:44<01:52, 19.03it/s]"
          ],
          "name": "stderr"
        },
        {
          "output_type": "stream",
          "text": [
            "7\n",
            "7\n",
            "7\n",
            "7\n"
          ],
          "name": "stdout"
        },
        {
          "output_type": "stream",
          "text": [
            "\r 28%|██▊       | 846/2977 [00:44<01:51, 19.03it/s]"
          ],
          "name": "stderr"
        },
        {
          "output_type": "stream",
          "text": [
            "7\n",
            "7\n",
            "7\n",
            "7\n"
          ],
          "name": "stdout"
        },
        {
          "output_type": "stream",
          "text": [
            " 29%|██▊       | 850/2977 [00:44<01:51, 19.03it/s]"
          ],
          "name": "stderr"
        },
        {
          "output_type": "stream",
          "text": [
            "7\n",
            "7\n",
            "7\n",
            "7\n"
          ],
          "name": "stdout"
        },
        {
          "output_type": "stream",
          "text": [
            " 29%|██▊       | 855/2977 [00:44<01:51, 19.03it/s]"
          ],
          "name": "stderr"
        },
        {
          "output_type": "stream",
          "text": [
            "7\n",
            "7\n",
            "7\n",
            "7\n",
            "7\n"
          ],
          "name": "stdout"
        },
        {
          "output_type": "stream",
          "text": [
            " 29%|██▉       | 859/2977 [00:45<01:51, 19.02it/s]"
          ],
          "name": "stderr"
        },
        {
          "output_type": "stream",
          "text": [
            "7\n",
            "7\n",
            "7\n",
            "7\n"
          ],
          "name": "stdout"
        },
        {
          "output_type": "stream",
          "text": [
            " 29%|██▉       | 865/2977 [00:45<01:51, 19.02it/s]"
          ],
          "name": "stderr"
        },
        {
          "output_type": "stream",
          "text": [
            "7\n",
            "7\n",
            "7\n",
            "7\n",
            "7\n"
          ],
          "name": "stdout"
        },
        {
          "output_type": "stream",
          "text": [
            " 29%|██▉       | 869/2977 [00:45<01:50, 19.03it/s]"
          ],
          "name": "stderr"
        },
        {
          "output_type": "stream",
          "text": [
            "7\n",
            "7\n",
            "7\n",
            "7\n",
            "7\n"
          ],
          "name": "stdout"
        },
        {
          "output_type": "stream",
          "text": [
            " 29%|██▉       | 874/2977 [00:45<01:50, 19.03it/s]"
          ],
          "name": "stderr"
        },
        {
          "output_type": "stream",
          "text": [
            "7\n",
            "7\n",
            "7\n",
            "7\n"
          ],
          "name": "stdout"
        },
        {
          "output_type": "stream",
          "text": [
            " 29%|██▉       | 878/2977 [00:46<01:50, 19.03it/s]"
          ],
          "name": "stderr"
        },
        {
          "output_type": "stream",
          "text": [
            "7\n",
            "7\n",
            "7\n",
            "7\n"
          ],
          "name": "stdout"
        },
        {
          "output_type": "stream",
          "text": [
            "\r 30%|██▉       | 881/2977 [00:46<01:50, 19.03it/s]"
          ],
          "name": "stderr"
        },
        {
          "output_type": "stream",
          "text": [
            "7\n",
            "7\n",
            "7\n",
            "7\n"
          ],
          "name": "stdout"
        },
        {
          "output_type": "stream",
          "text": [
            " 30%|██▉       | 885/2977 [00:46<01:49, 19.02it/s]"
          ],
          "name": "stderr"
        },
        {
          "output_type": "stream",
          "text": [
            "7\n",
            "7\n",
            "7\n",
            "7\n"
          ],
          "name": "stdout"
        },
        {
          "output_type": "stream",
          "text": [
            " 30%|██▉       | 889/2977 [00:46<01:49, 19.02it/s]"
          ],
          "name": "stderr"
        },
        {
          "output_type": "stream",
          "text": [
            "7\n",
            "7\n",
            "7\n",
            "7\n"
          ],
          "name": "stdout"
        },
        {
          "output_type": "stream",
          "text": [
            " 30%|██▉       | 893/2977 [00:46<01:49, 19.02it/s]"
          ],
          "name": "stderr"
        },
        {
          "output_type": "stream",
          "text": [
            "7\n",
            "7\n",
            "7\n",
            "7\n"
          ],
          "name": "stdout"
        },
        {
          "output_type": "stream",
          "text": [
            " 30%|███       | 898/2977 [00:47<01:49, 19.02it/s]"
          ],
          "name": "stderr"
        },
        {
          "output_type": "stream",
          "text": [
            "7\n",
            "7\n",
            "7\n",
            "7\n"
          ],
          "name": "stdout"
        },
        {
          "output_type": "stream",
          "text": [
            " 30%|███       | 902/2977 [00:47<01:49, 19.02it/s]"
          ],
          "name": "stderr"
        },
        {
          "output_type": "stream",
          "text": [
            "7\n",
            "7\n",
            "7\n",
            "7\n"
          ],
          "name": "stdout"
        },
        {
          "output_type": "stream",
          "text": [
            " 30%|███       | 906/2977 [00:47<01:48, 19.02it/s]"
          ],
          "name": "stderr"
        },
        {
          "output_type": "stream",
          "text": [
            "7\n",
            "7\n",
            "7\n",
            "7\n"
          ],
          "name": "stdout"
        },
        {
          "output_type": "stream",
          "text": [
            "\r 31%|███       | 909/2977 [00:47<01:48, 19.02it/s]"
          ],
          "name": "stderr"
        },
        {
          "output_type": "stream",
          "text": [
            "7\n",
            "7\n",
            "7\n",
            "7\n",
            "7\n"
          ],
          "name": "stdout"
        },
        {
          "output_type": "stream",
          "text": [
            " 31%|███       | 914/2977 [00:48<01:48, 19.02it/s]"
          ],
          "name": "stderr"
        },
        {
          "output_type": "stream",
          "text": [
            "7\n",
            "7\n",
            "7\n",
            "7\n",
            "7"
          ],
          "name": "stdout"
        },
        {
          "output_type": "stream",
          "text": [
            " 31%|███       | 920/2977 [00:48<01:48, 19.03it/s]"
          ],
          "name": "stderr"
        },
        {
          "output_type": "stream",
          "text": [
            "\n",
            "7\n",
            "7\n",
            "7\n",
            "7\n"
          ],
          "name": "stdout"
        },
        {
          "output_type": "stream",
          "text": [
            " 31%|███       | 925/2977 [00:48<01:47, 19.03it/s]"
          ],
          "name": "stderr"
        },
        {
          "output_type": "stream",
          "text": [
            "7\n",
            "7\n",
            "7\n",
            "7\n",
            "7\n"
          ],
          "name": "stdout"
        },
        {
          "output_type": "stream",
          "text": [
            " 31%|███       | 929/2977 [00:48<01:47, 19.02it/s]"
          ],
          "name": "stderr"
        },
        {
          "output_type": "stream",
          "text": [
            "7\n",
            "7\n",
            "7\n",
            "7\n"
          ],
          "name": "stdout"
        },
        {
          "output_type": "stream",
          "text": [
            " 31%|███▏      | 934/2977 [00:49<01:47, 19.03it/s]"
          ],
          "name": "stderr"
        },
        {
          "output_type": "stream",
          "text": [
            "7\n",
            "7\n",
            "7\n",
            "7\n",
            "7\n"
          ],
          "name": "stdout"
        },
        {
          "output_type": "stream",
          "text": [
            " 32%|███▏      | 939/2977 [00:49<01:47, 19.03it/s]"
          ],
          "name": "stderr"
        },
        {
          "output_type": "stream",
          "text": [
            "7\n",
            "7\n",
            "7\n",
            "7\n"
          ],
          "name": "stdout"
        },
        {
          "output_type": "stream",
          "text": [
            " 32%|███▏      | 943/2977 [00:49<01:46, 19.03it/s]"
          ],
          "name": "stderr"
        },
        {
          "output_type": "stream",
          "text": [
            "7\n",
            "7\n",
            "7\n",
            "7\n"
          ],
          "name": "stdout"
        },
        {
          "output_type": "stream",
          "text": [
            "\r 32%|███▏      | 945/2977 [00:49<01:46, 19.03it/s]"
          ],
          "name": "stderr"
        },
        {
          "output_type": "stream",
          "text": [
            "7\n",
            "7\n",
            "7\n",
            "7\n",
            "7"
          ],
          "name": "stdout"
        },
        {
          "output_type": "stream",
          "text": [
            " 32%|███▏      | 951/2977 [00:49<01:46, 19.03it/s]"
          ],
          "name": "stderr"
        },
        {
          "output_type": "stream",
          "text": [
            "\n",
            "7\n",
            "7\n",
            "7\n",
            "7\n"
          ],
          "name": "stdout"
        },
        {
          "output_type": "stream",
          "text": [
            " 32%|███▏      | 956/2977 [00:50<01:46, 19.03it/s]"
          ],
          "name": "stderr"
        },
        {
          "output_type": "stream",
          "text": [
            "7\n",
            "7\n",
            "7\n",
            "7\n",
            "7\n"
          ],
          "name": "stdout"
        },
        {
          "output_type": "stream",
          "text": [
            " 32%|███▏      | 961/2977 [00:50<01:45, 19.04it/s]"
          ],
          "name": "stderr"
        },
        {
          "output_type": "stream",
          "text": [
            "7\n",
            "7\n",
            "7\n",
            "7\n"
          ],
          "name": "stdout"
        },
        {
          "output_type": "stream",
          "text": [
            "\r 32%|███▏      | 964/2977 [00:50<01:45, 19.04it/s]"
          ],
          "name": "stderr"
        },
        {
          "output_type": "stream",
          "text": [
            "7\n",
            "7\n",
            "7\n",
            "7\n",
            "7\n"
          ],
          "name": "stdout"
        },
        {
          "output_type": "stream",
          "text": [
            " 33%|███▎      | 968/2977 [00:50<01:45, 19.04it/s]"
          ],
          "name": "stderr"
        },
        {
          "output_type": "stream",
          "text": [
            "7\n",
            "7\n",
            "7\n",
            "7\n"
          ],
          "name": "stdout"
        },
        {
          "output_type": "stream",
          "text": [
            " 33%|███▎      | 973/2977 [00:51<01:45, 19.04it/s]"
          ],
          "name": "stderr"
        },
        {
          "output_type": "stream",
          "text": [
            "7\n",
            "7\n",
            "7\n",
            "7\n",
            "7\n"
          ],
          "name": "stdout"
        },
        {
          "output_type": "stream",
          "text": [
            " 33%|███▎      | 979/2977 [00:51<01:44, 19.05it/s]"
          ],
          "name": "stderr"
        },
        {
          "output_type": "stream",
          "text": [
            "7\n",
            "7\n",
            "7\n",
            "7\n"
          ],
          "name": "stdout"
        },
        {
          "output_type": "stream",
          "text": [
            "\r 33%|███▎      | 981/2977 [00:51<01:44, 19.05it/s]"
          ],
          "name": "stderr"
        },
        {
          "output_type": "stream",
          "text": [
            "7\n",
            "7\n",
            "7\n",
            "7\n",
            "7\n"
          ],
          "name": "stdout"
        },
        {
          "output_type": "stream",
          "text": [
            " 33%|███▎      | 987/2977 [00:51<01:44, 19.06it/s]"
          ],
          "name": "stderr"
        },
        {
          "output_type": "stream",
          "text": [
            "7\n",
            "7\n",
            "7\n",
            "7\n",
            "7\n"
          ],
          "name": "stdout"
        },
        {
          "output_type": "stream",
          "text": [
            " 33%|███▎      | 993/2977 [00:52<01:44, 19.07it/s]"
          ],
          "name": "stderr"
        },
        {
          "output_type": "stream",
          "text": [
            "7\n",
            "7\n",
            "7\n",
            "7\n",
            "7\n"
          ],
          "name": "stdout"
        },
        {
          "output_type": "stream",
          "text": [
            "\r 33%|███▎      | 996/2977 [00:52<01:43, 19.08it/s]"
          ],
          "name": "stderr"
        },
        {
          "output_type": "stream",
          "text": [
            "7\n",
            "7\n",
            "7\n",
            "7\n",
            "7\n"
          ],
          "name": "stdout"
        },
        {
          "output_type": "stream",
          "text": [
            " 34%|███▎      | 1002/2977 [00:52<01:43, 19.08it/s]"
          ],
          "name": "stderr"
        },
        {
          "output_type": "stream",
          "text": [
            "7\n",
            "7\n",
            "7\n",
            "7\n"
          ],
          "name": "stdout"
        },
        {
          "output_type": "stream",
          "text": [
            "\r 34%|███▍      | 1005/2977 [00:52<01:43, 19.09it/s]"
          ],
          "name": "stderr"
        },
        {
          "output_type": "stream",
          "text": [
            "7\n",
            "7\n",
            "7\n",
            "7\n"
          ],
          "name": "stdout"
        },
        {
          "output_type": "stream",
          "text": [
            " 34%|███▍      | 1010/2977 [00:52<01:43, 19.09it/s]"
          ],
          "name": "stderr"
        },
        {
          "output_type": "stream",
          "text": [
            "7\n",
            "7\n",
            "7\n",
            "7\n",
            "7\n"
          ],
          "name": "stdout"
        },
        {
          "output_type": "stream",
          "text": [
            " 34%|███▍      | 1016/2977 [00:53<01:42, 19.10it/s]"
          ],
          "name": "stderr"
        },
        {
          "output_type": "stream",
          "text": [
            "7\n",
            "7\n",
            "7\n",
            "7\n",
            "7\n"
          ],
          "name": "stdout"
        },
        {
          "output_type": "stream",
          "text": [
            "\r 34%|███▍      | 1019/2977 [00:53<01:42, 19.10it/s]"
          ],
          "name": "stderr"
        },
        {
          "output_type": "stream",
          "text": [
            "7\n",
            "7\n",
            "7\n",
            "7\n",
            "7\n"
          ],
          "name": "stdout"
        },
        {
          "output_type": "stream",
          "text": [
            " 34%|███▍      | 1025/2977 [00:53<01:42, 19.11it/s]"
          ],
          "name": "stderr"
        },
        {
          "output_type": "stream",
          "text": [
            "7\n",
            "7\n",
            "7\n",
            "7\n",
            "7\n"
          ],
          "name": "stdout"
        },
        {
          "output_type": "stream",
          "text": [
            " 35%|███▍      | 1031/2977 [00:53<01:41, 19.13it/s]"
          ],
          "name": "stderr"
        },
        {
          "output_type": "stream",
          "text": [
            "7\n",
            "7\n",
            "7\n",
            "7\n",
            "7\n"
          ],
          "name": "stdout"
        },
        {
          "output_type": "stream",
          "text": [
            "\r 35%|███▍      | 1034/2977 [00:54<01:41, 19.13it/s]"
          ],
          "name": "stderr"
        },
        {
          "output_type": "stream",
          "text": [
            "7\n",
            "7\n",
            "7\n",
            "7\n",
            "7\n"
          ],
          "name": "stdout"
        },
        {
          "output_type": "stream",
          "text": [
            " 35%|███▍      | 1040/2977 [00:54<01:41, 19.13it/s]"
          ],
          "name": "stderr"
        },
        {
          "output_type": "stream",
          "text": [
            "7\n",
            "7\n",
            "7\n",
            "7\n",
            "7\n"
          ],
          "name": "stdout"
        },
        {
          "output_type": "stream",
          "text": [
            " 35%|███▌      | 1046/2977 [00:54<01:40, 19.14it/s]"
          ],
          "name": "stderr"
        },
        {
          "output_type": "stream",
          "text": [
            "7\n",
            "7\n",
            "7\n",
            "7\n"
          ],
          "name": "stdout"
        },
        {
          "output_type": "stream",
          "text": [
            "\r 35%|███▌      | 1049/2977 [00:54<01:40, 19.14it/s]"
          ],
          "name": "stderr"
        },
        {
          "output_type": "stream",
          "text": [
            "7\n",
            "7\n",
            "7\n",
            "7\n",
            "7\n"
          ],
          "name": "stdout"
        },
        {
          "output_type": "stream",
          "text": [
            " 35%|███▌      | 1055/2977 [00:55<01:40, 19.15it/s]"
          ],
          "name": "stderr"
        },
        {
          "output_type": "stream",
          "text": [
            "7\n",
            "7\n",
            "7\n",
            "7\n",
            "7\n"
          ],
          "name": "stdout"
        },
        {
          "output_type": "stream",
          "text": [
            "\r 36%|███▌      | 1058/2977 [00:55<01:40, 19.15it/s]"
          ],
          "name": "stderr"
        },
        {
          "output_type": "stream",
          "text": [
            "7\n",
            "7\n",
            "7\n",
            "7\n",
            "7\n"
          ],
          "name": "stdout"
        },
        {
          "output_type": "stream",
          "text": [
            " 36%|███▌      | 1064/2977 [00:55<01:39, 19.16it/s]"
          ],
          "name": "stderr"
        },
        {
          "output_type": "stream",
          "text": [
            "7\n",
            "7\n",
            "7\n",
            "7\n",
            "7\n"
          ],
          "name": "stdout"
        },
        {
          "output_type": "stream",
          "text": [
            "\r 36%|███▌      | 1067/2977 [00:55<01:39, 19.16it/s]"
          ],
          "name": "stderr"
        },
        {
          "output_type": "stream",
          "text": [
            "7\n",
            "7\n",
            "7\n",
            "7\n"
          ],
          "name": "stdout"
        },
        {
          "output_type": "stream",
          "text": [
            " 36%|███▌      | 1073/2977 [00:55<01:39, 19.16it/s]"
          ],
          "name": "stderr"
        },
        {
          "output_type": "stream",
          "text": [
            "7\n",
            "7\n",
            "7\n",
            "7\n",
            "7\n"
          ],
          "name": "stdout"
        },
        {
          "output_type": "stream",
          "text": [
            " 36%|███▌      | 1078/2977 [00:56<01:39, 19.16it/s]"
          ],
          "name": "stderr"
        },
        {
          "output_type": "stream",
          "text": [
            "7\n",
            "7\n",
            "7\n",
            "7\n"
          ],
          "name": "stdout"
        },
        {
          "output_type": "stream",
          "text": [
            "\r 36%|███▋      | 1081/2977 [00:56<01:38, 19.16it/s]"
          ],
          "name": "stderr"
        },
        {
          "output_type": "stream",
          "text": [
            "7\n",
            "7\n",
            "7\n",
            "7\n"
          ],
          "name": "stdout"
        },
        {
          "output_type": "stream",
          "text": [
            " 36%|███▋      | 1085/2977 [00:56<01:38, 19.16it/s]"
          ],
          "name": "stderr"
        },
        {
          "output_type": "stream",
          "text": [
            "7\n",
            "7\n",
            "7\n",
            "7\n",
            "7\n"
          ],
          "name": "stdout"
        },
        {
          "output_type": "stream",
          "text": [
            " 37%|███▋      | 1090/2977 [00:56<01:38, 19.16it/s]"
          ],
          "name": "stderr"
        },
        {
          "output_type": "stream",
          "text": [
            "7\n",
            "7\n",
            "7\n",
            "7\n",
            "7\n"
          ],
          "name": "stdout"
        },
        {
          "output_type": "stream",
          "text": [
            " 37%|███▋      | 1096/2977 [00:57<01:38, 19.17it/s]"
          ],
          "name": "stderr"
        },
        {
          "output_type": "stream",
          "text": [
            "7\n",
            "7\n",
            "7\n",
            "7\n",
            "7\n"
          ],
          "name": "stdout"
        },
        {
          "output_type": "stream",
          "text": [
            " 37%|███▋      | 1102/2977 [00:57<01:37, 19.18it/s]"
          ],
          "name": "stderr"
        },
        {
          "output_type": "stream",
          "text": [
            "7\n",
            "7\n",
            "7\n",
            "7\n",
            "7\n"
          ],
          "name": "stdout"
        },
        {
          "output_type": "stream",
          "text": [
            "\r 37%|███▋      | 1105/2977 [00:57<01:37, 19.18it/s]"
          ],
          "name": "stderr"
        },
        {
          "output_type": "stream",
          "text": [
            "7\n",
            "7\n",
            "7\n",
            "7\n",
            "7\n"
          ],
          "name": "stdout"
        },
        {
          "output_type": "stream",
          "text": [
            " 37%|███▋      | 1111/2977 [00:57<01:37, 19.19it/s]"
          ],
          "name": "stderr"
        },
        {
          "output_type": "stream",
          "text": [
            "7\n",
            "7\n",
            "7\n",
            "7\n",
            "7\n"
          ],
          "name": "stdout"
        },
        {
          "output_type": "stream",
          "text": [
            " 38%|███▊      | 1117/2977 [00:58<01:36, 19.20it/s]"
          ],
          "name": "stderr"
        },
        {
          "output_type": "stream",
          "text": [
            "7\n",
            "7\n",
            "7\n",
            "7\n",
            "7\n"
          ],
          "name": "stdout"
        },
        {
          "output_type": "stream",
          "text": [
            "\r 38%|███▊      | 1120/2977 [00:58<01:36, 19.19it/s]"
          ],
          "name": "stderr"
        },
        {
          "output_type": "stream",
          "text": [
            "7\n",
            "7\n",
            "7\n",
            "7\n"
          ],
          "name": "stdout"
        },
        {
          "output_type": "stream",
          "text": [
            " 38%|███▊      | 1125/2977 [00:58<01:36, 19.19it/s]"
          ],
          "name": "stderr"
        },
        {
          "output_type": "stream",
          "text": [
            "7\n",
            "7\n",
            "7\n",
            "7\n"
          ],
          "name": "stdout"
        },
        {
          "output_type": "stream",
          "text": [
            "\r 38%|███▊      | 1127/2977 [00:58<01:36, 19.19it/s]"
          ],
          "name": "stderr"
        },
        {
          "output_type": "stream",
          "text": [
            "7\n",
            "7\n",
            "7\n",
            "7\n"
          ],
          "name": "stdout"
        },
        {
          "output_type": "stream",
          "text": [
            " 38%|███▊      | 1133/2977 [00:59<01:36, 19.20it/s]"
          ],
          "name": "stderr"
        },
        {
          "output_type": "stream",
          "text": [
            "7\n",
            "7\n",
            "7\n",
            "7\n",
            "7\n"
          ],
          "name": "stdout"
        },
        {
          "output_type": "stream",
          "text": [
            " 38%|███▊      | 1138/2977 [00:59<01:35, 19.20it/s]"
          ],
          "name": "stderr"
        },
        {
          "output_type": "stream",
          "text": [
            "7\n",
            "7\n",
            "7\n",
            "7\n",
            "7\n"
          ],
          "name": "stdout"
        },
        {
          "output_type": "stream",
          "text": [
            " 38%|███▊      | 1144/2977 [00:59<01:35, 19.20it/s]"
          ],
          "name": "stderr"
        },
        {
          "output_type": "stream",
          "text": [
            "7\n",
            "7\n",
            "7\n",
            "7\n",
            "7\n"
          ],
          "name": "stdout"
        },
        {
          "output_type": "stream",
          "text": [
            "\r 39%|███▊      | 1147/2977 [00:59<01:35, 19.21it/s]"
          ],
          "name": "stderr"
        },
        {
          "output_type": "stream",
          "text": [
            "7\n",
            "7\n",
            "7\n",
            "7\n",
            "7\n"
          ],
          "name": "stdout"
        },
        {
          "output_type": "stream",
          "text": [
            " 39%|███▊      | 1153/2977 [01:00<01:34, 19.21it/s]"
          ],
          "name": "stderr"
        },
        {
          "output_type": "stream",
          "text": [
            "7\n",
            "7\n",
            "7\n",
            "7\n",
            "7\n"
          ],
          "name": "stdout"
        },
        {
          "output_type": "stream",
          "text": [
            " 39%|███▉      | 1158/2977 [01:00<01:34, 19.21it/s]"
          ],
          "name": "stderr"
        },
        {
          "output_type": "stream",
          "text": [
            "7\n",
            "7\n",
            "7\n",
            "7\n",
            "7\n"
          ],
          "name": "stdout"
        },
        {
          "output_type": "stream",
          "text": [
            " 39%|███▉      | 1164/2977 [01:00<01:34, 19.22it/s]"
          ],
          "name": "stderr"
        },
        {
          "output_type": "stream",
          "text": [
            "7\n",
            "7\n",
            "7\n",
            "7\n"
          ],
          "name": "stdout"
        },
        {
          "output_type": "stream",
          "text": [
            "\r 39%|███▉      | 1167/2977 [01:00<01:34, 19.22it/s]"
          ],
          "name": "stderr"
        },
        {
          "output_type": "stream",
          "text": [
            "7\n",
            "7\n",
            "7\n",
            "7\n"
          ],
          "name": "stdout"
        },
        {
          "output_type": "stream",
          "text": [
            "\r 39%|███▉      | 1170/2977 [01:00<01:34, 19.22it/s]"
          ],
          "name": "stderr"
        },
        {
          "output_type": "stream",
          "text": [
            "7\n",
            "7\n",
            "7\n",
            "7\n",
            "7\n"
          ],
          "name": "stdout"
        },
        {
          "output_type": "stream",
          "text": [
            " 40%|███▉      | 1176/2977 [01:01<01:33, 19.23it/s]"
          ],
          "name": "stderr"
        },
        {
          "output_type": "stream",
          "text": [
            "7\n",
            "7\n",
            "7\n",
            "7\n",
            "7\n"
          ],
          "name": "stdout"
        },
        {
          "output_type": "stream",
          "text": [
            " 40%|███▉      | 1182/2977 [01:01<01:33, 19.23it/s]"
          ],
          "name": "stderr"
        },
        {
          "output_type": "stream",
          "text": [
            "7\n",
            "7\n",
            "7\n",
            "7\n",
            "7\n"
          ],
          "name": "stdout"
        },
        {
          "output_type": "stream",
          "text": [
            "\r 40%|███▉      | 1185/2977 [01:01<01:33, 19.24it/s]"
          ],
          "name": "stderr"
        },
        {
          "output_type": "stream",
          "text": [
            "7\n",
            "7\n",
            "7\n",
            "7\n",
            "7\n"
          ],
          "name": "stdout"
        },
        {
          "output_type": "stream",
          "text": [
            " 40%|████      | 1191/2977 [01:01<01:32, 19.24it/s]"
          ],
          "name": "stderr"
        },
        {
          "output_type": "stream",
          "text": [
            "7\n",
            "7\n",
            "7\n",
            "7\n"
          ],
          "name": "stdout"
        },
        {
          "output_type": "stream",
          "text": [
            "\r 40%|████      | 1194/2977 [01:02<01:32, 19.24it/s]"
          ],
          "name": "stderr"
        },
        {
          "output_type": "stream",
          "text": [
            "7\n",
            "7\n",
            "7\n",
            "7\n",
            "7\n"
          ],
          "name": "stdout"
        },
        {
          "output_type": "stream",
          "text": [
            " 40%|████      | 1200/2977 [01:02<01:32, 19.24it/s]"
          ],
          "name": "stderr"
        },
        {
          "output_type": "stream",
          "text": [
            "7\n",
            "7\n",
            "7\n",
            "7\n"
          ],
          "name": "stdout"
        },
        {
          "output_type": "stream",
          "text": [
            " 40%|████      | 1205/2977 [01:02<01:32, 19.24it/s]"
          ],
          "name": "stderr"
        },
        {
          "output_type": "stream",
          "text": [
            "7\n",
            "7\n",
            "7\n",
            "7\n",
            "7\n"
          ],
          "name": "stdout"
        },
        {
          "output_type": "stream",
          "text": [
            "\r 41%|████      | 1208/2977 [01:02<01:31, 19.24it/s]"
          ],
          "name": "stderr"
        },
        {
          "output_type": "stream",
          "text": [
            "7\n",
            "7\n",
            "7\n",
            "7\n"
          ],
          "name": "stdout"
        },
        {
          "output_type": "stream",
          "text": [
            " 41%|████      | 1213/2977 [01:03<01:31, 19.24it/s]"
          ],
          "name": "stderr"
        },
        {
          "output_type": "stream",
          "text": [
            "7\n",
            "7\n",
            "7\n",
            "7\n"
          ],
          "name": "stdout"
        },
        {
          "output_type": "stream",
          "text": [
            " 41%|████      | 1218/2977 [01:03<01:31, 19.24it/s]"
          ],
          "name": "stderr"
        },
        {
          "output_type": "stream",
          "text": [
            "7\n",
            "7\n",
            "7\n",
            "7\n",
            "7\n"
          ],
          "name": "stdout"
        },
        {
          "output_type": "stream",
          "text": [
            " 41%|████      | 1223/2977 [01:03<01:31, 19.24it/s]"
          ],
          "name": "stderr"
        },
        {
          "output_type": "stream",
          "text": [
            "7\n",
            "7\n",
            "7\n",
            "7\n",
            "7\n"
          ],
          "name": "stdout"
        },
        {
          "output_type": "stream",
          "text": [
            " 41%|████      | 1227/2977 [01:03<01:30, 19.24it/s]"
          ],
          "name": "stderr"
        },
        {
          "output_type": "stream",
          "text": [
            "7\n",
            "7\n",
            "7\n",
            "7\n"
          ],
          "name": "stdout"
        },
        {
          "output_type": "stream",
          "text": [
            " 41%|████▏     | 1231/2977 [01:03<01:30, 19.24it/s]"
          ],
          "name": "stderr"
        },
        {
          "output_type": "stream",
          "text": [
            "7\n",
            "7\n",
            "7\n",
            "7\n"
          ],
          "name": "stdout"
        },
        {
          "output_type": "stream",
          "text": [
            "\r 41%|████▏     | 1234/2977 [01:04<01:30, 19.24it/s]"
          ],
          "name": "stderr"
        },
        {
          "output_type": "stream",
          "text": [
            "7\n",
            "7\n",
            "7\n",
            "7\n",
            "7\n"
          ],
          "name": "stdout"
        },
        {
          "output_type": "stream",
          "text": [
            " 42%|████▏     | 1240/2977 [01:04<01:30, 19.25it/s]"
          ],
          "name": "stderr"
        },
        {
          "output_type": "stream",
          "text": [
            "7\n",
            "7\n",
            "7\n",
            "7\n",
            "7\n"
          ],
          "name": "stdout"
        },
        {
          "output_type": "stream",
          "text": [
            "\r 42%|████▏     | 1243/2977 [01:04<01:30, 19.25it/s]"
          ],
          "name": "stderr"
        },
        {
          "output_type": "stream",
          "text": [
            "7\n",
            "7\n",
            "7\n",
            "7\n"
          ],
          "name": "stdout"
        },
        {
          "output_type": "stream",
          "text": [
            " 42%|████▏     | 1248/2977 [01:04<01:29, 19.25it/s]"
          ],
          "name": "stderr"
        },
        {
          "output_type": "stream",
          "text": [
            "7\n",
            "7\n",
            "7\n",
            "7\n"
          ],
          "name": "stdout"
        },
        {
          "output_type": "stream",
          "text": [
            " 42%|████▏     | 1253/2977 [01:05<01:29, 19.25it/s]"
          ],
          "name": "stderr"
        },
        {
          "output_type": "stream",
          "text": [
            "7\n",
            "7\n",
            "7\n",
            "7\n"
          ],
          "name": "stdout"
        },
        {
          "output_type": "stream",
          "text": [
            " 42%|████▏     | 1257/2977 [01:05<01:29, 19.24it/s]"
          ],
          "name": "stderr"
        },
        {
          "output_type": "stream",
          "text": [
            "7\n",
            "7\n",
            "7\n",
            "7\n"
          ],
          "name": "stdout"
        },
        {
          "output_type": "stream",
          "text": [
            " 42%|████▏     | 1261/2977 [01:05<01:29, 19.24it/s]"
          ],
          "name": "stderr"
        },
        {
          "output_type": "stream",
          "text": [
            "7\n",
            "7\n",
            "7\n",
            "7\n"
          ],
          "name": "stdout"
        },
        {
          "output_type": "stream",
          "text": [
            " 42%|████▏     | 1265/2977 [01:05<01:28, 19.24it/s]"
          ],
          "name": "stderr"
        },
        {
          "output_type": "stream",
          "text": [
            "7\n",
            "7\n",
            "7\n",
            "7\n"
          ],
          "name": "stdout"
        },
        {
          "output_type": "stream",
          "text": [
            " 43%|████▎     | 1269/2977 [01:05<01:28, 19.24it/s]"
          ],
          "name": "stderr"
        },
        {
          "output_type": "stream",
          "text": [
            "7\n",
            "7\n",
            "7\n",
            "7\n"
          ],
          "name": "stdout"
        },
        {
          "output_type": "stream",
          "text": [
            "\r 43%|████▎     | 1272/2977 [01:06<01:28, 19.23it/s]"
          ],
          "name": "stderr"
        },
        {
          "output_type": "stream",
          "text": [
            "7\n",
            "7\n",
            "7\n",
            "7\n"
          ],
          "name": "stdout"
        },
        {
          "output_type": "stream",
          "text": [
            " 43%|████▎     | 1276/2977 [01:06<01:28, 19.23it/s]"
          ],
          "name": "stderr"
        },
        {
          "output_type": "stream",
          "text": [
            "7\n",
            "7\n",
            "7\n",
            "7\n"
          ],
          "name": "stdout"
        },
        {
          "output_type": "stream",
          "text": [
            " 43%|████▎     | 1280/2977 [01:06<01:28, 19.23it/s]"
          ],
          "name": "stderr"
        },
        {
          "output_type": "stream",
          "text": [
            "7\n",
            "7\n",
            "7\n",
            "7\n"
          ],
          "name": "stdout"
        },
        {
          "output_type": "stream",
          "text": [
            " 43%|████▎     | 1284/2977 [01:06<01:28, 19.23it/s]"
          ],
          "name": "stderr"
        },
        {
          "output_type": "stream",
          "text": [
            "7\n",
            "7\n",
            "7\n",
            "7\n",
            "7\n"
          ],
          "name": "stdout"
        },
        {
          "output_type": "stream",
          "text": [
            " 43%|████▎     | 1289/2977 [01:07<01:27, 19.23it/s]"
          ],
          "name": "stderr"
        },
        {
          "output_type": "stream",
          "text": [
            "7\n",
            "7\n",
            "7\n",
            "7\n"
          ],
          "name": "stdout"
        },
        {
          "output_type": "stream",
          "text": [
            " 43%|████▎     | 1294/2977 [01:07<01:27, 19.23it/s]"
          ],
          "name": "stderr"
        },
        {
          "output_type": "stream",
          "text": [
            "7\n",
            "7\n",
            "7\n",
            "7\n"
          ],
          "name": "stdout"
        },
        {
          "output_type": "stream",
          "text": [
            " 44%|████▎     | 1299/2977 [01:07<01:27, 19.23it/s]"
          ],
          "name": "stderr"
        },
        {
          "output_type": "stream",
          "text": [
            "7\n",
            "7\n",
            "7\n",
            "7\n"
          ],
          "name": "stdout"
        },
        {
          "output_type": "stream",
          "text": [
            "\r 44%|████▎     | 1301/2977 [01:07<01:27, 19.24it/s]"
          ],
          "name": "stderr"
        },
        {
          "output_type": "stream",
          "text": [
            "7\n",
            "7\n",
            "7\n",
            "7\n",
            "7\n"
          ],
          "name": "stdout"
        },
        {
          "output_type": "stream",
          "text": [
            " 44%|████▍     | 1306/2977 [01:07<01:26, 19.23it/s]"
          ],
          "name": "stderr"
        },
        {
          "output_type": "stream",
          "text": [
            "7\n",
            "7\n",
            "7\n",
            "7\n"
          ],
          "name": "stdout"
        },
        {
          "output_type": "stream",
          "text": [
            " 44%|████▍     | 1310/2977 [01:08<01:26, 19.23it/s]"
          ],
          "name": "stderr"
        },
        {
          "output_type": "stream",
          "text": [
            "7\n",
            "7\n",
            "7\n",
            "7\n"
          ],
          "name": "stdout"
        },
        {
          "output_type": "stream",
          "text": [
            " 44%|████▍     | 1314/2977 [01:08<01:26, 19.22it/s]"
          ],
          "name": "stderr"
        },
        {
          "output_type": "stream",
          "text": [
            "7\n",
            "7\n",
            "7\n",
            "7\n",
            "7\n"
          ],
          "name": "stdout"
        },
        {
          "output_type": "stream",
          "text": [
            " 44%|████▍     | 1319/2977 [01:08<01:26, 19.22it/s]"
          ],
          "name": "stderr"
        },
        {
          "output_type": "stream",
          "text": [
            "7\n",
            "7\n",
            "7\n",
            "7\n",
            "7\n"
          ],
          "name": "stdout"
        },
        {
          "output_type": "stream",
          "text": [
            " 44%|████▍     | 1324/2977 [01:08<01:25, 19.22it/s]"
          ],
          "name": "stderr"
        },
        {
          "output_type": "stream",
          "text": [
            "7\n",
            "7\n",
            "7\n",
            "7\n"
          ],
          "name": "stdout"
        },
        {
          "output_type": "stream",
          "text": [
            " 45%|████▍     | 1330/2977 [01:09<01:25, 19.22it/s]"
          ],
          "name": "stderr"
        },
        {
          "output_type": "stream",
          "text": [
            "7\n",
            "7\n",
            "7\n",
            "7\n"
          ],
          "name": "stdout"
        },
        {
          "output_type": "stream",
          "text": [
            "\r 45%|████▍     | 1332/2977 [01:09<01:25, 19.22it/s]"
          ],
          "name": "stderr"
        },
        {
          "output_type": "stream",
          "text": [
            "7\n",
            "7\n",
            "7\n",
            "7\n",
            "7\n"
          ],
          "name": "stdout"
        },
        {
          "output_type": "stream",
          "text": [
            " 45%|████▍     | 1337/2977 [01:09<01:25, 19.22it/s]"
          ],
          "name": "stderr"
        },
        {
          "output_type": "stream",
          "text": [
            "7\n",
            "7\n",
            "7\n",
            "7\n"
          ],
          "name": "stdout"
        },
        {
          "output_type": "stream",
          "text": [
            " 45%|████▌     | 1342/2977 [01:09<01:25, 19.23it/s]"
          ],
          "name": "stderr"
        },
        {
          "output_type": "stream",
          "text": [
            "7\n",
            "7\n",
            "7\n",
            "7\n",
            "7\n"
          ],
          "name": "stdout"
        },
        {
          "output_type": "stream",
          "text": [
            " 45%|████▌     | 1347/2977 [01:10<01:24, 19.23it/s]"
          ],
          "name": "stderr"
        },
        {
          "output_type": "stream",
          "text": [
            "7\n",
            "7\n",
            "7\n",
            "7\n",
            "7\n"
          ],
          "name": "stdout"
        },
        {
          "output_type": "stream",
          "text": [
            " 45%|████▌     | 1351/2977 [01:10<01:24, 19.22it/s]"
          ],
          "name": "stderr"
        },
        {
          "output_type": "stream",
          "text": [
            "7\n",
            "7\n",
            "7\n",
            "7\n"
          ],
          "name": "stdout"
        },
        {
          "output_type": "stream",
          "text": [
            " 46%|████▌     | 1357/2977 [01:10<01:24, 19.23it/s]"
          ],
          "name": "stderr"
        },
        {
          "output_type": "stream",
          "text": [
            "7\n",
            "7\n",
            "7\n",
            "7\n",
            "7\n"
          ],
          "name": "stdout"
        },
        {
          "output_type": "stream",
          "text": [
            " 46%|████▌     | 1361/2977 [01:10<01:24, 19.23it/s]"
          ],
          "name": "stderr"
        },
        {
          "output_type": "stream",
          "text": [
            "7\n",
            "7\n",
            "7\n",
            "7\n"
          ],
          "name": "stdout"
        },
        {
          "output_type": "stream",
          "text": [
            " 46%|████▌     | 1366/2977 [01:11<01:23, 19.23it/s]"
          ],
          "name": "stderr"
        },
        {
          "output_type": "stream",
          "text": [
            "7\n",
            "7\n",
            "7\n",
            "7\n",
            "7\n"
          ],
          "name": "stdout"
        },
        {
          "output_type": "stream",
          "text": [
            "\r 46%|████▌     | 1368/2977 [01:11<01:23, 19.23it/s]"
          ],
          "name": "stderr"
        },
        {
          "output_type": "stream",
          "text": [
            "7\n",
            "7\n",
            "7\n",
            "7\n"
          ],
          "name": "stdout"
        },
        {
          "output_type": "stream",
          "text": [
            " 46%|████▌     | 1374/2977 [01:11<01:23, 19.23it/s]"
          ],
          "name": "stderr"
        },
        {
          "output_type": "stream",
          "text": [
            "7\n",
            "7\n",
            "7\n",
            "7\n"
          ],
          "name": "stdout"
        },
        {
          "output_type": "stream",
          "text": [
            " 46%|████▋     | 1379/2977 [01:11<01:23, 19.23it/s]"
          ],
          "name": "stderr"
        },
        {
          "output_type": "stream",
          "text": [
            "7\n",
            "7\n",
            "7\n",
            "7\n"
          ],
          "name": "stdout"
        },
        {
          "output_type": "stream",
          "text": [
            "\r 46%|████▋     | 1381/2977 [01:11<01:23, 19.23it/s]"
          ],
          "name": "stderr"
        },
        {
          "output_type": "stream",
          "text": [
            "7\n",
            "7\n",
            "7\n",
            "7\n",
            "7\n"
          ],
          "name": "stdout"
        },
        {
          "output_type": "stream",
          "text": [
            " 47%|████▋     | 1388/2977 [01:12<01:22, 19.23it/s]"
          ],
          "name": "stderr"
        },
        {
          "output_type": "stream",
          "text": [
            "7\n",
            "7\n",
            "7\n",
            "7\n"
          ],
          "name": "stdout"
        },
        {
          "output_type": "stream",
          "text": [
            "\r 47%|████▋     | 1390/2977 [01:12<01:22, 19.23it/s]"
          ],
          "name": "stderr"
        },
        {
          "output_type": "stream",
          "text": [
            "7\n",
            "7\n",
            "7\n",
            "7\n"
          ],
          "name": "stdout"
        },
        {
          "output_type": "stream",
          "text": [
            " 47%|████▋     | 1395/2977 [01:12<01:22, 19.23it/s]"
          ],
          "name": "stderr"
        },
        {
          "output_type": "stream",
          "text": [
            "7\n",
            "7\n",
            "7\n",
            "7\n"
          ],
          "name": "stdout"
        },
        {
          "output_type": "stream",
          "text": [
            " 47%|████▋     | 1400/2977 [01:12<01:21, 19.24it/s]"
          ],
          "name": "stderr"
        },
        {
          "output_type": "stream",
          "text": [
            "7\n",
            "7\n",
            "7\n",
            "7\n"
          ],
          "name": "stdout"
        },
        {
          "output_type": "stream",
          "text": [
            "\r 47%|████▋     | 1402/2977 [01:12<01:21, 19.23it/s]"
          ],
          "name": "stderr"
        },
        {
          "output_type": "stream",
          "text": [
            "7\n",
            "7\n",
            "7\n",
            "7\n"
          ],
          "name": "stdout"
        },
        {
          "output_type": "stream",
          "text": [
            " 47%|████▋     | 1407/2977 [01:13<01:21, 19.24it/s]"
          ],
          "name": "stderr"
        },
        {
          "output_type": "stream",
          "text": [
            "7\n",
            "7\n",
            "7\n",
            "7\n",
            "7\n"
          ],
          "name": "stdout"
        },
        {
          "output_type": "stream",
          "text": [
            " 47%|████▋     | 1412/2977 [01:13<01:21, 19.24it/s]"
          ],
          "name": "stderr"
        },
        {
          "output_type": "stream",
          "text": [
            "7\n",
            "7\n",
            "7\n",
            "7\n",
            "7"
          ],
          "name": "stdout"
        },
        {
          "output_type": "stream",
          "text": [
            " 48%|████▊     | 1417/2977 [01:13<01:21, 19.24it/s]"
          ],
          "name": "stderr"
        },
        {
          "output_type": "stream",
          "text": [
            "\n",
            "7\n",
            "7\n",
            "7\n"
          ],
          "name": "stdout"
        },
        {
          "output_type": "stream",
          "text": [
            "\r 48%|████▊     | 1419/2977 [01:13<01:20, 19.24it/s]"
          ],
          "name": "stderr"
        },
        {
          "output_type": "stream",
          "text": [
            "7\n",
            "7\n",
            "7\n",
            "7\n",
            "7\n"
          ],
          "name": "stdout"
        },
        {
          "output_type": "stream",
          "text": [
            " 48%|████▊     | 1425/2977 [01:14<01:20, 19.24it/s]"
          ],
          "name": "stderr"
        },
        {
          "output_type": "stream",
          "text": [
            "7\n",
            "7\n",
            "7\n",
            "7\n",
            "7\n"
          ],
          "name": "stdout"
        },
        {
          "output_type": "stream",
          "text": [
            " 48%|████▊     | 1430/2977 [01:14<01:20, 19.24it/s]"
          ],
          "name": "stderr"
        },
        {
          "output_type": "stream",
          "text": [
            "7\n",
            "7\n",
            "7\n",
            "7\n",
            "7\n"
          ],
          "name": "stdout"
        },
        {
          "output_type": "stream",
          "text": [
            " 48%|████▊     | 1435/2977 [01:14<01:20, 19.25it/s]"
          ],
          "name": "stderr"
        },
        {
          "output_type": "stream",
          "text": [
            "7\n",
            "7\n",
            "7\n",
            "7\n",
            "7\n"
          ],
          "name": "stdout"
        },
        {
          "output_type": "stream",
          "text": [
            " 48%|████▊     | 1441/2977 [01:14<01:19, 19.25it/s]"
          ],
          "name": "stderr"
        },
        {
          "output_type": "stream",
          "text": [
            "7\n",
            "7\n",
            "7\n",
            "7\n",
            "7\n"
          ],
          "name": "stdout"
        },
        {
          "output_type": "stream",
          "text": [
            "\r 49%|████▊     | 1444/2977 [01:14<01:19, 19.26it/s]"
          ],
          "name": "stderr"
        },
        {
          "output_type": "stream",
          "text": [
            "7\n",
            "7\n",
            "7\n",
            "7\n",
            "7\n"
          ],
          "name": "stdout"
        },
        {
          "output_type": "stream",
          "text": [
            " 49%|████▊     | 1450/2977 [01:15<01:19, 19.26it/s]"
          ],
          "name": "stderr"
        },
        {
          "output_type": "stream",
          "text": [
            "7\n",
            "7\n",
            "7\n",
            "7\n",
            "7\n"
          ],
          "name": "stdout"
        },
        {
          "output_type": "stream",
          "text": [
            " 49%|████▉     | 1456/2977 [01:15<01:18, 19.26it/s]"
          ],
          "name": "stderr"
        },
        {
          "output_type": "stream",
          "text": [
            "7\n",
            "7\n",
            "7\n",
            "7\n"
          ],
          "name": "stdout"
        },
        {
          "output_type": "stream",
          "text": [
            "\r 49%|████▉     | 1459/2977 [01:15<01:18, 19.26it/s]"
          ],
          "name": "stderr"
        },
        {
          "output_type": "stream",
          "text": [
            "7\n",
            "7\n",
            "7\n",
            "7\n"
          ],
          "name": "stdout"
        },
        {
          "output_type": "stream",
          "text": [
            "\r 49%|████▉     | 1462/2977 [01:15<01:18, 19.26it/s]"
          ],
          "name": "stderr"
        },
        {
          "output_type": "stream",
          "text": [
            "7\n",
            "7\n",
            "7\n",
            "7\n"
          ],
          "name": "stdout"
        },
        {
          "output_type": "stream",
          "text": [
            " 49%|████▉     | 1467/2977 [01:16<01:18, 19.26it/s]"
          ],
          "name": "stderr"
        },
        {
          "output_type": "stream",
          "text": [
            "7\n",
            "7\n",
            "7\n",
            "7\n"
          ],
          "name": "stdout"
        },
        {
          "output_type": "stream",
          "text": [
            " 49%|████▉     | 1471/2977 [01:16<01:18, 19.26it/s]"
          ],
          "name": "stderr"
        },
        {
          "output_type": "stream",
          "text": [
            "7\n",
            "7\n",
            "7\n",
            "7\n"
          ],
          "name": "stdout"
        },
        {
          "output_type": "stream",
          "text": [
            "\r 50%|████▉     | 1474/2977 [01:16<01:18, 19.27it/s]"
          ],
          "name": "stderr"
        },
        {
          "output_type": "stream",
          "text": [
            "7\n",
            "7\n",
            "7\n",
            "7\n",
            "7\n"
          ],
          "name": "stdout"
        },
        {
          "output_type": "stream",
          "text": [
            " 50%|████▉     | 1480/2977 [01:16<01:17, 19.27it/s]"
          ],
          "name": "stderr"
        },
        {
          "output_type": "stream",
          "text": [
            "7\n",
            "7\n",
            "7\n",
            "7\n",
            "7\n"
          ],
          "name": "stdout"
        },
        {
          "output_type": "stream",
          "text": [
            " 50%|████▉     | 1486/2977 [01:17<01:17, 19.28it/s]"
          ],
          "name": "stderr"
        },
        {
          "output_type": "stream",
          "text": [
            "7\n",
            "7\n",
            "7\n",
            "7\n",
            "7\n"
          ],
          "name": "stdout"
        },
        {
          "output_type": "stream",
          "text": [
            "\r 50%|█████     | 1489/2977 [01:17<01:17, 19.28it/s]"
          ],
          "name": "stderr"
        },
        {
          "output_type": "stream",
          "text": [
            "7\n",
            "7\n",
            "7\n",
            "7\n",
            "7\n"
          ],
          "name": "stdout"
        },
        {
          "output_type": "stream",
          "text": [
            " 50%|█████     | 1495/2977 [01:17<01:16, 19.29it/s]"
          ],
          "name": "stderr"
        },
        {
          "output_type": "stream",
          "text": [
            "7\n",
            "7\n",
            "7\n",
            "7\n",
            "7\n"
          ],
          "name": "stdout"
        },
        {
          "output_type": "stream",
          "text": [
            " 50%|█████     | 1501/2977 [01:17<01:16, 19.30it/s]"
          ],
          "name": "stderr"
        },
        {
          "output_type": "stream",
          "text": [
            "7\n",
            "7\n",
            "7\n",
            "7\n"
          ],
          "name": "stdout"
        },
        {
          "output_type": "stream",
          "text": [
            "\r 51%|█████     | 1504/2977 [01:17<01:16, 19.30it/s]"
          ],
          "name": "stderr"
        },
        {
          "output_type": "stream",
          "text": [
            "7\n",
            "7\n",
            "7\n",
            "7\n",
            "7\n"
          ],
          "name": "stdout"
        },
        {
          "output_type": "stream",
          "text": [
            " 51%|█████     | 1510/2977 [01:18<01:16, 19.30it/s]"
          ],
          "name": "stderr"
        },
        {
          "output_type": "stream",
          "text": [
            "7\n",
            "7\n",
            "7\n",
            "7\n",
            "7\n"
          ],
          "name": "stdout"
        },
        {
          "output_type": "stream",
          "text": [
            "\r 51%|█████     | 1513/2977 [01:18<01:15, 19.30it/s]"
          ],
          "name": "stderr"
        },
        {
          "output_type": "stream",
          "text": [
            "7\n",
            "7\n",
            "7\n",
            "7\n"
          ],
          "name": "stdout"
        },
        {
          "output_type": "stream",
          "text": [
            " 51%|█████     | 1518/2977 [01:18<01:15, 19.30it/s]"
          ],
          "name": "stderr"
        },
        {
          "output_type": "stream",
          "text": [
            "7\n",
            "7\n",
            "7\n",
            "7\n",
            "7"
          ],
          "name": "stdout"
        },
        {
          "output_type": "stream",
          "text": [
            " 51%|█████     | 1523/2977 [01:18<01:15, 19.30it/s]"
          ],
          "name": "stderr"
        },
        {
          "output_type": "stream",
          "text": [
            "\n",
            "7\n",
            "7\n",
            "7\n"
          ],
          "name": "stdout"
        },
        {
          "output_type": "stream",
          "text": [
            "\r 51%|█████▏    | 1526/2977 [01:19<01:15, 19.30it/s]"
          ],
          "name": "stderr"
        },
        {
          "output_type": "stream",
          "text": [
            "7\n",
            "7\n",
            "7\n",
            "7\n",
            "7\n"
          ],
          "name": "stdout"
        },
        {
          "output_type": "stream",
          "text": [
            " 51%|█████▏    | 1530/2977 [01:19<01:14, 19.30it/s]"
          ],
          "name": "stderr"
        },
        {
          "output_type": "stream",
          "text": [
            "7\n",
            "7\n",
            "7\n",
            "7\n",
            "7\n"
          ],
          "name": "stdout"
        },
        {
          "output_type": "stream",
          "text": [
            " 52%|█████▏    | 1536/2977 [01:19<01:14, 19.31it/s]"
          ],
          "name": "stderr"
        },
        {
          "output_type": "stream",
          "text": [
            "7\n",
            "7\n",
            "7\n",
            "7\n",
            "7\n"
          ],
          "name": "stdout"
        },
        {
          "output_type": "stream",
          "text": [
            " 52%|█████▏    | 1542/2977 [01:19<01:14, 19.31it/s]"
          ],
          "name": "stderr"
        },
        {
          "output_type": "stream",
          "text": [
            "7\n",
            "7\n",
            "7\n",
            "7\n",
            "7\n"
          ],
          "name": "stdout"
        },
        {
          "output_type": "stream",
          "text": [
            "\r 52%|█████▏    | 1545/2977 [01:20<01:14, 19.31it/s]"
          ],
          "name": "stderr"
        },
        {
          "output_type": "stream",
          "text": [
            "7\n",
            "7\n",
            "7\n",
            "7\n",
            "7\n"
          ],
          "name": "stdout"
        },
        {
          "output_type": "stream",
          "text": [
            " 52%|█████▏    | 1551/2977 [01:20<01:13, 19.31it/s]"
          ],
          "name": "stderr"
        },
        {
          "output_type": "stream",
          "text": [
            "7\n",
            "7\n",
            "7\n",
            "7\n"
          ],
          "name": "stdout"
        },
        {
          "output_type": "stream",
          "text": [
            "\r 52%|█████▏    | 1554/2977 [01:20<01:13, 19.31it/s]"
          ],
          "name": "stderr"
        },
        {
          "output_type": "stream",
          "text": [
            "7\n",
            "7\n",
            "7\n",
            "7\n"
          ],
          "name": "stdout"
        },
        {
          "output_type": "stream",
          "text": [
            " 52%|█████▏    | 1558/2977 [01:20<01:13, 19.31it/s]"
          ],
          "name": "stderr"
        },
        {
          "output_type": "stream",
          "text": [
            "7\n",
            "7\n",
            "7\n",
            "7\n"
          ],
          "name": "stdout"
        },
        {
          "output_type": "stream",
          "text": [
            " 52%|█████▏    | 1562/2977 [01:20<01:13, 19.31it/s]"
          ],
          "name": "stderr"
        },
        {
          "output_type": "stream",
          "text": [
            "7\n",
            "7\n",
            "7\n",
            "7\n",
            "7\n"
          ],
          "name": "stdout"
        },
        {
          "output_type": "stream",
          "text": [
            " 53%|█████▎    | 1567/2977 [01:21<01:13, 19.31it/s]"
          ],
          "name": "stderr"
        },
        {
          "output_type": "stream",
          "text": [
            "7\n",
            "7\n",
            "7\n",
            "7\n"
          ],
          "name": "stdout"
        },
        {
          "output_type": "stream",
          "text": [
            " 53%|█████▎    | 1573/2977 [01:21<01:12, 19.31it/s]"
          ],
          "name": "stderr"
        },
        {
          "output_type": "stream",
          "text": [
            "7\n",
            "7\n",
            "7\n",
            "7\n"
          ],
          "name": "stdout"
        },
        {
          "output_type": "stream",
          "text": [
            "\r 53%|█████▎    | 1575/2977 [01:21<01:12, 19.30it/s]"
          ],
          "name": "stderr"
        },
        {
          "output_type": "stream",
          "text": [
            "7\n",
            "7\n",
            "7\n",
            "7\n"
          ],
          "name": "stdout"
        },
        {
          "output_type": "stream",
          "text": [
            " 53%|█████▎    | 1579/2977 [01:21<01:12, 19.30it/s]"
          ],
          "name": "stderr"
        },
        {
          "output_type": "stream",
          "text": [
            "7\n",
            "7\n",
            "7\n",
            "7\n"
          ],
          "name": "stdout"
        },
        {
          "output_type": "stream",
          "text": [
            " 53%|█████▎    | 1583/2977 [01:22<01:12, 19.30it/s]"
          ],
          "name": "stderr"
        },
        {
          "output_type": "stream",
          "text": [
            "7\n",
            "7\n",
            "7\n",
            "7\n"
          ],
          "name": "stdout"
        },
        {
          "output_type": "stream",
          "text": [
            " 53%|█████▎    | 1587/2977 [01:22<01:12, 19.30it/s]"
          ],
          "name": "stderr"
        },
        {
          "output_type": "stream",
          "text": [
            "7\n",
            "7\n",
            "7\n",
            "7\n"
          ],
          "name": "stdout"
        },
        {
          "output_type": "stream",
          "text": [
            " 53%|█████▎    | 1591/2977 [01:22<01:11, 19.30it/s]"
          ],
          "name": "stderr"
        },
        {
          "output_type": "stream",
          "text": [
            "7\n",
            "7\n",
            "7\n",
            "7\n"
          ],
          "name": "stdout"
        },
        {
          "output_type": "stream",
          "text": [
            " 54%|█████▎    | 1596/2977 [01:22<01:11, 19.30it/s]"
          ],
          "name": "stderr"
        },
        {
          "output_type": "stream",
          "text": [
            "7\n",
            "7\n",
            "7\n",
            "7\n"
          ],
          "name": "stdout"
        },
        {
          "output_type": "stream",
          "text": [
            " 54%|█████▎    | 1600/2977 [01:22<01:11, 19.30it/s]"
          ],
          "name": "stderr"
        },
        {
          "output_type": "stream",
          "text": [
            "7\n",
            "7\n",
            "7\n",
            "7\n"
          ],
          "name": "stdout"
        },
        {
          "output_type": "stream",
          "text": [
            " 54%|█████▍    | 1604/2977 [01:23<01:11, 19.29it/s]"
          ],
          "name": "stderr"
        },
        {
          "output_type": "stream",
          "text": [
            "7\n",
            "7\n",
            "7\n",
            "7\n"
          ],
          "name": "stdout"
        },
        {
          "output_type": "stream",
          "text": [
            " 54%|█████▍    | 1608/2977 [01:23<01:10, 19.29it/s]"
          ],
          "name": "stderr"
        },
        {
          "output_type": "stream",
          "text": [
            "7\n",
            "7\n",
            "7\n",
            "7\n"
          ],
          "name": "stdout"
        },
        {
          "output_type": "stream",
          "text": [
            " 54%|█████▍    | 1612/2977 [01:23<01:10, 19.28it/s]"
          ],
          "name": "stderr"
        },
        {
          "output_type": "stream",
          "text": [
            "7\n",
            "7\n",
            "7\n",
            "7\n"
          ],
          "name": "stdout"
        },
        {
          "output_type": "stream",
          "text": [
            " 54%|█████▍    | 1616/2977 [01:23<01:10, 19.28it/s]"
          ],
          "name": "stderr"
        },
        {
          "output_type": "stream",
          "text": [
            "7\n",
            "7\n",
            "7\n",
            "7\n"
          ],
          "name": "stdout"
        },
        {
          "output_type": "stream",
          "text": [
            " 54%|█████▍    | 1620/2977 [01:24<01:10, 19.28it/s]"
          ],
          "name": "stderr"
        },
        {
          "output_type": "stream",
          "text": [
            "7\n",
            "7\n",
            "7\n",
            "7\n",
            "7\n"
          ],
          "name": "stdout"
        },
        {
          "output_type": "stream",
          "text": [
            " 55%|█████▍    | 1624/2977 [01:24<01:10, 19.28it/s]"
          ],
          "name": "stderr"
        },
        {
          "output_type": "stream",
          "text": [
            "7\n",
            "7\n",
            "7\n",
            "7\n"
          ],
          "name": "stdout"
        },
        {
          "output_type": "stream",
          "text": [
            " 55%|█████▍    | 1630/2977 [01:24<01:09, 19.28it/s]"
          ],
          "name": "stderr"
        },
        {
          "output_type": "stream",
          "text": [
            "7\n",
            "7\n",
            "7\n",
            "7\n"
          ],
          "name": "stdout"
        },
        {
          "output_type": "stream",
          "text": [
            "\r 55%|█████▍    | 1632/2977 [01:24<01:09, 19.28it/s]"
          ],
          "name": "stderr"
        },
        {
          "output_type": "stream",
          "text": [
            "7\n",
            "7\n",
            "7\n",
            "7\n"
          ],
          "name": "stdout"
        },
        {
          "output_type": "stream",
          "text": [
            " 55%|█████▍    | 1637/2977 [01:24<01:09, 19.28it/s]"
          ],
          "name": "stderr"
        },
        {
          "output_type": "stream",
          "text": [
            "7\n",
            "7\n",
            "7\n",
            "7\n"
          ],
          "name": "stdout"
        },
        {
          "output_type": "stream",
          "text": [
            " 55%|█████▌    | 1642/2977 [01:25<01:09, 19.28it/s]"
          ],
          "name": "stderr"
        },
        {
          "output_type": "stream",
          "text": [
            "7\n",
            "7\n",
            "7\n",
            "7\n",
            "7\n"
          ],
          "name": "stdout"
        },
        {
          "output_type": "stream",
          "text": [
            " 55%|█████▌    | 1646/2977 [01:25<01:09, 19.27it/s]"
          ],
          "name": "stderr"
        },
        {
          "output_type": "stream",
          "text": [
            "7\n",
            "7\n",
            "7\n",
            "7\n"
          ],
          "name": "stdout"
        },
        {
          "output_type": "stream",
          "text": [
            " 55%|█████▌    | 1650/2977 [01:25<01:08, 19.27it/s]"
          ],
          "name": "stderr"
        },
        {
          "output_type": "stream",
          "text": [
            "7\n",
            "7\n",
            "7\n",
            "7\n",
            "7\n"
          ],
          "name": "stdout"
        },
        {
          "output_type": "stream",
          "text": [
            " 56%|█████▌    | 1654/2977 [01:25<01:08, 19.27it/s]"
          ],
          "name": "stderr"
        },
        {
          "output_type": "stream",
          "text": [
            "7\n",
            "7\n",
            "7\n",
            "7\n"
          ],
          "name": "stdout"
        },
        {
          "output_type": "stream",
          "text": [
            " 56%|█████▌    | 1658/2977 [01:26<01:08, 19.27it/s]"
          ],
          "name": "stderr"
        },
        {
          "output_type": "stream",
          "text": [
            "7\n",
            "7\n",
            "7\n",
            "7\n"
          ],
          "name": "stdout"
        },
        {
          "output_type": "stream",
          "text": [
            " 56%|█████▌    | 1662/2977 [01:26<01:08, 19.27it/s]"
          ],
          "name": "stderr"
        },
        {
          "output_type": "stream",
          "text": [
            "7\n",
            "7\n",
            "7\n",
            "7\n"
          ],
          "name": "stdout"
        },
        {
          "output_type": "stream",
          "text": [
            " 56%|█████▌    | 1666/2977 [01:26<01:08, 19.27it/s]"
          ],
          "name": "stderr"
        },
        {
          "output_type": "stream",
          "text": [
            "7\n",
            "7\n",
            "7\n",
            "7\n"
          ],
          "name": "stdout"
        },
        {
          "output_type": "stream",
          "text": [
            " 56%|█████▌    | 1670/2977 [01:26<01:07, 19.26it/s]"
          ],
          "name": "stderr"
        },
        {
          "output_type": "stream",
          "text": [
            "7\n",
            "7\n",
            "7\n",
            "7\n"
          ],
          "name": "stdout"
        },
        {
          "output_type": "stream",
          "text": [
            " 56%|█████▌    | 1674/2977 [01:26<01:07, 19.26it/s]"
          ],
          "name": "stderr"
        },
        {
          "output_type": "stream",
          "text": [
            "7\n",
            "7\n",
            "7\n",
            "7\n"
          ],
          "name": "stdout"
        },
        {
          "output_type": "stream",
          "text": [
            " 56%|█████▋    | 1678/2977 [01:27<01:07, 19.25it/s]"
          ],
          "name": "stderr"
        },
        {
          "output_type": "stream",
          "text": [
            "7\n",
            "7\n",
            "7\n",
            "7\n"
          ],
          "name": "stdout"
        },
        {
          "output_type": "stream",
          "text": [
            " 56%|█████▋    | 1682/2977 [01:27<01:07, 19.25it/s]"
          ],
          "name": "stderr"
        },
        {
          "output_type": "stream",
          "text": [
            "7\n",
            "7\n",
            "7\n",
            "7\n"
          ],
          "name": "stdout"
        },
        {
          "output_type": "stream",
          "text": [
            " 57%|█████▋    | 1686/2977 [01:27<01:07, 19.24it/s]"
          ],
          "name": "stderr"
        },
        {
          "output_type": "stream",
          "text": [
            "7\n",
            "7\n",
            "7\n",
            "7\n"
          ],
          "name": "stdout"
        },
        {
          "output_type": "stream",
          "text": [
            " 57%|█████▋    | 1690/2977 [01:27<01:06, 19.24it/s]"
          ],
          "name": "stderr"
        },
        {
          "output_type": "stream",
          "text": [
            "7\n",
            "7\n",
            "7\n",
            "7\n"
          ],
          "name": "stdout"
        },
        {
          "output_type": "stream",
          "text": [
            " 57%|█████▋    | 1694/2977 [01:28<01:06, 19.23it/s]"
          ],
          "name": "stderr"
        },
        {
          "output_type": "stream",
          "text": [
            "7\n",
            "7\n",
            "7\n",
            "7\n"
          ],
          "name": "stdout"
        },
        {
          "output_type": "stream",
          "text": [
            " 57%|█████▋    | 1699/2977 [01:28<01:06, 19.24it/s]"
          ],
          "name": "stderr"
        },
        {
          "output_type": "stream",
          "text": [
            "7\n",
            "7\n",
            "7\n",
            "7\n"
          ],
          "name": "stdout"
        },
        {
          "output_type": "stream",
          "text": [
            " 57%|█████▋    | 1703/2977 [01:28<01:06, 19.24it/s]"
          ],
          "name": "stderr"
        },
        {
          "output_type": "stream",
          "text": [
            "7\n",
            "7\n",
            "7\n",
            "7\n"
          ],
          "name": "stdout"
        },
        {
          "output_type": "stream",
          "text": [
            " 57%|█████▋    | 1707/2977 [01:28<01:06, 19.24it/s]"
          ],
          "name": "stderr"
        },
        {
          "output_type": "stream",
          "text": [
            "7\n",
            "7\n",
            "7\n",
            "7\n"
          ],
          "name": "stdout"
        },
        {
          "output_type": "stream",
          "text": [
            " 57%|█████▋    | 1711/2977 [01:28<01:05, 19.23it/s]"
          ],
          "name": "stderr"
        },
        {
          "output_type": "stream",
          "text": [
            "7\n",
            "7\n",
            "7\n",
            "7\n"
          ],
          "name": "stdout"
        },
        {
          "output_type": "stream",
          "text": [
            " 58%|█████▊    | 1715/2977 [01:29<01:05, 19.23it/s]"
          ],
          "name": "stderr"
        },
        {
          "output_type": "stream",
          "text": [
            "7\n",
            "7\n",
            "7\n",
            "7\n"
          ],
          "name": "stdout"
        },
        {
          "output_type": "stream",
          "text": [
            " 58%|█████▊    | 1719/2977 [01:29<01:05, 19.22it/s]"
          ],
          "name": "stderr"
        },
        {
          "output_type": "stream",
          "text": [
            "7\n",
            "7\n",
            "7\n",
            "7\n"
          ],
          "name": "stdout"
        },
        {
          "output_type": "stream",
          "text": [
            " 58%|█████▊    | 1723/2977 [01:29<01:05, 19.22it/s]"
          ],
          "name": "stderr"
        },
        {
          "output_type": "stream",
          "text": [
            "7\n",
            "7\n",
            "7\n",
            "7\n"
          ],
          "name": "stdout"
        },
        {
          "output_type": "stream",
          "text": [
            " 58%|█████▊    | 1727/2977 [01:29<01:05, 19.21it/s]"
          ],
          "name": "stderr"
        },
        {
          "output_type": "stream",
          "text": [
            "7\n",
            "7\n",
            "7\n",
            "7\n"
          ],
          "name": "stdout"
        },
        {
          "output_type": "stream",
          "text": [
            " 58%|█████▊    | 1731/2977 [01:30<01:04, 19.21it/s]"
          ],
          "name": "stderr"
        },
        {
          "output_type": "stream",
          "text": [
            "7\n",
            "7\n",
            "7\n",
            "7\n"
          ],
          "name": "stdout"
        },
        {
          "output_type": "stream",
          "text": [
            " 58%|█████▊    | 1735/2977 [01:30<01:04, 19.20it/s]"
          ],
          "name": "stderr"
        },
        {
          "output_type": "stream",
          "text": [
            "7\n",
            "7\n",
            "7\n",
            "7\n"
          ],
          "name": "stdout"
        },
        {
          "output_type": "stream",
          "text": [
            "\r 58%|█████▊    | 1737/2977 [01:30<01:04, 19.20it/s]"
          ],
          "name": "stderr"
        },
        {
          "output_type": "stream",
          "text": [
            "7\n",
            "7\n",
            "7\n",
            "7\n"
          ],
          "name": "stdout"
        },
        {
          "output_type": "stream",
          "text": [
            " 59%|█████▊    | 1742/2977 [01:30<01:04, 19.20it/s]"
          ],
          "name": "stderr"
        },
        {
          "output_type": "stream",
          "text": [
            "7\n",
            "7\n",
            "7\n",
            "7\n"
          ],
          "name": "stdout"
        },
        {
          "output_type": "stream",
          "text": [
            " 59%|█████▊    | 1746/2977 [01:30<01:04, 19.19it/s]"
          ],
          "name": "stderr"
        },
        {
          "output_type": "stream",
          "text": [
            "7\n",
            "7\n",
            "7\n",
            "7\n"
          ],
          "name": "stdout"
        },
        {
          "output_type": "stream",
          "text": [
            " 59%|█████▉    | 1750/2977 [01:31<01:03, 19.19it/s]"
          ],
          "name": "stderr"
        },
        {
          "output_type": "stream",
          "text": [
            "7\n",
            "7\n",
            "7\n",
            "7\n"
          ],
          "name": "stdout"
        },
        {
          "output_type": "stream",
          "text": [
            " 59%|█████▉    | 1754/2977 [01:31<01:03, 19.18it/s]"
          ],
          "name": "stderr"
        },
        {
          "output_type": "stream",
          "text": [
            "7\n",
            "7\n",
            "7\n",
            "7\n"
          ],
          "name": "stdout"
        },
        {
          "output_type": "stream",
          "text": [
            " 59%|█████▉    | 1758/2977 [01:31<01:03, 19.18it/s]"
          ],
          "name": "stderr"
        },
        {
          "output_type": "stream",
          "text": [
            "7\n",
            "7\n",
            "7\n",
            "7\n"
          ],
          "name": "stdout"
        },
        {
          "output_type": "stream",
          "text": [
            " 59%|█████▉    | 1762/2977 [01:31<01:03, 19.17it/s]"
          ],
          "name": "stderr"
        },
        {
          "output_type": "stream",
          "text": [
            "7\n",
            "7\n",
            "7\n",
            "7\n"
          ],
          "name": "stdout"
        },
        {
          "output_type": "stream",
          "text": [
            " 59%|█████▉    | 1766/2977 [01:32<01:03, 19.17it/s]"
          ],
          "name": "stderr"
        },
        {
          "output_type": "stream",
          "text": [
            "7\n",
            "7\n",
            "7\n",
            "7\n"
          ],
          "name": "stdout"
        },
        {
          "output_type": "stream",
          "text": [
            " 59%|█████▉    | 1770/2977 [01:32<01:02, 19.16it/s]"
          ],
          "name": "stderr"
        },
        {
          "output_type": "stream",
          "text": [
            "7\n",
            "7\n",
            "7\n",
            "7\n"
          ],
          "name": "stdout"
        },
        {
          "output_type": "stream",
          "text": [
            " 60%|█████▉    | 1774/2977 [01:32<01:02, 19.15it/s]"
          ],
          "name": "stderr"
        },
        {
          "output_type": "stream",
          "text": [
            "7\n",
            "7\n",
            "7\n",
            "7\n"
          ],
          "name": "stdout"
        },
        {
          "output_type": "stream",
          "text": [
            " 60%|█████▉    | 1778/2977 [01:32<01:02, 19.15it/s]"
          ],
          "name": "stderr"
        },
        {
          "output_type": "stream",
          "text": [
            "7\n",
            "7\n",
            "7\n",
            "7\n"
          ],
          "name": "stdout"
        },
        {
          "output_type": "stream",
          "text": [
            " 60%|█████▉    | 1782/2977 [01:33<01:02, 19.14it/s]"
          ],
          "name": "stderr"
        },
        {
          "output_type": "stream",
          "text": [
            "7\n",
            "7\n",
            "7\n",
            "7\n"
          ],
          "name": "stdout"
        },
        {
          "output_type": "stream",
          "text": [
            " 60%|█████▉    | 1786/2977 [01:33<01:02, 19.13it/s]"
          ],
          "name": "stderr"
        },
        {
          "output_type": "stream",
          "text": [
            "7\n",
            "7\n",
            "7\n",
            "7\n"
          ],
          "name": "stdout"
        },
        {
          "output_type": "stream",
          "text": [
            " 60%|██████    | 1790/2977 [01:33<01:02, 19.13it/s]"
          ],
          "name": "stderr"
        },
        {
          "output_type": "stream",
          "text": [
            "7\n",
            "7\n",
            "7\n",
            "7\n"
          ],
          "name": "stdout"
        },
        {
          "output_type": "stream",
          "text": [
            " 60%|██████    | 1794/2977 [01:33<01:01, 19.12it/s]"
          ],
          "name": "stderr"
        },
        {
          "output_type": "stream",
          "text": [
            "7\n",
            "7\n",
            "7\n",
            "7\n"
          ],
          "name": "stdout"
        },
        {
          "output_type": "stream",
          "text": [
            " 60%|██████    | 1798/2977 [01:34<01:01, 19.12it/s]"
          ],
          "name": "stderr"
        },
        {
          "output_type": "stream",
          "text": [
            "7\n",
            "7\n",
            "7\n",
            "7\n"
          ],
          "name": "stdout"
        },
        {
          "output_type": "stream",
          "text": [
            " 61%|██████    | 1804/2977 [01:34<01:01, 19.12it/s]"
          ],
          "name": "stderr"
        },
        {
          "output_type": "stream",
          "text": [
            "7\n",
            "7\n",
            "7\n",
            "7\n"
          ],
          "name": "stdout"
        },
        {
          "output_type": "stream",
          "text": [
            "\r 61%|██████    | 1806/2977 [01:34<01:01, 19.11it/s]"
          ],
          "name": "stderr"
        },
        {
          "output_type": "stream",
          "text": [
            "7\n",
            "7\n",
            "7\n",
            "7\n"
          ],
          "name": "stdout"
        },
        {
          "output_type": "stream",
          "text": [
            " 61%|██████    | 1811/2977 [01:34<01:00, 19.12it/s]"
          ],
          "name": "stderr"
        },
        {
          "output_type": "stream",
          "text": [
            "7\n",
            "7\n",
            "7\n",
            "7\n"
          ],
          "name": "stdout"
        },
        {
          "output_type": "stream",
          "text": [
            " 61%|██████    | 1815/2977 [01:34<01:00, 19.11it/s]"
          ],
          "name": "stderr"
        },
        {
          "output_type": "stream",
          "text": [
            "7\n",
            "7\n",
            "7\n",
            "7\n"
          ],
          "name": "stdout"
        },
        {
          "output_type": "stream",
          "text": [
            " 61%|██████    | 1819/2977 [01:35<01:00, 19.11it/s]"
          ],
          "name": "stderr"
        },
        {
          "output_type": "stream",
          "text": [
            "7\n",
            "7\n",
            "7\n",
            "7\n"
          ],
          "name": "stdout"
        },
        {
          "output_type": "stream",
          "text": [
            " 61%|██████    | 1823/2977 [01:35<01:00, 19.10it/s]"
          ],
          "name": "stderr"
        },
        {
          "output_type": "stream",
          "text": [
            "7\n",
            "7\n",
            "7\n",
            "7\n"
          ],
          "name": "stdout"
        },
        {
          "output_type": "stream",
          "text": [
            " 61%|██████▏   | 1827/2977 [01:35<01:00, 19.10it/s]"
          ],
          "name": "stderr"
        },
        {
          "output_type": "stream",
          "text": [
            "7\n",
            "7\n",
            "7\n",
            "7\n"
          ],
          "name": "stdout"
        },
        {
          "output_type": "stream",
          "text": [
            " 62%|██████▏   | 1831/2977 [01:35<01:00, 19.10it/s]"
          ],
          "name": "stderr"
        },
        {
          "output_type": "stream",
          "text": [
            "7\n",
            "7\n",
            "7\n",
            "7\n"
          ],
          "name": "stdout"
        },
        {
          "output_type": "stream",
          "text": [
            " 62%|██████▏   | 1835/2977 [01:36<00:59, 19.10it/s]"
          ],
          "name": "stderr"
        },
        {
          "output_type": "stream",
          "text": [
            "7\n",
            "7\n",
            "7\n",
            "7\n"
          ],
          "name": "stdout"
        },
        {
          "output_type": "stream",
          "text": [
            " 62%|██████▏   | 1839/2977 [01:36<00:59, 19.10it/s]"
          ],
          "name": "stderr"
        },
        {
          "output_type": "stream",
          "text": [
            "7\n",
            "7\n",
            "7\n",
            "7\n"
          ],
          "name": "stdout"
        },
        {
          "output_type": "stream",
          "text": [
            " 62%|██████▏   | 1844/2977 [01:36<00:59, 19.10it/s]"
          ],
          "name": "stderr"
        },
        {
          "output_type": "stream",
          "text": [
            "7\n",
            "7\n",
            "7\n",
            "7\n",
            "7\n"
          ],
          "name": "stdout"
        },
        {
          "output_type": "stream",
          "text": [
            " 62%|██████▏   | 1848/2977 [01:36<00:59, 19.10it/s]"
          ],
          "name": "stderr"
        },
        {
          "output_type": "stream",
          "text": [
            "7\n",
            "7\n",
            "7\n",
            "7\n"
          ],
          "name": "stdout"
        },
        {
          "output_type": "stream",
          "text": [
            " 62%|██████▏   | 1852/2977 [01:37<00:58, 19.09it/s]"
          ],
          "name": "stderr"
        },
        {
          "output_type": "stream",
          "text": [
            "7\n",
            "7\n",
            "7\n",
            "7\n"
          ],
          "name": "stdout"
        },
        {
          "output_type": "stream",
          "text": [
            "\r 62%|██████▏   | 1855/2977 [01:37<00:58, 19.09it/s]"
          ],
          "name": "stderr"
        },
        {
          "output_type": "stream",
          "text": [
            "7\n",
            "7\n",
            "7\n",
            "7\n"
          ],
          "name": "stdout"
        },
        {
          "output_type": "stream",
          "text": [
            " 62%|██████▏   | 1859/2977 [01:37<00:58, 19.09it/s]"
          ],
          "name": "stderr"
        },
        {
          "output_type": "stream",
          "text": [
            "7\n",
            "7\n",
            "7\n",
            "7\n"
          ],
          "name": "stdout"
        },
        {
          "output_type": "stream",
          "text": [
            " 63%|██████▎   | 1863/2977 [01:37<00:58, 19.09it/s]"
          ],
          "name": "stderr"
        },
        {
          "output_type": "stream",
          "text": [
            "7\n",
            "7\n",
            "7\n",
            "7\n"
          ],
          "name": "stdout"
        },
        {
          "output_type": "stream",
          "text": [
            " 63%|██████▎   | 1867/2977 [01:37<00:58, 19.09it/s]"
          ],
          "name": "stderr"
        },
        {
          "output_type": "stream",
          "text": [
            "7\n",
            "7\n",
            "7\n",
            "7\n",
            "7\n"
          ],
          "name": "stdout"
        },
        {
          "output_type": "stream",
          "text": [
            " 63%|██████▎   | 1873/2977 [01:38<00:57, 19.09it/s]"
          ],
          "name": "stderr"
        },
        {
          "output_type": "stream",
          "text": [
            "7\n",
            "7\n",
            "7\n",
            "7\n",
            "7\n"
          ],
          "name": "stdout"
        },
        {
          "output_type": "stream",
          "text": [
            " 63%|██████▎   | 1877/2977 [01:38<00:57, 19.09it/s]"
          ],
          "name": "stderr"
        },
        {
          "output_type": "stream",
          "text": [
            "7\n",
            "7\n",
            "7\n",
            "7\n"
          ],
          "name": "stdout"
        },
        {
          "output_type": "stream",
          "text": [
            " 63%|██████▎   | 1881/2977 [01:38<00:57, 19.09it/s]"
          ],
          "name": "stderr"
        },
        {
          "output_type": "stream",
          "text": [
            "7\n",
            "7\n",
            "7\n",
            "7\n",
            "7\n"
          ],
          "name": "stdout"
        },
        {
          "output_type": "stream",
          "text": [
            " 63%|██████▎   | 1886/2977 [01:38<00:57, 19.09it/s]"
          ],
          "name": "stderr"
        },
        {
          "output_type": "stream",
          "text": [
            "7\n",
            "7\n",
            "7\n",
            "7\n"
          ],
          "name": "stdout"
        },
        {
          "output_type": "stream",
          "text": [
            " 64%|██████▎   | 1891/2977 [01:39<00:56, 19.09it/s]"
          ],
          "name": "stderr"
        },
        {
          "output_type": "stream",
          "text": [
            "7\n",
            "7\n",
            "7\n",
            "7\n",
            "7\n"
          ],
          "name": "stdout"
        },
        {
          "output_type": "stream",
          "text": [
            " 64%|██████▎   | 1896/2977 [01:39<00:56, 19.09it/s]"
          ],
          "name": "stderr"
        },
        {
          "output_type": "stream",
          "text": [
            "7\n",
            "7\n",
            "7\n",
            "7\n"
          ],
          "name": "stdout"
        },
        {
          "output_type": "stream",
          "text": [
            " 64%|██████▍   | 1900/2977 [01:39<00:56, 19.09it/s]"
          ],
          "name": "stderr"
        },
        {
          "output_type": "stream",
          "text": [
            "7\n",
            "7\n",
            "7\n",
            "7\n"
          ],
          "name": "stdout"
        },
        {
          "output_type": "stream",
          "text": [
            " 64%|██████▍   | 1905/2977 [01:39<00:56, 19.10it/s]"
          ],
          "name": "stderr"
        },
        {
          "output_type": "stream",
          "text": [
            "7\n",
            "7\n",
            "7\n",
            "7\n",
            "7\n"
          ],
          "name": "stdout"
        },
        {
          "output_type": "stream",
          "text": [
            "\r 64%|██████▍   | 1907/2977 [01:39<00:56, 19.09it/s]"
          ],
          "name": "stderr"
        },
        {
          "output_type": "stream",
          "text": [
            "7\n",
            "7\n",
            "7\n",
            "7\n"
          ],
          "name": "stdout"
        },
        {
          "output_type": "stream",
          "text": [
            " 64%|██████▍   | 1913/2977 [01:40<00:55, 19.10it/s]"
          ],
          "name": "stderr"
        },
        {
          "output_type": "stream",
          "text": [
            "7\n",
            "7\n",
            "7\n",
            "7\n",
            "7\n"
          ],
          "name": "stdout"
        },
        {
          "output_type": "stream",
          "text": [
            " 64%|██████▍   | 1918/2977 [01:40<00:55, 19.10it/s]"
          ],
          "name": "stderr"
        },
        {
          "output_type": "stream",
          "text": [
            "7\n",
            "7\n",
            "7\n",
            "7\n"
          ],
          "name": "stdout"
        },
        {
          "output_type": "stream",
          "text": [
            " 65%|██████▍   | 1922/2977 [01:40<00:55, 19.10it/s]"
          ],
          "name": "stderr"
        },
        {
          "output_type": "stream",
          "text": [
            "7\n",
            "7\n",
            "7\n",
            "7\n",
            "7\n"
          ],
          "name": "stdout"
        },
        {
          "output_type": "stream",
          "text": [
            " 65%|██████▍   | 1926/2977 [01:40<00:55, 19.10it/s]"
          ],
          "name": "stderr"
        },
        {
          "output_type": "stream",
          "text": [
            "7\n",
            "7\n",
            "7\n",
            "7\n"
          ],
          "name": "stdout"
        },
        {
          "output_type": "stream",
          "text": [
            " 65%|██████▍   | 1931/2977 [01:41<00:54, 19.10it/s]"
          ],
          "name": "stderr"
        },
        {
          "output_type": "stream",
          "text": [
            "7\n",
            "7\n",
            "7\n",
            "7\n",
            "7\n"
          ],
          "name": "stdout"
        },
        {
          "output_type": "stream",
          "text": [
            " 65%|██████▍   | 1935/2977 [01:41<00:54, 19.10it/s]"
          ],
          "name": "stderr"
        },
        {
          "output_type": "stream",
          "text": [
            "7\n",
            "7\n",
            "7\n",
            "7\n",
            "7\n"
          ],
          "name": "stdout"
        },
        {
          "output_type": "stream",
          "text": [
            " 65%|██████▌   | 1941/2977 [01:41<00:54, 19.11it/s]"
          ],
          "name": "stderr"
        },
        {
          "output_type": "stream",
          "text": [
            "7\n",
            "7\n",
            "7\n",
            "7\n",
            "7\n"
          ],
          "name": "stdout"
        },
        {
          "output_type": "stream",
          "text": [
            " 65%|██████▌   | 1946/2977 [01:41<00:53, 19.11it/s]"
          ],
          "name": "stderr"
        },
        {
          "output_type": "stream",
          "text": [
            "7\n",
            "7\n",
            "7\n",
            "7\n"
          ],
          "name": "stdout"
        },
        {
          "output_type": "stream",
          "text": [
            " 66%|██████▌   | 1951/2977 [01:42<00:53, 19.11it/s]"
          ],
          "name": "stderr"
        },
        {
          "output_type": "stream",
          "text": [
            "7\n",
            "7\n",
            "7\n",
            "7\n"
          ],
          "name": "stdout"
        },
        {
          "output_type": "stream",
          "text": [
            "\r 66%|██████▌   | 1953/2977 [01:42<00:53, 19.11it/s]"
          ],
          "name": "stderr"
        },
        {
          "output_type": "stream",
          "text": [
            "7\n",
            "7\n",
            "7\n",
            "7\n",
            "7\n"
          ],
          "name": "stdout"
        },
        {
          "output_type": "stream",
          "text": [
            " 66%|██████▌   | 1959/2977 [01:42<00:53, 19.11it/s]"
          ],
          "name": "stderr"
        },
        {
          "output_type": "stream",
          "text": [
            "7\n",
            "7\n",
            "7\n",
            "7\n",
            "7\n"
          ],
          "name": "stdout"
        },
        {
          "output_type": "stream",
          "text": [
            " 66%|██████▌   | 1965/2977 [01:42<00:52, 19.12it/s]"
          ],
          "name": "stderr"
        },
        {
          "output_type": "stream",
          "text": [
            "7\n",
            "7\n",
            "7\n",
            "7\n",
            "7\n"
          ],
          "name": "stdout"
        },
        {
          "output_type": "stream",
          "text": [
            "\r 66%|██████▌   | 1968/2977 [01:42<00:52, 19.12it/s]"
          ],
          "name": "stderr"
        },
        {
          "output_type": "stream",
          "text": [
            "7\n",
            "7\n",
            "7\n",
            "7\n",
            "7\n"
          ],
          "name": "stdout"
        },
        {
          "output_type": "stream",
          "text": [
            " 66%|██████▋   | 1974/2977 [01:43<00:52, 19.13it/s]"
          ],
          "name": "stderr"
        },
        {
          "output_type": "stream",
          "text": [
            "7\n",
            "7\n",
            "7\n",
            "7\n",
            "7\n"
          ],
          "name": "stdout"
        },
        {
          "output_type": "stream",
          "text": [
            " 67%|██████▋   | 1980/2977 [01:43<00:52, 19.14it/s]"
          ],
          "name": "stderr"
        },
        {
          "output_type": "stream",
          "text": [
            "7\n",
            "7\n",
            "7\n",
            "7\n",
            "7\n"
          ],
          "name": "stdout"
        },
        {
          "output_type": "stream",
          "text": [
            "\r 67%|██████▋   | 1983/2977 [01:43<00:51, 19.14it/s]"
          ],
          "name": "stderr"
        },
        {
          "output_type": "stream",
          "text": [
            "7\n",
            "7\n",
            "7\n",
            "7\n",
            "7\n"
          ],
          "name": "stdout"
        },
        {
          "output_type": "stream",
          "text": [
            " 67%|██████▋   | 1989/2977 [01:43<00:51, 19.15it/s]"
          ],
          "name": "stderr"
        },
        {
          "output_type": "stream",
          "text": [
            "7\n",
            "7\n",
            "7\n",
            "7\n",
            "7\n"
          ],
          "name": "stdout"
        },
        {
          "output_type": "stream",
          "text": [
            " 67%|██████▋   | 1995/2977 [01:44<00:51, 19.15it/s]"
          ],
          "name": "stderr"
        },
        {
          "output_type": "stream",
          "text": [
            "7\n",
            "7\n",
            "7\n",
            "7\n"
          ],
          "name": "stdout"
        },
        {
          "output_type": "stream",
          "text": [
            "\r 67%|██████▋   | 1998/2977 [01:44<00:51, 19.16it/s]"
          ],
          "name": "stderr"
        },
        {
          "output_type": "stream",
          "text": [
            "7\n",
            "7\n",
            "7\n",
            "7\n",
            "7\n"
          ],
          "name": "stdout"
        },
        {
          "output_type": "stream",
          "text": [
            " 67%|██████▋   | 2004/2977 [01:44<00:50, 19.16it/s]"
          ],
          "name": "stderr"
        },
        {
          "output_type": "stream",
          "text": [
            "7\n",
            "7\n",
            "7\n",
            "7\n",
            "7\n"
          ],
          "name": "stdout"
        },
        {
          "output_type": "stream",
          "text": [
            "\r 67%|██████▋   | 2007/2977 [01:44<00:50, 19.16it/s]"
          ],
          "name": "stderr"
        },
        {
          "output_type": "stream",
          "text": [
            "7\n",
            "7\n",
            "7\n",
            "7\n",
            "7\n"
          ],
          "name": "stdout"
        },
        {
          "output_type": "stream",
          "text": [
            " 68%|██████▊   | 2013/2977 [01:45<00:50, 19.17it/s]"
          ],
          "name": "stderr"
        },
        {
          "output_type": "stream",
          "text": [
            "7\n",
            "7\n",
            "7\n",
            "7\n",
            "7\n"
          ],
          "name": "stdout"
        },
        {
          "output_type": "stream",
          "text": [
            " 68%|██████▊   | 2019/2977 [01:45<00:49, 19.17it/s]"
          ],
          "name": "stderr"
        },
        {
          "output_type": "stream",
          "text": [
            "7\n",
            "7\n",
            "7\n",
            "7\n",
            "7\n"
          ],
          "name": "stdout"
        },
        {
          "output_type": "stream",
          "text": [
            "\r 68%|██████▊   | 2022/2977 [01:45<00:49, 19.17it/s]"
          ],
          "name": "stderr"
        },
        {
          "output_type": "stream",
          "text": [
            "7\n",
            "7\n",
            "7\n",
            "7\n",
            "7\n"
          ],
          "name": "stdout"
        },
        {
          "output_type": "stream",
          "text": [
            " 68%|██████▊   | 2028/2977 [01:45<00:49, 19.18it/s]"
          ],
          "name": "stderr"
        },
        {
          "output_type": "stream",
          "text": [
            "7\n",
            "7\n",
            "7\n",
            "7\n",
            "7\n"
          ],
          "name": "stdout"
        },
        {
          "output_type": "stream",
          "text": [
            " 68%|██████▊   | 2034/2977 [01:46<00:49, 19.18it/s]"
          ],
          "name": "stderr"
        },
        {
          "output_type": "stream",
          "text": [
            "7\n",
            "7\n",
            "7\n",
            "7\n",
            "7\n"
          ],
          "name": "stdout"
        },
        {
          "output_type": "stream",
          "text": [
            "\r 68%|██████▊   | 2037/2977 [01:46<00:48, 19.18it/s]"
          ],
          "name": "stderr"
        },
        {
          "output_type": "stream",
          "text": [
            "7\n",
            "7\n",
            "7\n",
            "7\n",
            "7\n"
          ],
          "name": "stdout"
        },
        {
          "output_type": "stream",
          "text": [
            " 69%|██████▊   | 2043/2977 [01:46<00:48, 19.19it/s]"
          ],
          "name": "stderr"
        },
        {
          "output_type": "stream",
          "text": [
            "7\n",
            "7\n",
            "7\n",
            "7\n"
          ],
          "name": "stdout"
        },
        {
          "output_type": "stream",
          "text": [
            "\r 69%|██████▊   | 2046/2977 [01:46<00:48, 19.19it/s]"
          ],
          "name": "stderr"
        },
        {
          "output_type": "stream",
          "text": [
            "7\n",
            "7\n",
            "7\n",
            "7\n",
            "7\n"
          ],
          "name": "stdout"
        },
        {
          "output_type": "stream",
          "text": [
            " 69%|██████▉   | 2052/2977 [01:46<00:48, 19.20it/s]"
          ],
          "name": "stderr"
        },
        {
          "output_type": "stream",
          "text": [
            "7\n",
            "7\n",
            "7\n",
            "7\n",
            "7\n"
          ],
          "name": "stdout"
        },
        {
          "output_type": "stream",
          "text": [
            " 69%|██████▉   | 2058/2977 [01:47<00:47, 19.20it/s]"
          ],
          "name": "stderr"
        },
        {
          "output_type": "stream",
          "text": [
            "7\n",
            "7\n",
            "7\n",
            "7\n",
            "7\n"
          ],
          "name": "stdout"
        },
        {
          "output_type": "stream",
          "text": [
            "\r 69%|██████▉   | 2061/2977 [01:47<00:47, 19.20it/s]"
          ],
          "name": "stderr"
        },
        {
          "output_type": "stream",
          "text": [
            "7\n",
            "7\n",
            "7\n",
            "7\n"
          ],
          "name": "stdout"
        },
        {
          "output_type": "stream",
          "text": [
            " 69%|██████▉   | 2067/2977 [01:47<00:47, 19.20it/s]"
          ],
          "name": "stderr"
        },
        {
          "output_type": "stream",
          "text": [
            "7\n",
            "7\n",
            "7\n",
            "7\n"
          ],
          "name": "stdout"
        },
        {
          "output_type": "stream",
          "text": [
            "\r 70%|██████▉   | 2070/2977 [01:47<00:47, 19.20it/s]"
          ],
          "name": "stderr"
        },
        {
          "output_type": "stream",
          "text": [
            "7\n",
            "7\n",
            "7\n",
            "7\n"
          ],
          "name": "stdout"
        },
        {
          "output_type": "stream",
          "text": [
            " 70%|██████▉   | 2075/2977 [01:48<00:46, 19.20it/s]"
          ],
          "name": "stderr"
        },
        {
          "output_type": "stream",
          "text": [
            "7\n",
            "7\n",
            "7\n",
            "7\n",
            "7\n"
          ],
          "name": "stdout"
        },
        {
          "output_type": "stream",
          "text": [
            " 70%|██████▉   | 2080/2977 [01:48<00:46, 19.21it/s]"
          ],
          "name": "stderr"
        },
        {
          "output_type": "stream",
          "text": [
            "7\n",
            "7\n",
            "7\n",
            "7\n",
            "7\n"
          ],
          "name": "stdout"
        },
        {
          "output_type": "stream",
          "text": [
            " 70%|███████   | 2085/2977 [01:48<00:46, 19.21it/s]"
          ],
          "name": "stderr"
        },
        {
          "output_type": "stream",
          "text": [
            "7\n",
            "7\n",
            "7\n",
            "7\n",
            "7\n"
          ],
          "name": "stdout"
        },
        {
          "output_type": "stream",
          "text": [
            " 70%|███████   | 2090/2977 [01:48<00:46, 19.21it/s]"
          ],
          "name": "stderr"
        },
        {
          "output_type": "stream",
          "text": [
            "7\n",
            "7\n",
            "7\n",
            "7\n",
            "7\n"
          ],
          "name": "stdout"
        },
        {
          "output_type": "stream",
          "text": [
            " 70%|███████   | 2095/2977 [01:49<00:45, 19.21it/s]"
          ],
          "name": "stderr"
        },
        {
          "output_type": "stream",
          "text": [
            "7\n",
            "7\n",
            "7\n",
            "7\n",
            "7\n"
          ],
          "name": "stdout"
        },
        {
          "output_type": "stream",
          "text": [
            "\r 70%|███████   | 2098/2977 [01:49<00:45, 19.21it/s]"
          ],
          "name": "stderr"
        },
        {
          "output_type": "stream",
          "text": [
            "7\n",
            "7\n",
            "7\n",
            "7\n",
            "7\n"
          ],
          "name": "stdout"
        },
        {
          "output_type": "stream",
          "text": [
            " 71%|███████   | 2104/2977 [01:49<00:45, 19.22it/s]"
          ],
          "name": "stderr"
        },
        {
          "output_type": "stream",
          "text": [
            "7\n",
            "7\n",
            "7\n",
            "7\n"
          ],
          "name": "stdout"
        },
        {
          "output_type": "stream",
          "text": [
            "\r 71%|███████   | 2107/2977 [01:49<00:45, 19.22it/s]"
          ],
          "name": "stderr"
        },
        {
          "output_type": "stream",
          "text": [
            "7\n",
            "7\n",
            "7\n",
            "7\n",
            "7\n"
          ],
          "name": "stdout"
        },
        {
          "output_type": "stream",
          "text": [
            " 71%|███████   | 2112/2977 [01:49<00:45, 19.22it/s]"
          ],
          "name": "stderr"
        },
        {
          "output_type": "stream",
          "text": [
            "7\n",
            "7\n",
            "7\n",
            "7\n"
          ],
          "name": "stdout"
        },
        {
          "output_type": "stream",
          "text": [
            " 71%|███████   | 2116/2977 [01:50<00:44, 19.21it/s]"
          ],
          "name": "stderr"
        },
        {
          "output_type": "stream",
          "text": [
            "7\n",
            "7\n",
            "7\n",
            "7\n"
          ],
          "name": "stdout"
        },
        {
          "output_type": "stream",
          "text": [
            " 71%|███████   | 2121/2977 [01:50<00:44, 19.21it/s]"
          ],
          "name": "stderr"
        },
        {
          "output_type": "stream",
          "text": [
            "7\n",
            "7\n",
            "7\n",
            "7\n",
            "7\n"
          ],
          "name": "stdout"
        },
        {
          "output_type": "stream",
          "text": [
            " 71%|███████▏  | 2126/2977 [01:50<00:44, 19.21it/s]"
          ],
          "name": "stderr"
        },
        {
          "output_type": "stream",
          "text": [
            "7\n",
            "7\n",
            "7\n",
            "7\n",
            "7\n"
          ],
          "name": "stdout"
        },
        {
          "output_type": "stream",
          "text": [
            " 72%|███████▏  | 2130/2977 [01:50<00:44, 19.21it/s]"
          ],
          "name": "stderr"
        },
        {
          "output_type": "stream",
          "text": [
            "7\n",
            "7\n",
            "7\n",
            "7\n",
            "7\n"
          ],
          "name": "stdout"
        },
        {
          "output_type": "stream",
          "text": [
            " 72%|███████▏  | 2135/2977 [01:51<00:43, 19.21it/s]"
          ],
          "name": "stderr"
        },
        {
          "output_type": "stream",
          "text": [
            "7\n",
            "7\n",
            "7\n",
            "7\n"
          ],
          "name": "stdout"
        },
        {
          "output_type": "stream",
          "text": [
            " 72%|███████▏  | 2140/2977 [01:51<00:43, 19.22it/s]"
          ],
          "name": "stderr"
        },
        {
          "output_type": "stream",
          "text": [
            "7\n",
            "7\n",
            "7\n",
            "7\n",
            "7\n"
          ],
          "name": "stdout"
        },
        {
          "output_type": "stream",
          "text": [
            " 72%|███████▏  | 2146/2977 [01:51<00:43, 19.22it/s]"
          ],
          "name": "stderr"
        },
        {
          "output_type": "stream",
          "text": [
            "7\n",
            "7\n",
            "7\n",
            "7\n"
          ],
          "name": "stdout"
        },
        {
          "output_type": "stream",
          "text": [
            "\r 72%|███████▏  | 2148/2977 [01:51<00:43, 19.22it/s]"
          ],
          "name": "stderr"
        },
        {
          "output_type": "stream",
          "text": [
            "7\n",
            "7\n",
            "7\n",
            "7\n"
          ],
          "name": "stdout"
        },
        {
          "output_type": "stream",
          "text": [
            " 72%|███████▏  | 2153/2977 [01:52<00:42, 19.22it/s]"
          ],
          "name": "stderr"
        },
        {
          "output_type": "stream",
          "text": [
            "7\n",
            "7\n",
            "7\n",
            "7\n",
            "7\n"
          ],
          "name": "stdout"
        },
        {
          "output_type": "stream",
          "text": [
            " 72%|███████▏  | 2157/2977 [01:52<00:42, 19.22it/s]"
          ],
          "name": "stderr"
        },
        {
          "output_type": "stream",
          "text": [
            "7\n",
            "7\n",
            "7\n",
            "7\n",
            "7\n"
          ],
          "name": "stdout"
        },
        {
          "output_type": "stream",
          "text": [
            " 73%|███████▎  | 2163/2977 [01:52<00:42, 19.23it/s]"
          ],
          "name": "stderr"
        },
        {
          "output_type": "stream",
          "text": [
            "7\n",
            "7\n",
            "7\n",
            "7\n",
            "7\n"
          ],
          "name": "stdout"
        },
        {
          "output_type": "stream",
          "text": [
            " 73%|███████▎  | 2169/2977 [01:52<00:42, 19.23it/s]"
          ],
          "name": "stderr"
        },
        {
          "output_type": "stream",
          "text": [
            "7\n",
            "7\n",
            "7\n",
            "7\n",
            "7\n"
          ],
          "name": "stdout"
        },
        {
          "output_type": "stream",
          "text": [
            "\r 73%|███████▎  | 2172/2977 [01:52<00:41, 19.23it/s]"
          ],
          "name": "stderr"
        },
        {
          "output_type": "stream",
          "text": [
            "7\n",
            "7\n",
            "7\n",
            "7\n",
            "7\n"
          ],
          "name": "stdout"
        },
        {
          "output_type": "stream",
          "text": [
            " 73%|███████▎  | 2178/2977 [01:53<00:41, 19.24it/s]"
          ],
          "name": "stderr"
        },
        {
          "output_type": "stream",
          "text": [
            "7\n",
            "7\n",
            "7\n",
            "7\n",
            "7\n"
          ],
          "name": "stdout"
        },
        {
          "output_type": "stream",
          "text": [
            " 73%|███████▎  | 2184/2977 [01:53<00:41, 19.24it/s]"
          ],
          "name": "stderr"
        },
        {
          "output_type": "stream",
          "text": [
            "7\n",
            "7\n",
            "7\n",
            "7\n",
            "7\n"
          ],
          "name": "stdout"
        },
        {
          "output_type": "stream",
          "text": [
            "\r 73%|███████▎  | 2187/2977 [01:53<00:41, 19.24it/s]"
          ],
          "name": "stderr"
        },
        {
          "output_type": "stream",
          "text": [
            "7\n",
            "7\n",
            "7\n",
            "7\n"
          ],
          "name": "stdout"
        },
        {
          "output_type": "stream",
          "text": [
            " 74%|███████▎  | 2193/2977 [01:53<00:40, 19.24it/s]"
          ],
          "name": "stderr"
        },
        {
          "output_type": "stream",
          "text": [
            "7\n",
            "7\n",
            "7\n",
            "7\n",
            "7\n"
          ],
          "name": "stdout"
        },
        {
          "output_type": "stream",
          "text": [
            "\r 74%|███████▍  | 2196/2977 [01:54<00:40, 19.24it/s]"
          ],
          "name": "stderr"
        },
        {
          "output_type": "stream",
          "text": [
            "7\n",
            "7\n",
            "7\n",
            "7\n",
            "7\n"
          ],
          "name": "stdout"
        },
        {
          "output_type": "stream",
          "text": [
            " 74%|███████▍  | 2202/2977 [01:54<00:40, 19.25it/s]"
          ],
          "name": "stderr"
        },
        {
          "output_type": "stream",
          "text": [
            "7\n",
            "7\n",
            "7\n",
            "7\n",
            "7\n"
          ],
          "name": "stdout"
        },
        {
          "output_type": "stream",
          "text": [
            " 74%|███████▍  | 2208/2977 [01:54<00:39, 19.25it/s]"
          ],
          "name": "stderr"
        },
        {
          "output_type": "stream",
          "text": [
            "7\n",
            "7\n",
            "7\n",
            "7\n",
            "7\n"
          ],
          "name": "stdout"
        },
        {
          "output_type": "stream",
          "text": [
            "\r 74%|███████▍  | 2211/2977 [01:54<00:39, 19.25it/s]"
          ],
          "name": "stderr"
        },
        {
          "output_type": "stream",
          "text": [
            "7\n",
            "7\n",
            "7\n",
            "7\n",
            "7\n"
          ],
          "name": "stdout"
        },
        {
          "output_type": "stream",
          "text": [
            " 74%|███████▍  | 2217/2977 [01:55<00:39, 19.25it/s]"
          ],
          "name": "stderr"
        },
        {
          "output_type": "stream",
          "text": [
            "7\n",
            "7\n",
            "7\n",
            "7\n",
            "7\n"
          ],
          "name": "stdout"
        },
        {
          "output_type": "stream",
          "text": [
            " 75%|███████▍  | 2223/2977 [01:55<00:39, 19.26it/s]"
          ],
          "name": "stderr"
        },
        {
          "output_type": "stream",
          "text": [
            "7\n",
            "7\n",
            "7\n",
            "7\n",
            "7\n"
          ],
          "name": "stdout"
        },
        {
          "output_type": "stream",
          "text": [
            "\r 75%|███████▍  | 2226/2977 [01:55<00:38, 19.26it/s]"
          ],
          "name": "stderr"
        },
        {
          "output_type": "stream",
          "text": [
            "7\n",
            "7\n",
            "7\n",
            "7\n",
            "7\n"
          ],
          "name": "stdout"
        },
        {
          "output_type": "stream",
          "text": [
            " 75%|███████▍  | 2232/2977 [01:55<00:38, 19.26it/s]"
          ],
          "name": "stderr"
        },
        {
          "output_type": "stream",
          "text": [
            "7\n",
            "7\n",
            "7\n",
            "7\n",
            "7\n"
          ],
          "name": "stdout"
        },
        {
          "output_type": "stream",
          "text": [
            " 75%|███████▌  | 2238/2977 [01:56<00:38, 19.27it/s]"
          ],
          "name": "stderr"
        },
        {
          "output_type": "stream",
          "text": [
            "7\n",
            "7\n",
            "7\n",
            "7\n",
            "7\n"
          ],
          "name": "stdout"
        },
        {
          "output_type": "stream",
          "text": [
            "\r 75%|███████▌  | 2241/2977 [01:56<00:38, 19.27it/s]"
          ],
          "name": "stderr"
        },
        {
          "output_type": "stream",
          "text": [
            "7\n",
            "7\n",
            "7\n",
            "7\n",
            "7\n"
          ],
          "name": "stdout"
        },
        {
          "output_type": "stream",
          "text": [
            " 75%|███████▌  | 2247/2977 [01:56<00:37, 19.27it/s]"
          ],
          "name": "stderr"
        },
        {
          "output_type": "stream",
          "text": [
            "7\n",
            "7\n",
            "7\n",
            "7\n",
            "7\n"
          ],
          "name": "stdout"
        },
        {
          "output_type": "stream",
          "text": [
            " 76%|███████▌  | 2253/2977 [01:56<00:37, 19.27it/s]"
          ],
          "name": "stderr"
        },
        {
          "output_type": "stream",
          "text": [
            "7\n",
            "7\n",
            "7\n",
            "7\n",
            "7\n"
          ],
          "name": "stdout"
        },
        {
          "output_type": "stream",
          "text": [
            "\r 76%|███████▌  | 2256/2977 [01:57<00:37, 19.27it/s]"
          ],
          "name": "stderr"
        },
        {
          "output_type": "stream",
          "text": [
            "7\n",
            "7\n",
            "7\n",
            "7\n",
            "7\n"
          ],
          "name": "stdout"
        },
        {
          "output_type": "stream",
          "text": [
            " 76%|███████▌  | 2262/2977 [01:57<00:37, 19.27it/s]"
          ],
          "name": "stderr"
        },
        {
          "output_type": "stream",
          "text": [
            "7\n",
            "7\n",
            "7\n",
            "7\n"
          ],
          "name": "stdout"
        },
        {
          "output_type": "stream",
          "text": [
            "\r 76%|███████▌  | 2265/2977 [01:57<00:36, 19.28it/s]"
          ],
          "name": "stderr"
        },
        {
          "output_type": "stream",
          "text": [
            "7\n",
            "7\n",
            "7\n",
            "7\n",
            "7\n"
          ],
          "name": "stdout"
        },
        {
          "output_type": "stream",
          "text": [
            " 76%|███████▋  | 2271/2977 [01:57<00:36, 19.28it/s]"
          ],
          "name": "stderr"
        },
        {
          "output_type": "stream",
          "text": [
            "7\n",
            "7\n",
            "7\n",
            "7\n",
            "7\n"
          ],
          "name": "stdout"
        },
        {
          "output_type": "stream",
          "text": [
            " 76%|███████▋  | 2277/2977 [01:58<00:36, 19.28it/s]"
          ],
          "name": "stderr"
        },
        {
          "output_type": "stream",
          "text": [
            "7\n",
            "7\n",
            "7\n",
            "7\n",
            "7\n"
          ],
          "name": "stdout"
        },
        {
          "output_type": "stream",
          "text": [
            "\r 77%|███████▋  | 2280/2977 [01:58<00:36, 19.28it/s]"
          ],
          "name": "stderr"
        },
        {
          "output_type": "stream",
          "text": [
            "7\n",
            "7\n",
            "7\n",
            "7\n",
            "7\n"
          ],
          "name": "stdout"
        },
        {
          "output_type": "stream",
          "text": [
            " 77%|███████▋  | 2286/2977 [01:58<00:35, 19.29it/s]"
          ],
          "name": "stderr"
        },
        {
          "output_type": "stream",
          "text": [
            "7\n",
            "7\n",
            "7\n",
            "7\n",
            "7\n"
          ],
          "name": "stdout"
        },
        {
          "output_type": "stream",
          "text": [
            " 77%|███████▋  | 2292/2977 [01:58<00:35, 19.29it/s]"
          ],
          "name": "stderr"
        },
        {
          "output_type": "stream",
          "text": [
            "7\n",
            "7\n",
            "7\n",
            "7\n",
            "7"
          ],
          "name": "stdout"
        },
        {
          "output_type": "stream",
          "text": [
            "\r 77%|███████▋  | 2295/2977 [01:58<00:35, 19.29it/s]"
          ],
          "name": "stderr"
        },
        {
          "output_type": "stream",
          "text": [
            "\n",
            "7\n",
            "7\n",
            "7\n",
            "7\n"
          ],
          "name": "stdout"
        },
        {
          "output_type": "stream",
          "text": [
            "\r 77%|███████▋  | 2298/2977 [01:59<00:35, 19.29it/s]"
          ],
          "name": "stderr"
        },
        {
          "output_type": "stream",
          "text": [
            "7\n",
            "7\n",
            "7\n",
            "7\n"
          ],
          "name": "stdout"
        },
        {
          "output_type": "stream",
          "text": [
            " 77%|███████▋  | 2304/2977 [01:59<00:34, 19.30it/s]"
          ],
          "name": "stderr"
        },
        {
          "output_type": "stream",
          "text": [
            "7\n",
            "7\n",
            "7\n",
            "7\n",
            "7\n"
          ],
          "name": "stdout"
        },
        {
          "output_type": "stream",
          "text": [
            " 78%|███████▊  | 2310/2977 [01:59<00:34, 19.30it/s]"
          ],
          "name": "stderr"
        },
        {
          "output_type": "stream",
          "text": [
            "7\n",
            "7\n",
            "7\n",
            "7\n",
            "7"
          ],
          "name": "stdout"
        },
        {
          "output_type": "stream",
          "text": [
            "\r 78%|███████▊  | 2313/2977 [01:59<00:34, 19.30it/s]"
          ],
          "name": "stderr"
        },
        {
          "output_type": "stream",
          "text": [
            "\n",
            "7\n",
            "7\n",
            "7\n",
            "7\n",
            "7\n"
          ],
          "name": "stdout"
        },
        {
          "output_type": "stream",
          "text": [
            " 78%|███████▊  | 2319/2977 [02:00<00:34, 19.31it/s]"
          ],
          "name": "stderr"
        },
        {
          "output_type": "stream",
          "text": [
            "7\n",
            "7\n",
            "7\n",
            "7\n",
            "7\n"
          ],
          "name": "stdout"
        },
        {
          "output_type": "stream",
          "text": [
            " 78%|███████▊  | 2325/2977 [02:00<00:33, 19.31it/s]"
          ],
          "name": "stderr"
        },
        {
          "output_type": "stream",
          "text": [
            "7\n",
            "7\n",
            "7\n",
            "7\n",
            "7\n"
          ],
          "name": "stdout"
        },
        {
          "output_type": "stream",
          "text": [
            "\r 78%|███████▊  | 2328/2977 [02:00<00:33, 19.31it/s]"
          ],
          "name": "stderr"
        },
        {
          "output_type": "stream",
          "text": [
            "7\n",
            "7\n",
            "7\n",
            "7\n",
            "7\n"
          ],
          "name": "stdout"
        },
        {
          "output_type": "stream",
          "text": [
            " 78%|███████▊  | 2334/2977 [02:00<00:33, 19.32it/s]"
          ],
          "name": "stderr"
        },
        {
          "output_type": "stream",
          "text": [
            "7\n",
            "7\n",
            "7\n",
            "7\n",
            "7\n"
          ],
          "name": "stdout"
        },
        {
          "output_type": "stream",
          "text": [
            " 79%|███████▊  | 2340/2977 [02:01<00:32, 19.32it/s]"
          ],
          "name": "stderr"
        },
        {
          "output_type": "stream",
          "text": [
            "7\n",
            "7\n",
            "7\n",
            "7\n",
            "7\n"
          ],
          "name": "stdout"
        },
        {
          "output_type": "stream",
          "text": [
            "\r 79%|███████▊  | 2343/2977 [02:01<00:32, 19.32it/s]"
          ],
          "name": "stderr"
        },
        {
          "output_type": "stream",
          "text": [
            "7\n",
            "7\n",
            "7\n",
            "7\n",
            "7\n"
          ],
          "name": "stdout"
        },
        {
          "output_type": "stream",
          "text": [
            " 79%|███████▉  | 2349/2977 [02:01<00:32, 19.33it/s]"
          ],
          "name": "stderr"
        },
        {
          "output_type": "stream",
          "text": [
            "7\n",
            "7\n",
            "7\n",
            "7\n",
            "7\n"
          ],
          "name": "stdout"
        },
        {
          "output_type": "stream",
          "text": [
            " 79%|███████▉  | 2355/2977 [02:01<00:32, 19.33it/s]"
          ],
          "name": "stderr"
        },
        {
          "output_type": "stream",
          "text": [
            "7\n",
            "7\n",
            "7\n",
            "7\n",
            "7\n"
          ],
          "name": "stdout"
        },
        {
          "output_type": "stream",
          "text": [
            "\r 79%|███████▉  | 2358/2977 [02:01<00:32, 19.34it/s]"
          ],
          "name": "stderr"
        },
        {
          "output_type": "stream",
          "text": [
            "7\n",
            "7\n",
            "7\n",
            "7\n",
            "7\n"
          ],
          "name": "stdout"
        },
        {
          "output_type": "stream",
          "text": [
            " 79%|███████▉  | 2364/2977 [02:02<00:31, 19.34it/s]"
          ],
          "name": "stderr"
        },
        {
          "output_type": "stream",
          "text": [
            "7\n",
            "7\n",
            "7\n",
            "7\n"
          ],
          "name": "stdout"
        },
        {
          "output_type": "stream",
          "text": [
            "\r 80%|███████▉  | 2367/2977 [02:02<00:31, 19.34it/s]"
          ],
          "name": "stderr"
        },
        {
          "output_type": "stream",
          "text": [
            "7\n",
            "7\n",
            "7\n",
            "7\n",
            "7\n"
          ],
          "name": "stdout"
        },
        {
          "output_type": "stream",
          "text": [
            " 80%|███████▉  | 2373/2977 [02:02<00:31, 19.34it/s]"
          ],
          "name": "stderr"
        },
        {
          "output_type": "stream",
          "text": [
            "7\n",
            "7\n",
            "7\n",
            "7\n",
            "7\n"
          ],
          "name": "stdout"
        },
        {
          "output_type": "stream",
          "text": [
            " 80%|███████▉  | 2379/2977 [02:02<00:30, 19.34it/s]"
          ],
          "name": "stderr"
        },
        {
          "output_type": "stream",
          "text": [
            "7\n",
            "7\n",
            "7\n",
            "7\n",
            "7\n"
          ],
          "name": "stdout"
        },
        {
          "output_type": "stream",
          "text": [
            "\r 80%|████████  | 2382/2977 [02:03<00:30, 19.34it/s]"
          ],
          "name": "stderr"
        },
        {
          "output_type": "stream",
          "text": [
            "7\n",
            "7\n",
            "7\n",
            "7\n",
            "7\n"
          ],
          "name": "stdout"
        },
        {
          "output_type": "stream",
          "text": [
            " 80%|████████  | 2388/2977 [02:03<00:30, 19.35it/s]"
          ],
          "name": "stderr"
        },
        {
          "output_type": "stream",
          "text": [
            "7\n",
            "7\n",
            "7\n",
            "7\n",
            "7\n"
          ],
          "name": "stdout"
        },
        {
          "output_type": "stream",
          "text": [
            " 80%|████████  | 2394/2977 [02:03<00:30, 19.35it/s]"
          ],
          "name": "stderr"
        },
        {
          "output_type": "stream",
          "text": [
            "7\n",
            "7\n",
            "7\n",
            "7\n",
            "7\n"
          ],
          "name": "stdout"
        },
        {
          "output_type": "stream",
          "text": [
            "\r 81%|████████  | 2397/2977 [02:03<00:29, 19.35it/s]"
          ],
          "name": "stderr"
        },
        {
          "output_type": "stream",
          "text": [
            "7\n",
            "7\n",
            "7\n",
            "7\n",
            "7\n"
          ],
          "name": "stdout"
        },
        {
          "output_type": "stream",
          "text": [
            " 81%|████████  | 2403/2977 [02:04<00:29, 19.35it/s]"
          ],
          "name": "stderr"
        },
        {
          "output_type": "stream",
          "text": [
            "7\n",
            "7\n",
            "7\n",
            "7\n",
            "7\n"
          ],
          "name": "stdout"
        },
        {
          "output_type": "stream",
          "text": [
            " 81%|████████  | 2409/2977 [02:04<00:29, 19.35it/s]"
          ],
          "name": "stderr"
        },
        {
          "output_type": "stream",
          "text": [
            "7\n",
            "7\n",
            "7\n",
            "7\n"
          ],
          "name": "stdout"
        },
        {
          "output_type": "stream",
          "text": [
            "\r 81%|████████  | 2412/2977 [02:04<00:29, 19.36it/s]"
          ],
          "name": "stderr"
        },
        {
          "output_type": "stream",
          "text": [
            "7\n",
            "7\n",
            "7\n",
            "7\n",
            "7\n"
          ],
          "name": "stdout"
        },
        {
          "output_type": "stream",
          "text": [
            " 81%|████████  | 2418/2977 [02:04<00:28, 19.36it/s]"
          ],
          "name": "stderr"
        },
        {
          "output_type": "stream",
          "text": [
            "7\n",
            "7\n",
            "7\n",
            "7\n",
            "7\n"
          ],
          "name": "stdout"
        },
        {
          "output_type": "stream",
          "text": [
            "\r 81%|████████▏ | 2421/2977 [02:05<00:28, 19.36it/s]"
          ],
          "name": "stderr"
        },
        {
          "output_type": "stream",
          "text": [
            "7\n",
            "7\n",
            "7\n",
            "7\n"
          ],
          "name": "stdout"
        },
        {
          "output_type": "stream",
          "text": [
            " 81%|████████▏ | 2426/2977 [02:05<00:28, 19.36it/s]"
          ],
          "name": "stderr"
        },
        {
          "output_type": "stream",
          "text": [
            "7\n",
            "7\n",
            "7\n",
            "7\n"
          ],
          "name": "stdout"
        },
        {
          "output_type": "stream",
          "text": [
            " 82%|████████▏ | 2430/2977 [02:05<00:28, 19.35it/s]"
          ],
          "name": "stderr"
        },
        {
          "output_type": "stream",
          "text": [
            "7\n",
            "7\n",
            "7\n",
            "7\n"
          ],
          "name": "stdout"
        },
        {
          "output_type": "stream",
          "text": [
            " 82%|████████▏ | 2434/2977 [02:05<00:28, 19.35it/s]"
          ],
          "name": "stderr"
        },
        {
          "output_type": "stream",
          "text": [
            "7\n",
            "7\n",
            "7\n",
            "7\n"
          ],
          "name": "stdout"
        },
        {
          "output_type": "stream",
          "text": [
            " 82%|████████▏ | 2438/2977 [02:05<00:27, 19.35it/s]"
          ],
          "name": "stderr"
        },
        {
          "output_type": "stream",
          "text": [
            "7\n",
            "7\n",
            "7\n",
            "7\n"
          ],
          "name": "stdout"
        },
        {
          "output_type": "stream",
          "text": [
            " 82%|████████▏ | 2442/2977 [02:06<00:27, 19.35it/s]"
          ],
          "name": "stderr"
        },
        {
          "output_type": "stream",
          "text": [
            "7\n",
            "7\n",
            "7\n",
            "7\n"
          ],
          "name": "stdout"
        },
        {
          "output_type": "stream",
          "text": [
            " 82%|████████▏ | 2446/2977 [02:06<00:27, 19.35it/s]"
          ],
          "name": "stderr"
        },
        {
          "output_type": "stream",
          "text": [
            "7\n",
            "7\n",
            "7\n",
            "7\n"
          ],
          "name": "stdout"
        },
        {
          "output_type": "stream",
          "text": [
            " 82%|████████▏ | 2450/2977 [02:06<00:27, 19.35it/s]"
          ],
          "name": "stderr"
        },
        {
          "output_type": "stream",
          "text": [
            "7\n",
            "7\n",
            "7\n",
            "7\n"
          ],
          "name": "stdout"
        },
        {
          "output_type": "stream",
          "text": [
            " 82%|████████▏ | 2454/2977 [02:06<00:27, 19.34it/s]"
          ],
          "name": "stderr"
        },
        {
          "output_type": "stream",
          "text": [
            "7\n",
            "7\n",
            "7\n",
            "7\n"
          ],
          "name": "stdout"
        },
        {
          "output_type": "stream",
          "text": [
            " 83%|████████▎ | 2458/2977 [02:07<00:26, 19.34it/s]"
          ],
          "name": "stderr"
        },
        {
          "output_type": "stream",
          "text": [
            "7\n",
            "7\n",
            "7\n",
            "7\n"
          ],
          "name": "stdout"
        },
        {
          "output_type": "stream",
          "text": [
            " 83%|████████▎ | 2462/2977 [02:07<00:26, 19.34it/s]"
          ],
          "name": "stderr"
        },
        {
          "output_type": "stream",
          "text": [
            "7\n",
            "7\n",
            "7\n",
            "7\n"
          ],
          "name": "stdout"
        },
        {
          "output_type": "stream",
          "text": [
            " 83%|████████▎ | 2466/2977 [02:07<00:26, 19.34it/s]"
          ],
          "name": "stderr"
        },
        {
          "output_type": "stream",
          "text": [
            "7\n",
            "7\n",
            "7\n",
            "7\n"
          ],
          "name": "stdout"
        },
        {
          "output_type": "stream",
          "text": [
            " 83%|████████▎ | 2470/2977 [02:07<00:26, 19.33it/s]"
          ],
          "name": "stderr"
        },
        {
          "output_type": "stream",
          "text": [
            "7\n",
            "7\n",
            "7\n",
            "7\n"
          ],
          "name": "stdout"
        },
        {
          "output_type": "stream",
          "text": [
            " 83%|████████▎ | 2474/2977 [02:07<00:26, 19.33it/s]"
          ],
          "name": "stderr"
        },
        {
          "output_type": "stream",
          "text": [
            "7\n",
            "7\n",
            "7\n",
            "7\n"
          ],
          "name": "stdout"
        },
        {
          "output_type": "stream",
          "text": [
            " 83%|████████▎ | 2478/2977 [02:08<00:25, 19.33it/s]"
          ],
          "name": "stderr"
        },
        {
          "output_type": "stream",
          "text": [
            "7\n",
            "7\n",
            "7\n",
            "7\n"
          ],
          "name": "stdout"
        },
        {
          "output_type": "stream",
          "text": [
            " 83%|████████▎ | 2482/2977 [02:08<00:25, 19.33it/s]"
          ],
          "name": "stderr"
        },
        {
          "output_type": "stream",
          "text": [
            "7\n",
            "7\n",
            "7\n",
            "7\n"
          ],
          "name": "stdout"
        },
        {
          "output_type": "stream",
          "text": [
            " 84%|████████▎ | 2486/2977 [02:08<00:25, 19.33it/s]"
          ],
          "name": "stderr"
        },
        {
          "output_type": "stream",
          "text": [
            "7\n",
            "7\n",
            "7\n",
            "7\n"
          ],
          "name": "stdout"
        },
        {
          "output_type": "stream",
          "text": [
            " 84%|████████▎ | 2490/2977 [02:08<00:25, 19.32it/s]"
          ],
          "name": "stderr"
        },
        {
          "output_type": "stream",
          "text": [
            "7\n",
            "7\n",
            "7\n",
            "7\n"
          ],
          "name": "stdout"
        },
        {
          "output_type": "stream",
          "text": [
            " 84%|████████▍ | 2494/2977 [02:09<00:24, 19.32it/s]"
          ],
          "name": "stderr"
        },
        {
          "output_type": "stream",
          "text": [
            "7\n",
            "7\n",
            "7\n",
            "7\n"
          ],
          "name": "stdout"
        },
        {
          "output_type": "stream",
          "text": [
            " 84%|████████▍ | 2498/2977 [02:09<00:24, 19.32it/s]"
          ],
          "name": "stderr"
        },
        {
          "output_type": "stream",
          "text": [
            "7\n",
            "7\n",
            "7\n",
            "7\n"
          ],
          "name": "stdout"
        },
        {
          "output_type": "stream",
          "text": [
            " 84%|████████▍ | 2502/2977 [02:09<00:24, 19.32it/s]"
          ],
          "name": "stderr"
        },
        {
          "output_type": "stream",
          "text": [
            "7\n",
            "7\n",
            "7\n",
            "7\n"
          ],
          "name": "stdout"
        },
        {
          "output_type": "stream",
          "text": [
            " 84%|████████▍ | 2506/2977 [02:09<00:24, 19.31it/s]"
          ],
          "name": "stderr"
        },
        {
          "output_type": "stream",
          "text": [
            "7\n",
            "7\n",
            "7\n",
            "7\n"
          ],
          "name": "stdout"
        },
        {
          "output_type": "stream",
          "text": [
            " 84%|████████▍ | 2510/2977 [02:09<00:24, 19.31it/s]"
          ],
          "name": "stderr"
        },
        {
          "output_type": "stream",
          "text": [
            "7\n",
            "7\n",
            "7\n",
            "7\n"
          ],
          "name": "stdout"
        },
        {
          "output_type": "stream",
          "text": [
            " 84%|████████▍ | 2514/2977 [02:10<00:23, 19.31it/s]"
          ],
          "name": "stderr"
        },
        {
          "output_type": "stream",
          "text": [
            "7\n",
            "7\n",
            "7\n",
            "7\n"
          ],
          "name": "stdout"
        },
        {
          "output_type": "stream",
          "text": [
            " 85%|████████▍ | 2518/2977 [02:10<00:23, 19.31it/s]"
          ],
          "name": "stderr"
        },
        {
          "output_type": "stream",
          "text": [
            "7\n",
            "7\n",
            "7\n",
            "7\n"
          ],
          "name": "stdout"
        },
        {
          "output_type": "stream",
          "text": [
            " 85%|████████▍ | 2522/2977 [02:10<00:23, 19.30it/s]"
          ],
          "name": "stderr"
        },
        {
          "output_type": "stream",
          "text": [
            "7\n",
            "7\n",
            "7\n",
            "7\n"
          ],
          "name": "stdout"
        },
        {
          "output_type": "stream",
          "text": [
            " 85%|████████▍ | 2526/2977 [02:10<00:23, 19.30it/s]"
          ],
          "name": "stderr"
        },
        {
          "output_type": "stream",
          "text": [
            "7\n",
            "7\n",
            "7\n",
            "7\n"
          ],
          "name": "stdout"
        },
        {
          "output_type": "stream",
          "text": [
            " 85%|████████▍ | 2530/2977 [02:11<00:23, 19.30it/s]"
          ],
          "name": "stderr"
        },
        {
          "output_type": "stream",
          "text": [
            "7\n",
            "7\n",
            "7\n",
            "7\n"
          ],
          "name": "stdout"
        },
        {
          "output_type": "stream",
          "text": [
            " 85%|████████▌ | 2534/2977 [02:11<00:22, 19.30it/s]"
          ],
          "name": "stderr"
        },
        {
          "output_type": "stream",
          "text": [
            "7\n",
            "7\n",
            "7\n",
            "7\n"
          ],
          "name": "stdout"
        },
        {
          "output_type": "stream",
          "text": [
            " 85%|████████▌ | 2538/2977 [02:11<00:22, 19.30it/s]"
          ],
          "name": "stderr"
        },
        {
          "output_type": "stream",
          "text": [
            "7\n",
            "7\n",
            "7\n",
            "7\n"
          ],
          "name": "stdout"
        },
        {
          "output_type": "stream",
          "text": [
            " 85%|████████▌ | 2542/2977 [02:11<00:22, 19.30it/s]"
          ],
          "name": "stderr"
        },
        {
          "output_type": "stream",
          "text": [
            "7\n",
            "7\n",
            "7\n",
            "7\n"
          ],
          "name": "stdout"
        },
        {
          "output_type": "stream",
          "text": [
            " 86%|████████▌ | 2547/2977 [02:11<00:22, 19.30it/s]"
          ],
          "name": "stderr"
        },
        {
          "output_type": "stream",
          "text": [
            "7\n",
            "7\n",
            "7\n",
            "7\n"
          ],
          "name": "stdout"
        },
        {
          "output_type": "stream",
          "text": [
            "\r 86%|████████▌ | 2549/2977 [02:12<00:22, 19.29it/s]"
          ],
          "name": "stderr"
        },
        {
          "output_type": "stream",
          "text": [
            "7\n",
            "7\n",
            "7\n",
            "7\n"
          ],
          "name": "stdout"
        },
        {
          "output_type": "stream",
          "text": [
            " 86%|████████▌ | 2553/2977 [02:12<00:21, 19.29it/s]"
          ],
          "name": "stderr"
        },
        {
          "output_type": "stream",
          "text": [
            "7\n",
            "7\n",
            "7\n",
            "7\n"
          ],
          "name": "stdout"
        },
        {
          "output_type": "stream",
          "text": [
            " 86%|████████▌ | 2557/2977 [02:12<00:21, 19.29it/s]"
          ],
          "name": "stderr"
        },
        {
          "output_type": "stream",
          "text": [
            "7\n",
            "7\n",
            "7\n",
            "7\n"
          ],
          "name": "stdout"
        },
        {
          "output_type": "stream",
          "text": [
            " 86%|████████▌ | 2561/2977 [02:12<00:21, 19.28it/s]"
          ],
          "name": "stderr"
        },
        {
          "output_type": "stream",
          "text": [
            "7\n",
            "7\n",
            "7\n",
            "7\n"
          ],
          "name": "stdout"
        },
        {
          "output_type": "stream",
          "text": [
            " 86%|████████▌ | 2565/2977 [02:13<00:21, 19.28it/s]"
          ],
          "name": "stderr"
        },
        {
          "output_type": "stream",
          "text": [
            "7\n",
            "7\n",
            "7\n",
            "7\n"
          ],
          "name": "stdout"
        },
        {
          "output_type": "stream",
          "text": [
            " 86%|████████▋ | 2569/2977 [02:13<00:21, 19.28it/s]"
          ],
          "name": "stderr"
        },
        {
          "output_type": "stream",
          "text": [
            "7\n",
            "7\n",
            "7\n",
            "7\n"
          ],
          "name": "stdout"
        },
        {
          "output_type": "stream",
          "text": [
            " 86%|████████▋ | 2574/2977 [02:13<00:20, 19.28it/s]"
          ],
          "name": "stderr"
        },
        {
          "output_type": "stream",
          "text": [
            "7\n",
            "7\n",
            "7\n",
            "7\n"
          ],
          "name": "stdout"
        },
        {
          "output_type": "stream",
          "text": [
            " 87%|████████▋ | 2578/2977 [02:13<00:20, 19.28it/s]"
          ],
          "name": "stderr"
        },
        {
          "output_type": "stream",
          "text": [
            "7\n",
            "7\n",
            "7\n",
            "7\n"
          ],
          "name": "stdout"
        },
        {
          "output_type": "stream",
          "text": [
            " 87%|████████▋ | 2582/2977 [02:13<00:20, 19.28it/s]"
          ],
          "name": "stderr"
        },
        {
          "output_type": "stream",
          "text": [
            "7\n",
            "7\n",
            "7\n",
            "7\n"
          ],
          "name": "stdout"
        },
        {
          "output_type": "stream",
          "text": [
            " 87%|████████▋ | 2586/2977 [02:14<00:20, 19.28it/s]"
          ],
          "name": "stderr"
        },
        {
          "output_type": "stream",
          "text": [
            "7\n",
            "7\n",
            "7\n",
            "7\n"
          ],
          "name": "stdout"
        },
        {
          "output_type": "stream",
          "text": [
            " 87%|████████▋ | 2590/2977 [02:14<00:20, 19.28it/s]"
          ],
          "name": "stderr"
        },
        {
          "output_type": "stream",
          "text": [
            "7\n",
            "7\n",
            "7\n",
            "7\n"
          ],
          "name": "stdout"
        },
        {
          "output_type": "stream",
          "text": [
            "\r 87%|████████▋ | 2592/2977 [02:14<00:19, 19.28it/s]"
          ],
          "name": "stderr"
        },
        {
          "output_type": "stream",
          "text": [
            "7\n",
            "7\n",
            "7\n",
            "7\n"
          ],
          "name": "stdout"
        },
        {
          "output_type": "stream",
          "text": [
            " 87%|████████▋ | 2597/2977 [02:14<00:19, 19.28it/s]"
          ],
          "name": "stderr"
        },
        {
          "output_type": "stream",
          "text": [
            "7\n",
            "7\n",
            "7\n",
            "7\n"
          ],
          "name": "stdout"
        },
        {
          "output_type": "stream",
          "text": [
            " 87%|████████▋ | 2601/2977 [02:14<00:19, 19.27it/s]"
          ],
          "name": "stderr"
        },
        {
          "output_type": "stream",
          "text": [
            "7\n",
            "7\n",
            "7\n",
            "7\n"
          ],
          "name": "stdout"
        },
        {
          "output_type": "stream",
          "text": [
            " 88%|████████▊ | 2606/2977 [02:15<00:19, 19.28it/s]"
          ],
          "name": "stderr"
        },
        {
          "output_type": "stream",
          "text": [
            "7\n",
            "7\n",
            "7\n",
            "7\n",
            "7\n"
          ],
          "name": "stdout"
        },
        {
          "output_type": "stream",
          "text": [
            " 88%|████████▊ | 2610/2977 [02:15<00:19, 19.28it/s]"
          ],
          "name": "stderr"
        },
        {
          "output_type": "stream",
          "text": [
            "7\n",
            "7\n",
            "7\n",
            "7\n"
          ],
          "name": "stdout"
        },
        {
          "output_type": "stream",
          "text": [
            " 88%|████████▊ | 2614/2977 [02:15<00:18, 19.28it/s]"
          ],
          "name": "stderr"
        },
        {
          "output_type": "stream",
          "text": [
            "7\n",
            "7\n",
            "7\n",
            "7\n"
          ],
          "name": "stdout"
        },
        {
          "output_type": "stream",
          "text": [
            " 88%|████████▊ | 2618/2977 [02:15<00:18, 19.28it/s]"
          ],
          "name": "stderr"
        },
        {
          "output_type": "stream",
          "text": [
            "7\n",
            "7\n",
            "7\n",
            "7\n"
          ],
          "name": "stdout"
        },
        {
          "output_type": "stream",
          "text": [
            " 88%|████████▊ | 2622/2977 [02:16<00:18, 19.27it/s]"
          ],
          "name": "stderr"
        },
        {
          "output_type": "stream",
          "text": [
            "7\n",
            "7\n",
            "7\n",
            "7\n"
          ],
          "name": "stdout"
        },
        {
          "output_type": "stream",
          "text": [
            " 88%|████████▊ | 2626/2977 [02:16<00:18, 19.27it/s]"
          ],
          "name": "stderr"
        },
        {
          "output_type": "stream",
          "text": [
            "7\n",
            "7\n",
            "7\n",
            "7\n"
          ],
          "name": "stdout"
        },
        {
          "output_type": "stream",
          "text": [
            " 88%|████████▊ | 2631/2977 [02:16<00:17, 19.27it/s]"
          ],
          "name": "stderr"
        },
        {
          "output_type": "stream",
          "text": [
            "7\n",
            "7\n",
            "7\n",
            "7\n",
            "7\n"
          ],
          "name": "stdout"
        },
        {
          "output_type": "stream",
          "text": [
            " 89%|████████▊ | 2636/2977 [02:16<00:17, 19.27it/s]"
          ],
          "name": "stderr"
        },
        {
          "output_type": "stream",
          "text": [
            "7\n",
            "7\n",
            "7\n",
            "7\n",
            "7\n"
          ],
          "name": "stdout"
        },
        {
          "output_type": "stream",
          "text": [
            " 89%|████████▊ | 2641/2977 [02:17<00:17, 19.28it/s]"
          ],
          "name": "stderr"
        },
        {
          "output_type": "stream",
          "text": [
            "7\n",
            "7\n",
            "7\n",
            "7\n",
            "7\n"
          ],
          "name": "stdout"
        },
        {
          "output_type": "stream",
          "text": [
            " 89%|████████▉ | 2645/2977 [02:17<00:17, 19.27it/s]"
          ],
          "name": "stderr"
        },
        {
          "output_type": "stream",
          "text": [
            "7\n",
            "7\n",
            "7\n",
            "7\n"
          ],
          "name": "stdout"
        },
        {
          "output_type": "stream",
          "text": [
            " 89%|████████▉ | 2649/2977 [02:17<00:17, 19.27it/s]"
          ],
          "name": "stderr"
        },
        {
          "output_type": "stream",
          "text": [
            "7\n",
            "7\n",
            "7\n",
            "7\n",
            "7\n"
          ],
          "name": "stdout"
        },
        {
          "output_type": "stream",
          "text": [
            " 89%|████████▉ | 2655/2977 [02:17<00:16, 19.28it/s]"
          ],
          "name": "stderr"
        },
        {
          "output_type": "stream",
          "text": [
            "7\n",
            "7\n",
            "7\n",
            "7\n",
            "7\n"
          ],
          "name": "stdout"
        },
        {
          "output_type": "stream",
          "text": [
            " 89%|████████▉ | 2659/2977 [02:17<00:16, 19.28it/s]"
          ],
          "name": "stderr"
        },
        {
          "output_type": "stream",
          "text": [
            "7\n",
            "7\n",
            "7\n",
            "7\n"
          ],
          "name": "stdout"
        },
        {
          "output_type": "stream",
          "text": [
            " 89%|████████▉ | 2663/2977 [02:18<00:16, 19.28it/s]"
          ],
          "name": "stderr"
        },
        {
          "output_type": "stream",
          "text": [
            "7\n",
            "7\n",
            "7\n",
            "7\n",
            "7\n"
          ],
          "name": "stdout"
        },
        {
          "output_type": "stream",
          "text": [
            " 90%|████████▉ | 2668/2977 [02:18<00:16, 19.28it/s]"
          ],
          "name": "stderr"
        },
        {
          "output_type": "stream",
          "text": [
            "7\n",
            "7\n",
            "7\n",
            "7\n"
          ],
          "name": "stdout"
        },
        {
          "output_type": "stream",
          "text": [
            " 90%|████████▉ | 2673/2977 [02:18<00:15, 19.28it/s]"
          ],
          "name": "stderr"
        },
        {
          "output_type": "stream",
          "text": [
            "7\n",
            "7\n",
            "7\n",
            "7\n"
          ],
          "name": "stdout"
        },
        {
          "output_type": "stream",
          "text": [
            " 90%|████████▉ | 2677/2977 [02:18<00:15, 19.27it/s]"
          ],
          "name": "stderr"
        },
        {
          "output_type": "stream",
          "text": [
            "7\n",
            "7\n",
            "7\n",
            "7\n"
          ],
          "name": "stdout"
        },
        {
          "output_type": "stream",
          "text": [
            " 90%|█████████ | 2681/2977 [02:19<00:15, 19.27it/s]"
          ],
          "name": "stderr"
        },
        {
          "output_type": "stream",
          "text": [
            "7\n",
            "7\n",
            "7\n",
            "7\n"
          ],
          "name": "stdout"
        },
        {
          "output_type": "stream",
          "text": [
            " 90%|█████████ | 2685/2977 [02:19<00:15, 19.27it/s]"
          ],
          "name": "stderr"
        },
        {
          "output_type": "stream",
          "text": [
            "7\n",
            "7\n",
            "7\n",
            "7\n"
          ],
          "name": "stdout"
        },
        {
          "output_type": "stream",
          "text": [
            " 90%|█████████ | 2690/2977 [02:19<00:14, 19.27it/s]"
          ],
          "name": "stderr"
        },
        {
          "output_type": "stream",
          "text": [
            "7\n",
            "7\n",
            "7\n",
            "7\n",
            "7\n"
          ],
          "name": "stdout"
        },
        {
          "output_type": "stream",
          "text": [
            " 90%|█████████ | 2694/2977 [02:19<00:14, 19.27it/s]"
          ],
          "name": "stderr"
        },
        {
          "output_type": "stream",
          "text": [
            "7\n",
            "7\n",
            "7\n",
            "7\n"
          ],
          "name": "stdout"
        },
        {
          "output_type": "stream",
          "text": [
            " 91%|█████████ | 2698/2977 [02:20<00:14, 19.26it/s]"
          ],
          "name": "stderr"
        },
        {
          "output_type": "stream",
          "text": [
            "7\n",
            "7\n",
            "7\n",
            "7\n"
          ],
          "name": "stdout"
        },
        {
          "output_type": "stream",
          "text": [
            " 91%|█████████ | 2702/2977 [02:20<00:14, 19.26it/s]"
          ],
          "name": "stderr"
        },
        {
          "output_type": "stream",
          "text": [
            "7\n",
            "7\n",
            "7\n",
            "7\n"
          ],
          "name": "stdout"
        },
        {
          "output_type": "stream",
          "text": [
            " 91%|█████████ | 2706/2977 [02:20<00:14, 19.26it/s]"
          ],
          "name": "stderr"
        },
        {
          "output_type": "stream",
          "text": [
            "7\n",
            "7\n",
            "7\n",
            "7\n"
          ],
          "name": "stdout"
        },
        {
          "output_type": "stream",
          "text": [
            " 91%|█████████ | 2710/2977 [02:20<00:13, 19.26it/s]"
          ],
          "name": "stderr"
        },
        {
          "output_type": "stream",
          "text": [
            "7\n",
            "7\n",
            "7\n",
            "7\n"
          ],
          "name": "stdout"
        },
        {
          "output_type": "stream",
          "text": [
            " 91%|█████████ | 2714/2977 [02:20<00:13, 19.25it/s]"
          ],
          "name": "stderr"
        },
        {
          "output_type": "stream",
          "text": [
            "7\n",
            "7\n",
            "7\n",
            "7\n"
          ],
          "name": "stdout"
        },
        {
          "output_type": "stream",
          "text": [
            " 91%|█████████▏| 2718/2977 [02:21<00:13, 19.25it/s]"
          ],
          "name": "stderr"
        },
        {
          "output_type": "stream",
          "text": [
            "7\n",
            "7\n",
            "7\n",
            "7\n"
          ],
          "name": "stdout"
        },
        {
          "output_type": "stream",
          "text": [
            " 91%|█████████▏| 2722/2977 [02:21<00:13, 19.25it/s]"
          ],
          "name": "stderr"
        },
        {
          "output_type": "stream",
          "text": [
            "7\n",
            "7\n",
            "7\n",
            "7\n",
            "7\n"
          ],
          "name": "stdout"
        },
        {
          "output_type": "stream",
          "text": [
            " 92%|█████████▏| 2727/2977 [02:21<00:12, 19.26it/s]"
          ],
          "name": "stderr"
        },
        {
          "output_type": "stream",
          "text": [
            "7\n",
            "7\n",
            "7\n"
          ],
          "name": "stdout"
        },
        {
          "output_type": "stream",
          "text": [
            " 92%|█████████▏| 2731/2977 [02:21<00:12, 19.26it/s]"
          ],
          "name": "stderr"
        },
        {
          "output_type": "stream",
          "text": [
            "7\n",
            "7\n",
            "7\n",
            "7\n"
          ],
          "name": "stdout"
        },
        {
          "output_type": "stream",
          "text": [
            " 92%|█████████▏| 2735/2977 [02:22<00:12, 19.26it/s]"
          ],
          "name": "stderr"
        },
        {
          "output_type": "stream",
          "text": [
            "7\n",
            "7\n",
            "7\n",
            "7\n"
          ],
          "name": "stdout"
        },
        {
          "output_type": "stream",
          "text": [
            " 92%|█████████▏| 2739/2977 [02:22<00:12, 19.25it/s]"
          ],
          "name": "stderr"
        },
        {
          "output_type": "stream",
          "text": [
            "7\n",
            "7\n",
            "7\n",
            "7\n"
          ],
          "name": "stdout"
        },
        {
          "output_type": "stream",
          "text": [
            "\r 92%|█████████▏| 2742/2977 [02:22<00:12, 19.26it/s]"
          ],
          "name": "stderr"
        },
        {
          "output_type": "stream",
          "text": [
            "7\n",
            "7\n",
            "7\n",
            "7\n",
            "7\n"
          ],
          "name": "stdout"
        },
        {
          "output_type": "stream",
          "text": [
            " 92%|█████████▏| 2747/2977 [02:22<00:11, 19.26it/s]"
          ],
          "name": "stderr"
        },
        {
          "output_type": "stream",
          "text": [
            "7\n",
            "7\n",
            "7\n",
            "7\n",
            "7\n"
          ],
          "name": "stdout"
        },
        {
          "output_type": "stream",
          "text": [
            " 92%|█████████▏| 2753/2977 [02:22<00:11, 19.26it/s]"
          ],
          "name": "stderr"
        },
        {
          "output_type": "stream",
          "text": [
            "7\n",
            "7\n",
            "7\n",
            "7\n",
            "7\n"
          ],
          "name": "stdout"
        },
        {
          "output_type": "stream",
          "text": [
            "\r 93%|█████████▎| 2756/2977 [02:23<00:11, 19.26it/s]"
          ],
          "name": "stderr"
        },
        {
          "output_type": "stream",
          "text": [
            "7\n",
            "7\n",
            "7\n",
            "7\n"
          ],
          "name": "stdout"
        },
        {
          "output_type": "stream",
          "text": [
            " 93%|█████████▎| 2761/2977 [02:23<00:11, 19.26it/s]"
          ],
          "name": "stderr"
        },
        {
          "output_type": "stream",
          "text": [
            "7\n",
            "7\n",
            "7\n",
            "7\n",
            "7\n"
          ],
          "name": "stdout"
        },
        {
          "output_type": "stream",
          "text": [
            " 93%|█████████▎| 2766/2977 [02:23<00:10, 19.26it/s]"
          ],
          "name": "stderr"
        },
        {
          "output_type": "stream",
          "text": [
            "7\n",
            "7\n",
            "7\n",
            "7\n",
            "7\n"
          ],
          "name": "stdout"
        },
        {
          "output_type": "stream",
          "text": [
            " 93%|█████████▎| 2772/2977 [02:23<00:10, 19.27it/s]"
          ],
          "name": "stderr"
        },
        {
          "output_type": "stream",
          "text": [
            "7\n",
            "7\n",
            "7\n",
            "7\n",
            "7\n"
          ],
          "name": "stdout"
        },
        {
          "output_type": "stream",
          "text": [
            "\r 93%|█████████▎| 2775/2977 [02:24<00:10, 19.27it/s]"
          ],
          "name": "stderr"
        },
        {
          "output_type": "stream",
          "text": [
            "7\n",
            "7\n",
            "7\n",
            "7\n"
          ],
          "name": "stdout"
        },
        {
          "output_type": "stream",
          "text": [
            " 93%|█████████▎| 2780/2977 [02:24<00:10, 19.26it/s]"
          ],
          "name": "stderr"
        },
        {
          "output_type": "stream",
          "text": [
            "7\n",
            "7\n",
            "7\n",
            "7\n"
          ],
          "name": "stdout"
        },
        {
          "output_type": "stream",
          "text": [
            " 94%|█████████▎| 2784/2977 [02:24<00:10, 19.26it/s]"
          ],
          "name": "stderr"
        },
        {
          "output_type": "stream",
          "text": [
            "7\n",
            "7\n",
            "7\n",
            "7\n"
          ],
          "name": "stdout"
        },
        {
          "output_type": "stream",
          "text": [
            "\r 94%|█████████▎| 2787/2977 [02:24<00:09, 19.26it/s]"
          ],
          "name": "stderr"
        },
        {
          "output_type": "stream",
          "text": [
            "7\n",
            "7\n",
            "7\n",
            "7\n",
            "7\n"
          ],
          "name": "stdout"
        },
        {
          "output_type": "stream",
          "text": [
            " 94%|█████████▍| 2792/2977 [02:24<00:09, 19.27it/s]"
          ],
          "name": "stderr"
        },
        {
          "output_type": "stream",
          "text": [
            "7\n",
            "7\n",
            "7\n",
            "7\n"
          ],
          "name": "stdout"
        },
        {
          "output_type": "stream",
          "text": [
            " 94%|█████████▍| 2797/2977 [02:25<00:09, 19.27it/s]"
          ],
          "name": "stderr"
        },
        {
          "output_type": "stream",
          "text": [
            "7\n",
            "7\n",
            "7\n",
            "7\n",
            "7\n"
          ],
          "name": "stdout"
        },
        {
          "output_type": "stream",
          "text": [
            " 94%|█████████▍| 2803/2977 [02:25<00:09, 19.27it/s]"
          ],
          "name": "stderr"
        },
        {
          "output_type": "stream",
          "text": [
            "7\n",
            "7\n",
            "7\n",
            "7\n",
            "7\n"
          ],
          "name": "stdout"
        },
        {
          "output_type": "stream",
          "text": [
            "\r 94%|█████████▍| 2806/2977 [02:25<00:08, 19.27it/s]"
          ],
          "name": "stderr"
        },
        {
          "output_type": "stream",
          "text": [
            "7\n",
            "7\n",
            "7\n",
            "7\n",
            "7\n"
          ],
          "name": "stdout"
        },
        {
          "output_type": "stream",
          "text": [
            " 94%|█████████▍| 2812/2977 [02:25<00:08, 19.28it/s]"
          ],
          "name": "stderr"
        },
        {
          "output_type": "stream",
          "text": [
            "7\n",
            "7\n",
            "7\n",
            "7\n",
            "7\n"
          ],
          "name": "stdout"
        },
        {
          "output_type": "stream",
          "text": [
            " 95%|█████████▍| 2818/2977 [02:26<00:08, 19.28it/s]"
          ],
          "name": "stderr"
        },
        {
          "output_type": "stream",
          "text": [
            "7\n",
            "7\n",
            "7\n",
            "7\n",
            "7\n"
          ],
          "name": "stdout"
        },
        {
          "output_type": "stream",
          "text": [
            "\r 95%|█████████▍| 2821/2977 [02:26<00:08, 19.28it/s]"
          ],
          "name": "stderr"
        },
        {
          "output_type": "stream",
          "text": [
            "7\n",
            "7\n",
            "7\n",
            "7\n",
            "7\n"
          ],
          "name": "stdout"
        },
        {
          "output_type": "stream",
          "text": [
            " 95%|█████████▍| 2827/2977 [02:26<00:07, 19.28it/s]"
          ],
          "name": "stderr"
        },
        {
          "output_type": "stream",
          "text": [
            "7\n",
            "7\n",
            "7\n",
            "7\n",
            "7"
          ],
          "name": "stdout"
        },
        {
          "output_type": "stream",
          "text": [
            " 95%|█████████▌| 2833/2977 [02:26<00:07, 19.28it/s]"
          ],
          "name": "stderr"
        },
        {
          "output_type": "stream",
          "text": [
            "\n",
            "7\n",
            "7\n",
            "7\n",
            "7\n",
            "7\n"
          ],
          "name": "stdout"
        },
        {
          "output_type": "stream",
          "text": [
            "\r 95%|█████████▌| 2836/2977 [02:27<00:07, 19.28it/s]"
          ],
          "name": "stderr"
        },
        {
          "output_type": "stream",
          "text": [
            "7\n",
            "7\n",
            "7\n",
            "7\n",
            "7"
          ],
          "name": "stdout"
        },
        {
          "output_type": "stream",
          "text": [
            " 95%|█████████▌| 2842/2977 [02:27<00:07, 19.29it/s]"
          ],
          "name": "stderr"
        },
        {
          "output_type": "stream",
          "text": [
            "\n",
            "7\n",
            "7\n",
            "7\n",
            "7\n",
            "7\n"
          ],
          "name": "stdout"
        },
        {
          "output_type": "stream",
          "text": [
            " 96%|█████████▌| 2848/2977 [02:27<00:06, 19.29it/s]"
          ],
          "name": "stderr"
        },
        {
          "output_type": "stream",
          "text": [
            "7\n",
            "7\n",
            "7\n",
            "7\n",
            "7\n"
          ],
          "name": "stdout"
        },
        {
          "output_type": "stream",
          "text": [
            "\r 96%|█████████▌| 2851/2977 [02:27<00:06, 19.29it/s]"
          ],
          "name": "stderr"
        },
        {
          "output_type": "stream",
          "text": [
            "7\n",
            "7\n",
            "7\n",
            "7\n",
            "7\n"
          ],
          "name": "stdout"
        },
        {
          "output_type": "stream",
          "text": [
            " 96%|█████████▌| 2857/2977 [02:28<00:06, 19.29it/s]"
          ],
          "name": "stderr"
        },
        {
          "output_type": "stream",
          "text": [
            "7\n",
            "7\n",
            "7\n",
            "7\n",
            "7\n"
          ],
          "name": "stdout"
        },
        {
          "output_type": "stream",
          "text": [
            " 96%|█████████▌| 2863/2977 [02:28<00:05, 19.29it/s]"
          ],
          "name": "stderr"
        },
        {
          "output_type": "stream",
          "text": [
            "7\n",
            "7\n",
            "7\n",
            "7\n",
            "7\n"
          ],
          "name": "stdout"
        },
        {
          "output_type": "stream",
          "text": [
            "\r 96%|█████████▋| 2866/2977 [02:28<00:05, 19.30it/s]"
          ],
          "name": "stderr"
        },
        {
          "output_type": "stream",
          "text": [
            "7\n",
            "7\n",
            "7\n",
            "7\n",
            "7\n"
          ],
          "name": "stdout"
        },
        {
          "output_type": "stream",
          "text": [
            " 96%|█████████▋| 2872/2977 [02:28<00:05, 19.30it/s]"
          ],
          "name": "stderr"
        },
        {
          "output_type": "stream",
          "text": [
            "7\n",
            "7\n",
            "7\n",
            "7\n",
            "7\n"
          ],
          "name": "stdout"
        },
        {
          "output_type": "stream",
          "text": [
            " 97%|█████████▋| 2878/2977 [02:29<00:05, 19.30it/s]"
          ],
          "name": "stderr"
        },
        {
          "output_type": "stream",
          "text": [
            "7\n",
            "7\n",
            "7\n",
            "7\n",
            "7\n"
          ],
          "name": "stdout"
        },
        {
          "output_type": "stream",
          "text": [
            "\r 97%|█████████▋| 2881/2977 [02:29<00:04, 19.30it/s]"
          ],
          "name": "stderr"
        },
        {
          "output_type": "stream",
          "text": [
            "7\n",
            "7\n",
            "7\n",
            "7\n"
          ],
          "name": "stdout"
        },
        {
          "output_type": "stream",
          "text": [
            " 97%|█████████▋| 2886/2977 [02:29<00:04, 19.30it/s]"
          ],
          "name": "stderr"
        },
        {
          "output_type": "stream",
          "text": [
            "7\n",
            "7\n",
            "7\n",
            "7\n"
          ],
          "name": "stdout"
        },
        {
          "output_type": "stream",
          "text": [
            " 97%|█████████▋| 2890/2977 [02:29<00:04, 19.30it/s]"
          ],
          "name": "stderr"
        },
        {
          "output_type": "stream",
          "text": [
            "7\n",
            "7\n",
            "7\n",
            "7\n"
          ],
          "name": "stdout"
        },
        {
          "output_type": "stream",
          "text": [
            " 97%|█████████▋| 2894/2977 [02:29<00:04, 19.29it/s]"
          ],
          "name": "stderr"
        },
        {
          "output_type": "stream",
          "text": [
            "7\n",
            "7\n",
            "7\n",
            "7\n"
          ],
          "name": "stdout"
        },
        {
          "output_type": "stream",
          "text": [
            " 97%|█████████▋| 2898/2977 [02:30<00:04, 19.29it/s]"
          ],
          "name": "stderr"
        },
        {
          "output_type": "stream",
          "text": [
            "7\n",
            "7\n",
            "7\n",
            "7\n"
          ],
          "name": "stdout"
        },
        {
          "output_type": "stream",
          "text": [
            "\r 97%|█████████▋| 2900/2977 [02:30<00:03, 19.29it/s]"
          ],
          "name": "stderr"
        },
        {
          "output_type": "stream",
          "text": [
            "7\n",
            "7\n",
            "7\n",
            "7\n"
          ],
          "name": "stdout"
        },
        {
          "output_type": "stream",
          "text": [
            " 98%|█████████▊| 2905/2977 [02:30<00:03, 19.29it/s]"
          ],
          "name": "stderr"
        },
        {
          "output_type": "stream",
          "text": [
            "7\n",
            "7\n",
            "7\n",
            "7\n",
            "7\n"
          ],
          "name": "stdout"
        },
        {
          "output_type": "stream",
          "text": [
            " 98%|█████████▊| 2911/2977 [02:30<00:03, 19.30it/s]"
          ],
          "name": "stderr"
        },
        {
          "output_type": "stream",
          "text": [
            "7\n",
            "7\n",
            "7\n",
            "7\n",
            "7\n"
          ],
          "name": "stdout"
        },
        {
          "output_type": "stream",
          "text": [
            " 98%|█████████▊| 2916/2977 [02:31<00:03, 19.30it/s]"
          ],
          "name": "stderr"
        },
        {
          "output_type": "stream",
          "text": [
            "7\n",
            "7\n",
            "7\n",
            "7\n",
            "7\n"
          ],
          "name": "stdout"
        },
        {
          "output_type": "stream",
          "text": [
            " 98%|█████████▊| 2922/2977 [02:31<00:02, 19.30it/s]"
          ],
          "name": "stderr"
        },
        {
          "output_type": "stream",
          "text": [
            "7\n",
            "7\n",
            "7\n",
            "7\n",
            "7\n"
          ],
          "name": "stdout"
        },
        {
          "output_type": "stream",
          "text": [
            "\r 98%|█████████▊| 2925/2977 [02:31<00:02, 19.30it/s]"
          ],
          "name": "stderr"
        },
        {
          "output_type": "stream",
          "text": [
            "7\n",
            "7\n",
            "7\n",
            "7\n",
            "7\n"
          ],
          "name": "stdout"
        },
        {
          "output_type": "stream",
          "text": [
            " 98%|█████████▊| 2931/2977 [02:31<00:02, 19.30it/s]"
          ],
          "name": "stderr"
        },
        {
          "output_type": "stream",
          "text": [
            "7\n",
            "7\n",
            "7\n",
            "7\n"
          ],
          "name": "stdout"
        },
        {
          "output_type": "stream",
          "text": [
            "\r 99%|█████████▊| 2934/2977 [02:32<00:02, 19.30it/s]"
          ],
          "name": "stderr"
        },
        {
          "output_type": "stream",
          "text": [
            "7\n",
            "7\n",
            "7\n",
            "7\n",
            "7\n"
          ],
          "name": "stdout"
        },
        {
          "output_type": "stream",
          "text": [
            " 99%|█████████▉| 2940/2977 [02:32<00:01, 19.30it/s]"
          ],
          "name": "stderr"
        },
        {
          "output_type": "stream",
          "text": [
            "7\n",
            "7\n",
            "7\n",
            "7\n",
            "7\n"
          ],
          "name": "stdout"
        },
        {
          "output_type": "stream",
          "text": [
            " 99%|█████████▉| 2946/2977 [02:32<00:01, 19.31it/s]"
          ],
          "name": "stderr"
        },
        {
          "output_type": "stream",
          "text": [
            "7\n",
            "7\n",
            "7\n",
            "7\n",
            "7\n"
          ],
          "name": "stdout"
        },
        {
          "output_type": "stream",
          "text": [
            "\r 99%|█████████▉| 2949/2977 [02:32<00:01, 19.31it/s]"
          ],
          "name": "stderr"
        },
        {
          "output_type": "stream",
          "text": [
            "7\n",
            "7\n",
            "7\n",
            "7\n",
            "7\n"
          ],
          "name": "stdout"
        },
        {
          "output_type": "stream",
          "text": [
            " 99%|█████████▉| 2955/2977 [02:33<00:01, 19.31it/s]"
          ],
          "name": "stderr"
        },
        {
          "output_type": "stream",
          "text": [
            "7\n",
            "7\n",
            "7\n",
            "7\n",
            "7\n"
          ],
          "name": "stdout"
        },
        {
          "output_type": "stream",
          "text": [
            " 99%|█████████▉| 2961/2977 [02:33<00:00, 19.31it/s]"
          ],
          "name": "stderr"
        },
        {
          "output_type": "stream",
          "text": [
            "7\n",
            "7\n",
            "7\n",
            "7\n",
            "7\n"
          ],
          "name": "stdout"
        },
        {
          "output_type": "stream",
          "text": [
            "\r100%|█████████▉| 2964/2977 [02:33<00:00, 19.31it/s]"
          ],
          "name": "stderr"
        },
        {
          "output_type": "stream",
          "text": [
            "7\n",
            "7\n",
            "7\n",
            "7\n",
            "7\n"
          ],
          "name": "stdout"
        },
        {
          "output_type": "stream",
          "text": [
            "100%|█████████▉| 2970/2977 [02:33<00:00, 19.31it/s]"
          ],
          "name": "stderr"
        },
        {
          "output_type": "stream",
          "text": [
            "7\n",
            "7\n",
            "7\n",
            "7\n",
            "7\n"
          ],
          "name": "stdout"
        },
        {
          "output_type": "stream",
          "text": [
            "\r100%|█████████▉| 2973/2977 [02:33<00:00, 19.32it/s]WARNING:py.warnings:/usr/local/lib/python3.6/dist-packages/moviepy/video/io/ffmpeg_reader.py:130: UserWarning: Warning: in file sewer_footage1, 518400 bytes wanted but 0 bytes read,at frame 2975/2977, at time 99.27/99.33 sec. Using the last valid frame instead.\n",
            "  UserWarning)\n",
            "\n",
            "100%|█████████▉| 2976/2977 [02:34<00:00, 19.32it/s]WARNING:py.warnings:/usr/local/lib/python3.6/dist-packages/moviepy/video/io/ffmpeg_reader.py:130: UserWarning: Warning: in file sewer_footage1, 518400 bytes wanted but 0 bytes read,at frame 2976/2977, at time 99.30/99.33 sec. Using the last valid frame instead.\n",
            "  UserWarning)\n",
            "\n"
          ],
          "name": "stderr"
        },
        {
          "output_type": "stream",
          "text": [
            "7\n",
            "7\n",
            "7\n",
            "7\n",
            "7\n"
          ],
          "name": "stdout"
        },
        {
          "output_type": "stream",
          "text": [
            "\r100%|██████████| 2977/2977 [02:34<00:00, 19.32it/s]\n"
          ],
          "name": "stderr"
        },
        {
          "output_type": "stream",
          "text": [
            "[MoviePy] Done.\n",
            "[MoviePy] >>>> Video ready: sewer_footage1_output.mp4 \n",
            "\n"
          ],
          "name": "stdout"
        }
      ]
    },
    {
      "metadata": {
        "id": "eTKGqnLR_6Z9",
        "colab_type": "code",
        "colab": {
          "base_uri": "https://localhost:8080/",
          "height": 69
        },
        "outputId": "9442b94e-4c73-466d-a06f-de9f15126aa8"
      },
      "cell_type": "code",
      "source": [
        "!ls"
      ],
      "execution_count": 0,
      "outputs": [
        {
          "output_type": "stream",
          "text": [
            "Crack_Detection\t\t   sewer_footage1_output(2).mp4  Tree_Root_Detection\r\n",
            "first working model.ipynb  sewer_footage1_output.mp4\r\n",
            "sewer_footage1\t\t   test_image1.png\r\n"
          ],
          "name": "stdout"
        }
      ]
    },
    {
      "metadata": {
        "id": "PHHl13oRCcx5",
        "colab_type": "code",
        "colab": {}
      },
      "cell_type": "code",
      "source": [
        "from google.colab import files\n",
        "\n",
        "\n",
        "files.download('sewer_footage1_output.mp4')\n"
      ],
      "execution_count": 0,
      "outputs": []
    },
    {
      "metadata": {
        "id": "20-OpaarGcP4",
        "colab_type": "code",
        "colab": {}
      },
      "cell_type": "code",
      "source": [
        "os.chdir('..')"
      ],
      "execution_count": 0,
      "outputs": []
    },
    {
      "metadata": {
        "id": "9jRIn9kjC0t6",
        "colab_type": "code",
        "colab": {}
      },
      "cell_type": "code",
      "source": [
        "\n",
        "from IPython.display import HTML\n",
        "HTML(\"\"\"\n",
        "<video width=\"960\" height=\"540\" controls>\n",
        "  <source src=\"{0}\">\n",
        "</video>\n",
        "\"\"\".format(video_output))\n",
        "\n"
      ],
      "execution_count": 0,
      "outputs": []
    },
    {
      "metadata": {
        "id": "NP8MM27tD-cQ",
        "colab_type": "code",
        "colab": {}
      },
      "cell_type": "code",
      "source": [
        "!git commit -m \"output video\""
      ],
      "execution_count": 0,
      "outputs": []
    },
    {
      "metadata": {
        "id": "cmxNADYUE40f",
        "colab_type": "code",
        "colab": {}
      },
      "cell_type": "code",
      "source": [
        "!git config --global user.email \"anupamb266@gmail.com\"\n",
        "! git config --global user.name \"anupamhap\""
      ],
      "execution_count": 0,
      "outputs": []
    },
    {
      "metadata": {
        "id": "WZjMwHIrFKih",
        "colab_type": "code",
        "colab": {}
      },
      "cell_type": "code",
      "source": [
        "!git push"
      ],
      "execution_count": 0,
      "outputs": []
    },
    {
      "metadata": {
        "id": "uedzWHq_FVJ3",
        "colab_type": "code",
        "colab": {
          "base_uri": "https://localhost:8080/",
          "height": 52
        },
        "outputId": "aa498e54-9cd2-4fe7-ca29-66b74d7e9fe5"
      },
      "cell_type": "code",
      "source": [
        "!ls"
      ],
      "execution_count": 0,
      "outputs": [
        {
          "output_type": "stream",
          "text": [
            "Crack_Detection\t\t   sewer_footage1\t      test_image1.png\r\n",
            "first working model.ipynb  sewer_footage1_output.mp4  Tree_Root_Detection\r\n"
          ],
          "name": "stdout"
        }
      ]
    },
    {
      "metadata": {
        "id": "LO9lG18FGm6a",
        "colab_type": "code",
        "colab": {}
      },
      "cell_type": "code",
      "source": [
        "from google.colab import files\n",
        "\n",
        "\n",
        "files.download('sewer_footage1_output.mp4')"
      ],
      "execution_count": 0,
      "outputs": []
    },
    {
      "metadata": {
        "id": "JmbQo1FFGsIZ",
        "colab_type": "code",
        "colab": {
          "base_uri": "https://localhost:8080/",
          "height": 69
        },
        "outputId": "4fb8d6c0-92a4-422a-e969-186c614cce58"
      },
      "cell_type": "code",
      "source": [
        "!git pull"
      ],
      "execution_count": 0,
      "outputs": [
        {
          "output_type": "stream",
          "text": [
            "fatal: cannot run editor: No such file or directory\r\n",
            "error: unable to start editor 'editor'\r\n",
            "Not committing merge; use 'git commit' to complete the merge.\r\n"
          ],
          "name": "stdout"
        }
      ]
    },
    {
      "metadata": {
        "id": "wJN9ZinCM4A5",
        "colab_type": "code",
        "colab": {
          "base_uri": "https://localhost:8080/",
          "height": 34
        },
        "outputId": "7c9d3e92-dd7b-4469-eb81-a68beec73ef1"
      },
      "cell_type": "code",
      "source": [
        "!git reset"
      ],
      "execution_count": 0,
      "outputs": [
        {
          "output_type": "stream",
          "text": [
            "Saved working directory and index state WIP on master: 905807b output video\r\n"
          ],
          "name": "stdout"
        }
      ]
    },
    {
      "metadata": {
        "id": "9XJ8Utx0NDpo",
        "colab_type": "code",
        "colab": {}
      },
      "cell_type": "code",
      "source": [
        ""
      ],
      "execution_count": 0,
      "outputs": []
    }
  ]
}